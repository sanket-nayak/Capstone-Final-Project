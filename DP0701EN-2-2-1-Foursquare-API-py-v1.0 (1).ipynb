{
 "cells": [
  {
   "cell_type": "markdown",
   "metadata": {
    "button": false,
    "deletable": true,
    "new_sheet": false,
    "run_control": {
     "read_only": false
    }
   },
   "source": [
    "## Table of Contents\n",
    "\n",
    "1. <a href=\"#item1\">Foursquare API Search Function</a>\n",
    "2. <a href=\"#item2\">Explore a Given Venue</a>  \n"
   ]
  },
  {
   "cell_type": "markdown",
   "metadata": {
    "button": false,
    "deletable": true,
    "new_sheet": false,
    "run_control": {
     "read_only": false
    }
   },
   "source": [
    "### Import necessary Libraries"
   ]
  },
  {
   "cell_type": "code",
   "execution_count": 1,
   "metadata": {
    "button": false,
    "collapsed": false,
    "deletable": true,
    "jupyter": {
     "outputs_hidden": false
    },
    "new_sheet": false,
    "run_control": {
     "read_only": false
    }
   },
   "outputs": [
    {
     "name": "stdout",
     "output_type": "stream",
     "text": [
      "Collecting package metadata (current_repodata.json): done\n",
      "Solving environment: done\n",
      "\n",
      "# All requested packages already installed.\n",
      "\n",
      "Collecting package metadata (current_repodata.json): done\n",
      "Solving environment: done\n",
      "\n",
      "# All requested packages already installed.\n",
      "\n",
      "Folium installed\n",
      "Libraries imported.\n"
     ]
    }
   ],
   "source": [
    "import requests # library to handle requests\n",
    "import pandas as pd # library for data analsysis\n",
    "import numpy as np # library to handle data in a vectorized manner\n",
    "import random # library for random number generation\n",
    "\n",
    "!conda install -c conda-forge geopy --yes \n",
    "from geopy.geocoders import Nominatim # module to convert an address into latitude and longitude values\n",
    "\n",
    "# libraries for displaying images\n",
    "from IPython.display import Image \n",
    "from IPython.core.display import HTML \n",
    "    \n",
    "# tranforming json file into a pandas dataframe library\n",
    "from pandas.io.json import json_normalize\n",
    "\n",
    "!conda install -c conda-forge folium=0.5.0 --yes\n",
    "import folium # plotting library\n",
    "\n",
    "print('Folium installed')\n",
    "print('Libraries imported.')"
   ]
  },
  {
   "cell_type": "markdown",
   "metadata": {
    "button": false,
    "deletable": true,
    "new_sheet": false,
    "run_control": {
     "read_only": false
    }
   },
   "source": [
    "### Define Foursquare Credentials and Version"
   ]
  },
  {
   "cell_type": "markdown",
   "metadata": {
    "button": false,
    "deletable": true,
    "new_sheet": false,
    "run_control": {
     "read_only": false
    }
   },
   "source": [
    "##### Make sure that you have created a Foursquare developer account and have your credentials handy"
   ]
  },
  {
   "cell_type": "code",
   "execution_count": 2,
   "metadata": {
    "button": false,
    "collapsed": false,
    "deletable": true,
    "jupyter": {
     "outputs_hidden": false
    },
    "new_sheet": false,
    "run_control": {
     "read_only": false
    }
   },
   "outputs": [
    {
     "name": "stdout",
     "output_type": "stream",
     "text": [
      "Your credentails:\n",
      "CLIENT_ID: 2VZS5MAVJTYL3FUGIJIILZ02BIYNCMGPYG3FVC40HZ2PCKNO\n",
      "CLIENT_SECRET:0MRQ4BZYFXNDOTHR5DCVMS1L22C4KHUQFIFWBTIUM21KS2I3\n"
     ]
    }
   ],
   "source": [
    "CLIENT_ID = '2VZS5MAVJTYL3FUGIJIILZ02BIYNCMGPYG3FVC40HZ2PCKNO' # your Foursquare ID\n",
    "CLIENT_SECRET = '0MRQ4BZYFXNDOTHR5DCVMS1L22C4KHUQFIFWBTIUM21KS2I3' # your Foursquare Secret\n",
    "VERSION = '20180604'\n",
    "LIMIT = 30\n",
    "print('Your credentails:')\n",
    "print('CLIENT_ID: ' + CLIENT_ID)\n",
    "print('CLIENT_SECRET:' + CLIENT_SECRET)"
   ]
  },
  {
   "cell_type": "markdown",
   "metadata": {
    "button": false,
    "deletable": true,
    "new_sheet": false,
    "run_control": {
     "read_only": false
    }
   },
   "source": [
    "  "
   ]
  },
  {
   "cell_type": "markdown",
   "metadata": {
    "button": false,
    "deletable": true,
    "new_sheet": false,
    "run_control": {
     "read_only": false
    }
   },
   "source": [
    "let's start by converting the Tourist's residence address to its latitude and longitude coordinates."
   ]
  },
  {
   "cell_type": "markdown",
   "metadata": {},
   "source": [
    "In order to define an instance of the geocoder, we need to define a user_agent. We will name our agent <em>foursquare_agent</em>, as shown below."
   ]
  },
  {
   "cell_type": "code",
   "execution_count": 3,
   "metadata": {
    "button": false,
    "collapsed": false,
    "deletable": true,
    "jupyter": {
     "outputs_hidden": false
    },
    "new_sheet": false,
    "run_control": {
     "read_only": false
    }
   },
   "outputs": [
    {
     "name": "stdout",
     "output_type": "stream",
     "text": [
      "40.7151482 -74.0156573\n"
     ]
    }
   ],
   "source": [
    "address = '102 North End Ave, New York, NY'\n",
    "\n",
    "geolocator = Nominatim(user_agent=\"foursquare_agent\")\n",
    "location = geolocator.geocode(address)\n",
    "latitude = location.latitude\n",
    "longitude = location.longitude\n",
    "print(latitude, longitude)"
   ]
  },
  {
   "cell_type": "markdown",
   "metadata": {
    "button": false,
    "deletable": true,
    "new_sheet": false,
    "run_control": {
     "read_only": false
    }
   },
   "source": [
    "   "
   ]
  },
  {
   "cell_type": "markdown",
   "metadata": {
    "button": false,
    "deletable": true,
    "new_sheet": false,
    "run_control": {
     "read_only": false
    }
   },
   "source": [
    "<a id=\"item1\"></a>"
   ]
  },
  {
   "cell_type": "markdown",
   "metadata": {
    "button": false,
    "deletable": true,
    "new_sheet": false,
    "run_control": {
     "read_only": false
    }
   },
   "source": [
    "## 1. Search for a specific venue category\n",
    "> `https://api.foursquare.com/v2/venues/`**search**`?client_id=`**CLIENT_ID**`&client_secret=`**CLIENT_SECRET**`&ll=`**LATITUDE**`,`**LONGITUDE**`&v=`**VERSION**`&query=`**QUERY**`&radius=`**RADIUS**`&limit=`**LIMIT**"
   ]
  },
  {
   "cell_type": "markdown",
   "metadata": {
    "button": false,
    "deletable": true,
    "new_sheet": false,
    "run_control": {
     "read_only": false
    }
   },
   "source": [
    "Search Medical Shops"
   ]
  },
  {
   "cell_type": "code",
   "execution_count": 17,
   "metadata": {
    "button": false,
    "collapsed": false,
    "deletable": true,
    "jupyter": {
     "outputs_hidden": false
    },
    "new_sheet": false,
    "run_control": {
     "read_only": false
    },
    "scrolled": true
   },
   "outputs": [
    {
     "name": "stdout",
     "output_type": "stream",
     "text": [
      "Medical Shops .... OK!\n"
     ]
    }
   ],
   "source": [
    "search_query = 'Medical Shops'\n",
    "radius = 500\n",
    "print(search_query + ' .... OK!')"
   ]
  },
  {
   "cell_type": "markdown",
   "metadata": {
    "button": false,
    "deletable": true,
    "new_sheet": false,
    "run_control": {
     "read_only": false
    }
   },
   "source": [
    "#### Define the corresponding URL"
   ]
  },
  {
   "cell_type": "code",
   "execution_count": 18,
   "metadata": {
    "button": false,
    "collapsed": false,
    "deletable": true,
    "jupyter": {
     "outputs_hidden": false
    },
    "new_sheet": false,
    "run_control": {
     "read_only": false
    }
   },
   "outputs": [
    {
     "data": {
      "text/plain": [
       "'https://api.foursquare.com/v2/venues/search?client_id=2VZS5MAVJTYL3FUGIJIILZ02BIYNCMGPYG3FVC40HZ2PCKNO&client_secret=0MRQ4BZYFXNDOTHR5DCVMS1L22C4KHUQFIFWBTIUM21KS2I3&ll=40.7151482,-74.0156573&v=20180604&query=Medical Shops&radius=500&limit=30'"
      ]
     },
     "execution_count": 18,
     "metadata": {},
     "output_type": "execute_result"
    }
   ],
   "source": [
    "url = 'https://api.foursquare.com/v2/venues/search?client_id={}&client_secret={}&ll={},{}&v={}&query={}&radius={}&limit={}'.format(CLIENT_ID, CLIENT_SECRET, latitude, longitude, VERSION, search_query, radius, LIMIT)\n",
    "url"
   ]
  },
  {
   "cell_type": "markdown",
   "metadata": {
    "button": false,
    "deletable": true,
    "new_sheet": false,
    "run_control": {
     "read_only": false
    }
   },
   "source": [
    "#### Send the GET Request and examine the results"
   ]
  },
  {
   "cell_type": "code",
   "execution_count": 19,
   "metadata": {
    "button": false,
    "collapsed": false,
    "deletable": true,
    "jupyter": {
     "outputs_hidden": false
    },
    "new_sheet": false,
    "run_control": {
     "read_only": false
    },
    "scrolled": true
   },
   "outputs": [
    {
     "data": {
      "text/plain": [
       "{'meta': {'code': 200, 'requestId': '5f15a3a79503fd4cb40017c2'},\n",
       " 'response': {'venues': [{'id': '4f6ba4f0e4b0e4284097c553',\n",
       "    'name': 'WFC Shops & Restaurants',\n",
       "    'location': {'lat': 40.714806415291534,\n",
       "     'lng': -74.01530299678807,\n",
       "     'labeledLatLngs': [{'label': 'display',\n",
       "       'lat': 40.714806415291534,\n",
       "       'lng': -74.01530299678807}],\n",
       "     'distance': 48,\n",
       "     'postalCode': '10280',\n",
       "     'cc': 'US',\n",
       "     'city': 'New York',\n",
       "     'state': 'NY',\n",
       "     'country': 'United States',\n",
       "     'formattedAddress': ['New York, NY 10280', 'United States']},\n",
       "    'categories': [{'id': '4bf58dd8d48988d120951735',\n",
       "      'name': 'Food Court',\n",
       "      'pluralName': 'Food Courts',\n",
       "      'shortName': 'Food Court',\n",
       "      'icon': {'prefix': 'https://ss3.4sqi.net/img/categories_v2/shops/food_foodcourt_',\n",
       "       'suffix': '.png'},\n",
       "      'primary': True}],\n",
       "    'referralId': 'v-1595253795',\n",
       "    'hasPerk': False},\n",
       "   {'id': '57a536b3498e0e2f401f97cb',\n",
       "    'name': 'One Medical',\n",
       "    'location': {'address': '25 Hudson St',\n",
       "     'lat': 40.71676152446622,\n",
       "     'lng': -74.009467817923,\n",
       "     'labeledLatLngs': [{'label': 'display',\n",
       "       'lat': 40.71676152446622,\n",
       "       'lng': -74.009467817923}],\n",
       "     'distance': 552,\n",
       "     'postalCode': '10013',\n",
       "     'cc': 'US',\n",
       "     'city': 'New York',\n",
       "     'state': 'NY',\n",
       "     'country': 'United States',\n",
       "     'formattedAddress': ['25 Hudson St',\n",
       "      'New York, NY 10013',\n",
       "      'United States']},\n",
       "    'categories': [{'id': '4bf58dd8d48988d177941735',\n",
       "      'name': \"Doctor's Office\",\n",
       "      'pluralName': \"Doctor's Offices\",\n",
       "      'shortName': \"Doctor's Office\",\n",
       "      'icon': {'prefix': 'https://ss3.4sqi.net/img/categories_v2/building/medical_doctorsoffice_',\n",
       "       'suffix': '.png'},\n",
       "      'primary': True}],\n",
       "    'referralId': 'v-1595253795',\n",
       "    'hasPerk': False},\n",
       "   {'id': '4b28fe5ef964a5201b9724e3',\n",
       "    'name': 'Tribeca Medical Center',\n",
       "    'location': {'lat': 40.71640108472187,\n",
       "     'lng': -74.0110911274948,\n",
       "     'labeledLatLngs': [{'label': 'display',\n",
       "       'lat': 40.71640108472187,\n",
       "       'lng': -74.0110911274948}],\n",
       "     'distance': 409,\n",
       "     'postalCode': '10013',\n",
       "     'cc': 'US',\n",
       "     'city': 'New York',\n",
       "     'state': 'NY',\n",
       "     'country': 'United States',\n",
       "     'formattedAddress': ['303 Greenwich St',\n",
       "      'New York, NY 10013',\n",
       "      'United States']},\n",
       "    'categories': [{'id': '4bf58dd8d48988d177941735',\n",
       "      'name': \"Doctor's Office\",\n",
       "      'pluralName': \"Doctor's Offices\",\n",
       "      'shortName': \"Doctor's Office\",\n",
       "      'icon': {'prefix': 'https://ss3.4sqi.net/img/categories_v2/building/medical_doctorsoffice_',\n",
       "       'suffix': '.png'},\n",
       "      'primary': True}],\n",
       "    'referralId': 'v-1595253795',\n",
       "    'hasPerk': False},\n",
       "   {'id': '59b689730d8a0f0528eadc81',\n",
       "    'name': 'Weill Cornell Medical Associates',\n",
       "    'location': {'address': '255 Greenwich St',\n",
       "     'lat': 40.714202,\n",
       "     'lng': -74.011018,\n",
       "     'labeledLatLngs': [{'label': 'display',\n",
       "       'lat': 40.714202,\n",
       "       'lng': -74.011018}],\n",
       "     'distance': 405,\n",
       "     'postalCode': '10007',\n",
       "     'cc': 'US',\n",
       "     'city': 'New York',\n",
       "     'state': 'NY',\n",
       "     'country': 'United States',\n",
       "     'formattedAddress': ['255 Greenwich St',\n",
       "      'New York, NY 10007',\n",
       "      'United States']},\n",
       "    'categories': [{'id': '4bf58dd8d48988d177941735',\n",
       "      'name': \"Doctor's Office\",\n",
       "      'pluralName': \"Doctor's Offices\",\n",
       "      'shortName': \"Doctor's Office\",\n",
       "      'icon': {'prefix': 'https://ss3.4sqi.net/img/categories_v2/building/medical_doctorsoffice_',\n",
       "       'suffix': '.png'},\n",
       "      'primary': True}],\n",
       "    'referralId': 'v-1595253795',\n",
       "    'hasPerk': False},\n",
       "   {'id': '4f32646319836c91c7d34de8',\n",
       "    'name': 'Godiva Chocolatier , Retail Shops',\n",
       "    'location': {'address': '2 World Financial Ctr',\n",
       "     'lat': 40.7122,\n",
       "     'lng': -74.014297,\n",
       "     'labeledLatLngs': [{'label': 'display',\n",
       "       'lat': 40.7122,\n",
       "       'lng': -74.014297}],\n",
       "     'distance': 347,\n",
       "     'postalCode': '10281',\n",
       "     'cc': 'US',\n",
       "     'city': 'New York',\n",
       "     'state': 'NY',\n",
       "     'country': 'United States',\n",
       "     'formattedAddress': ['2 World Financial Ctr',\n",
       "      'New York, NY 10281',\n",
       "      'United States']},\n",
       "    'categories': [{'id': '52f2ab2ebcbc57f1066b8b31',\n",
       "      'name': 'Chocolate Shop',\n",
       "      'pluralName': 'Chocolate Shops',\n",
       "      'shortName': 'Chocolate Shop',\n",
       "      'icon': {'prefix': 'https://ss3.4sqi.net/img/categories_v2/shops/candystore_',\n",
       "       'suffix': '.png'},\n",
       "      'primary': True}],\n",
       "    'referralId': 'v-1595253795',\n",
       "    'hasPerk': False},\n",
       "   {'id': '52869ab511d20a0ad260a9f8',\n",
       "    'name': 'Amex Shop Small Town Square',\n",
       "    'location': {'lat': 40.71395398461207,\n",
       "     'lng': -74.01417831053274,\n",
       "     'labeledLatLngs': [{'label': 'display',\n",
       "       'lat': 40.71395398461207,\n",
       "       'lng': -74.01417831053274}],\n",
       "     'distance': 182,\n",
       "     'postalCode': '10281',\n",
       "     'cc': 'US',\n",
       "     'city': 'New York',\n",
       "     'state': 'NY',\n",
       "     'country': 'United States',\n",
       "     'formattedAddress': ['New York, NY 10281', 'United States']},\n",
       "    'categories': [{'id': '4f2a25ac4b909258e854f55f',\n",
       "      'name': 'Neighborhood',\n",
       "      'pluralName': 'Neighborhoods',\n",
       "      'shortName': 'Neighborhood',\n",
       "      'icon': {'prefix': 'https://ss3.4sqi.net/img/categories_v2/parks_outdoors/neighborhood_',\n",
       "       'suffix': '.png'},\n",
       "      'primary': True}],\n",
       "    'referralId': 'v-1595253795',\n",
       "    'hasPerk': False},\n",
       "   {'id': '4ec3c9d74901dfe99bec0f4e',\n",
       "    'name': 'Broadway Panhandler @ Shop Small Pop-Up Mall',\n",
       "    'location': {'lat': 40.71620884745804,\n",
       "     'lng': -74.01436193323086,\n",
       "     'labeledLatLngs': [{'label': 'display',\n",
       "       'lat': 40.71620884745804,\n",
       "       'lng': -74.01436193323086}],\n",
       "     'distance': 160,\n",
       "     'postalCode': '10282',\n",
       "     'cc': 'US',\n",
       "     'city': 'New York',\n",
       "     'state': 'NY',\n",
       "     'country': 'United States',\n",
       "     'formattedAddress': ['New York, NY 10282', 'United States']},\n",
       "    'categories': [{'id': '4d954b0ea243a5684a65b473',\n",
       "      'name': 'Convenience Store',\n",
       "      'pluralName': 'Convenience Stores',\n",
       "      'shortName': 'Convenience Store',\n",
       "      'icon': {'prefix': 'https://ss3.4sqi.net/img/categories_v2/shops/conveniencestore_',\n",
       "       'suffix': '.png'},\n",
       "      'primary': True}],\n",
       "    'referralId': 'v-1595253795',\n",
       "    'hasPerk': False},\n",
       "   {'id': '4ec3d354d5fb255ab4169d1c',\n",
       "    'name': 'Red Flower @ Shop Small Pop-Up Mall',\n",
       "    'location': {'address': '200 Vesey St',\n",
       "     'crossStreet': 'Lobby',\n",
       "     'lat': 40.71377691776341,\n",
       "     'lng': -74.01497840881348,\n",
       "     'labeledLatLngs': [{'label': 'display',\n",
       "       'lat': 40.71377691776341,\n",
       "       'lng': -74.01497840881348}],\n",
       "     'distance': 163,\n",
       "     'postalCode': '10281',\n",
       "     'cc': 'US',\n",
       "     'city': 'New York',\n",
       "     'state': 'NY',\n",
       "     'country': 'United States',\n",
       "     'formattedAddress': ['200 Vesey St (Lobby)',\n",
       "      'New York, NY 10281',\n",
       "      'United States']},\n",
       "    'categories': [{'id': '4bf58dd8d48988d10c951735',\n",
       "      'name': 'Cosmetics Shop',\n",
       "      'pluralName': 'Cosmetics Shops',\n",
       "      'shortName': 'Cosmetics',\n",
       "      'icon': {'prefix': 'https://ss3.4sqi.net/img/categories_v2/shops/beauty_cosmetic_',\n",
       "       'suffix': '.png'},\n",
       "      'primary': True}],\n",
       "    'referralId': 'v-1595253795',\n",
       "    'hasPerk': False},\n",
       "   {'id': '4da7427b5da37feee89aad05',\n",
       "    'name': 'Emergency Medical Care',\n",
       "    'location': {'address': '200 Chambers St',\n",
       "     'crossStreet': 'btwn Greenwich and West St',\n",
       "     'lat': 40.71657943725586,\n",
       "     'lng': -74.01239013671875,\n",
       "     'labeledLatLngs': [{'label': 'display',\n",
       "       'lat': 40.71657943725586,\n",
       "       'lng': -74.01239013671875}],\n",
       "     'distance': 318,\n",
       "     'postalCode': '10007',\n",
       "     'cc': 'US',\n",
       "     'city': 'New York',\n",
       "     'state': 'NY',\n",
       "     'country': 'United States',\n",
       "     'formattedAddress': ['200 Chambers St (btwn Greenwich and West St)',\n",
       "      'New York, NY 10007',\n",
       "      'United States']},\n",
       "    'categories': [{'id': '4bf58dd8d48988d177941735',\n",
       "      'name': \"Doctor's Office\",\n",
       "      'pluralName': \"Doctor's Offices\",\n",
       "      'shortName': \"Doctor's Office\",\n",
       "      'icon': {'prefix': 'https://ss3.4sqi.net/img/categories_v2/building/medical_doctorsoffice_',\n",
       "       'suffix': '.png'},\n",
       "      'primary': True}],\n",
       "    'venuePage': {'id': '34238946'},\n",
       "    'referralId': 'v-1595253795',\n",
       "    'hasPerk': False},\n",
       "   {'id': '4ec3c83af5b9f024dfe9a561',\n",
       "    'name': 'Morris Kitchen @ Shop Small Pop-Up Mall',\n",
       "    'location': {'lat': 40.713951,\n",
       "     'lng': -74.013248,\n",
       "     'labeledLatLngs': [{'label': 'display',\n",
       "       'lat': 40.713951,\n",
       "       'lng': -74.013248}],\n",
       "     'distance': 243,\n",
       "     'postalCode': '10282',\n",
       "     'cc': 'US',\n",
       "     'city': 'New York',\n",
       "     'state': 'NY',\n",
       "     'country': 'United States',\n",
       "     'formattedAddress': ['New York, NY 10282', 'United States']},\n",
       "    'categories': [{'id': '4bf58dd8d48988d1f5941735',\n",
       "      'name': 'Gourmet Shop',\n",
       "      'pluralName': 'Gourmet Shops',\n",
       "      'shortName': 'Gourmet',\n",
       "      'icon': {'prefix': 'https://ss3.4sqi.net/img/categories_v2/shops/food_gourmet_',\n",
       "       'suffix': '.png'},\n",
       "      'primary': True}],\n",
       "    'referralId': 'v-1595253795',\n",
       "    'hasPerk': False},\n",
       "   {'id': '4ec3c2a2e5fa690c1ee3e62e',\n",
       "    'name': 'Shop Small Pop-Up Mall',\n",
       "    'location': {'lat': 40.71312797813334,\n",
       "     'lng': -74.01336922091687,\n",
       "     'labeledLatLngs': [{'label': 'display',\n",
       "       'lat': 40.71312797813334,\n",
       "       'lng': -74.01336922091687}],\n",
       "     'distance': 296,\n",
       "     'postalCode': '10280',\n",
       "     'cc': 'US',\n",
       "     'city': 'New York',\n",
       "     'state': 'NY',\n",
       "     'country': 'United States',\n",
       "     'formattedAddress': ['New York, NY 10280', 'United States']},\n",
       "    'categories': [{'id': '4bf58dd8d48988d1fd941735',\n",
       "      'name': 'Shopping Mall',\n",
       "      'pluralName': 'Shopping Malls',\n",
       "      'shortName': 'Mall',\n",
       "      'icon': {'prefix': 'https://ss3.4sqi.net/img/categories_v2/shops/mall_',\n",
       "       'suffix': '.png'},\n",
       "      'primary': True}],\n",
       "    'referralId': 'v-1595253795',\n",
       "    'hasPerk': False},\n",
       "   {'id': '4ec3c5e6e5fa690c1ee5f8ab',\n",
       "    'name': 'Atrium Books @ Shop Small Pop-Up Mall',\n",
       "    'location': {'lat': 40.71319768721049,\n",
       "     'lng': -74.01398433456029,\n",
       "     'labeledLatLngs': [{'label': 'display',\n",
       "       'lat': 40.71319768721049,\n",
       "       'lng': -74.01398433456029}],\n",
       "     'distance': 258,\n",
       "     'postalCode': '10007',\n",
       "     'cc': 'US',\n",
       "     'city': 'New York',\n",
       "     'state': 'NY',\n",
       "     'country': 'United States',\n",
       "     'formattedAddress': ['New York, NY 10007', 'United States']},\n",
       "    'categories': [{'id': '4bf58dd8d48988d114951735',\n",
       "      'name': 'Bookstore',\n",
       "      'pluralName': 'Bookstores',\n",
       "      'shortName': 'Bookstore',\n",
       "      'icon': {'prefix': 'https://ss3.4sqi.net/img/categories_v2/shops/bookstore_',\n",
       "       'suffix': '.png'},\n",
       "      'primary': True}],\n",
       "    'referralId': 'v-1595253795',\n",
       "    'hasPerk': False},\n",
       "   {'id': '4ec3c8d28b8132e083478aaf',\n",
       "    'name': 'AC Gears @ Shop Small Pop-Up Mall',\n",
       "    'location': {'lat': 40.71378289145128,\n",
       "     'lng': -74.01324871791493,\n",
       "     'labeledLatLngs': [{'label': 'display',\n",
       "       'lat': 40.71378289145128,\n",
       "       'lng': -74.01324871791493}],\n",
       "     'distance': 253,\n",
       "     'postalCode': '10282',\n",
       "     'cc': 'US',\n",
       "     'city': 'New York',\n",
       "     'state': 'NY',\n",
       "     'country': 'United States',\n",
       "     'formattedAddress': ['New York, NY 10282', 'United States']},\n",
       "    'categories': [{'id': '4bf58dd8d48988d1f3941735',\n",
       "      'name': 'Toy / Game Store',\n",
       "      'pluralName': 'Toy / Game Stores',\n",
       "      'shortName': 'Toys & Games',\n",
       "      'icon': {'prefix': 'https://ss3.4sqi.net/img/categories_v2/shops/toys_',\n",
       "       'suffix': '.png'},\n",
       "      'primary': True}],\n",
       "    'referralId': 'v-1595253795',\n",
       "    'hasPerk': False},\n",
       "   {'id': '4ec3cc0be30095d118ec9891',\n",
       "    'name': 'Bonnie Marcus Collection @ Shop Small Pop-Up Mall',\n",
       "    'location': {'lat': 40.714349176566685,\n",
       "     'lng': -74.01282982593597,\n",
       "     'labeledLatLngs': [{'label': 'display',\n",
       "       'lat': 40.714349176566685,\n",
       "       'lng': -74.01282982593597}],\n",
       "     'distance': 254,\n",
       "     'postalCode': '10282',\n",
       "     'cc': 'US',\n",
       "     'city': 'New York',\n",
       "     'state': 'NY',\n",
       "     'country': 'United States',\n",
       "     'formattedAddress': ['New York, NY 10282', 'United States']},\n",
       "    'categories': [{'id': '4bf58dd8d48988d127951735',\n",
       "      'name': 'Arts & Crafts Store',\n",
       "      'pluralName': 'Arts & Crafts Stores',\n",
       "      'shortName': 'Arts & Crafts',\n",
       "      'icon': {'prefix': 'https://ss3.4sqi.net/img/categories_v2/shops/artstore_',\n",
       "       'suffix': '.png'},\n",
       "      'primary': True}],\n",
       "    'referralId': 'v-1595253795',\n",
       "    'hasPerk': False},\n",
       "   {'id': '4ec3cb4ff5b9f024dfeb8946',\n",
       "    'name': 'Hugs To Go @ Shop Small Pop-Up Mall',\n",
       "    'location': {'lat': 40.71684813399178,\n",
       "     'lng': -74.01294459095305,\n",
       "     'labeledLatLngs': [{'label': 'display',\n",
       "       'lat': 40.71684813399178,\n",
       "       'lng': -74.01294459095305}],\n",
       "     'distance': 296,\n",
       "     'postalCode': '10282',\n",
       "     'cc': 'US',\n",
       "     'city': 'New York',\n",
       "     'state': 'NY',\n",
       "     'country': 'United States',\n",
       "     'formattedAddress': ['New York, NY 10282', 'United States']},\n",
       "    'categories': [{'id': '4bf58dd8d48988d1f3941735',\n",
       "      'name': 'Toy / Game Store',\n",
       "      'pluralName': 'Toy / Game Stores',\n",
       "      'shortName': 'Toys & Games',\n",
       "      'icon': {'prefix': 'https://ss3.4sqi.net/img/categories_v2/shops/toys_',\n",
       "       'suffix': '.png'},\n",
       "      'primary': True}],\n",
       "    'referralId': 'v-1595253795',\n",
       "    'hasPerk': False},\n",
       "   {'id': '4ec3c89be30095d118ea7341',\n",
       "    'name': 'Vosges Haut Chocolat @ Shop Small Pop-Up Mall',\n",
       "    'location': {'lat': 40.712936769602,\n",
       "     'lng': -74.01303066467062,\n",
       "     'labeledLatLngs': [{'label': 'display',\n",
       "       'lat': 40.712936769602,\n",
       "       'lng': -74.01303066467062}],\n",
       "     'distance': 331,\n",
       "     'postalCode': '10282',\n",
       "     'cc': 'US',\n",
       "     'city': 'New York',\n",
       "     'state': 'NY',\n",
       "     'country': 'United States',\n",
       "     'formattedAddress': ['New York, NY 10282', 'United States']},\n",
       "    'categories': [{'id': '4bf58dd8d48988d1f5941735',\n",
       "      'name': 'Gourmet Shop',\n",
       "      'pluralName': 'Gourmet Shops',\n",
       "      'shortName': 'Gourmet',\n",
       "      'icon': {'prefix': 'https://ss3.4sqi.net/img/categories_v2/shops/food_gourmet_',\n",
       "       'suffix': '.png'},\n",
       "      'primary': True}],\n",
       "    'referralId': 'v-1595253795',\n",
       "    'hasPerk': False},\n",
       "   {'id': '50aa6c1c498eeb8d61e94d01',\n",
       "    'name': 'Shop Small Village',\n",
       "    'location': {'lat': 40.71208996895345,\n",
       "     'lng': -74.01340365033204,\n",
       "     'labeledLatLngs': [{'label': 'display',\n",
       "       'lat': 40.71208996895345,\n",
       "       'lng': -74.01340365033204}],\n",
       "     'distance': 389,\n",
       "     'postalCode': '10280',\n",
       "     'cc': 'US',\n",
       "     'city': 'New York',\n",
       "     'state': 'NY',\n",
       "     'country': 'United States',\n",
       "     'formattedAddress': ['New York, NY 10280', 'United States']},\n",
       "    'categories': [{'id': '4bf58dd8d48988d1f1931735',\n",
       "      'name': 'General Entertainment',\n",
       "      'pluralName': 'General Entertainment',\n",
       "      'shortName': 'Entertainment',\n",
       "      'icon': {'prefix': 'https://ss3.4sqi.net/img/categories_v2/arts_entertainment/default_',\n",
       "       'suffix': '.png'},\n",
       "      'primary': True}],\n",
       "    'referralId': 'v-1595253795',\n",
       "    'hasPerk': False},\n",
       "   {'id': '4ec3cbcbbe7b4ee610ddf481',\n",
       "    'name': 'Amy + Owen @ Shop Small Pop-Up Mall',\n",
       "    'location': {'lat': 40.71138012891492,\n",
       "     'lng': -74.01391435259495,\n",
       "     'labeledLatLngs': [{'label': 'display',\n",
       "       'lat': 40.71138012891492,\n",
       "       'lng': -74.01391435259495}],\n",
       "     'distance': 444,\n",
       "     'postalCode': '10282',\n",
       "     'cc': 'US',\n",
       "     'city': 'New York',\n",
       "     'state': 'NY',\n",
       "     'country': 'United States',\n",
       "     'formattedAddress': ['New York, NY 10282', 'United States']},\n",
       "    'categories': [{'id': '4bf58dd8d48988d101951735',\n",
       "      'name': 'Thrift / Vintage Store',\n",
       "      'pluralName': 'Thrift / Vintage Stores',\n",
       "      'shortName': 'Thrift / Vintage',\n",
       "      'icon': {'prefix': 'https://ss3.4sqi.net/img/categories_v2/shops/default_',\n",
       "       'suffix': '.png'},\n",
       "      'primary': True}],\n",
       "    'referralId': 'v-1595253795',\n",
       "    'hasPerk': False}]}}"
      ]
     },
     "execution_count": 19,
     "metadata": {},
     "output_type": "execute_result"
    }
   ],
   "source": [
    "results = requests.get(url).json()\n",
    "results"
   ]
  },
  {
   "cell_type": "markdown",
   "metadata": {
    "button": false,
    "deletable": true,
    "new_sheet": false,
    "run_control": {
     "read_only": false
    }
   },
   "source": [
    "#### Get relevant part of JSON and transform it into a *pandas* dataframe"
   ]
  },
  {
   "cell_type": "code",
   "execution_count": 20,
   "metadata": {
    "button": false,
    "collapsed": false,
    "deletable": true,
    "jupyter": {
     "outputs_hidden": false
    },
    "new_sheet": false,
    "run_control": {
     "read_only": false
    }
   },
   "outputs": [
    {
     "name": "stderr",
     "output_type": "stream",
     "text": [
      "/home/jupyterlab/conda/envs/python/lib/python3.6/site-packages/ipykernel_launcher.py:5: FutureWarning: pandas.io.json.json_normalize is deprecated, use pandas.json_normalize instead\n",
      "  \"\"\"\n"
     ]
    },
    {
     "data": {
      "text/html": [
       "<div>\n",
       "<style scoped>\n",
       "    .dataframe tbody tr th:only-of-type {\n",
       "        vertical-align: middle;\n",
       "    }\n",
       "\n",
       "    .dataframe tbody tr th {\n",
       "        vertical-align: top;\n",
       "    }\n",
       "\n",
       "    .dataframe thead th {\n",
       "        text-align: right;\n",
       "    }\n",
       "</style>\n",
       "<table border=\"1\" class=\"dataframe\">\n",
       "  <thead>\n",
       "    <tr style=\"text-align: right;\">\n",
       "      <th></th>\n",
       "      <th>id</th>\n",
       "      <th>name</th>\n",
       "      <th>categories</th>\n",
       "      <th>referralId</th>\n",
       "      <th>hasPerk</th>\n",
       "      <th>location.lat</th>\n",
       "      <th>location.lng</th>\n",
       "      <th>location.labeledLatLngs</th>\n",
       "      <th>location.distance</th>\n",
       "      <th>location.postalCode</th>\n",
       "      <th>location.cc</th>\n",
       "      <th>location.city</th>\n",
       "      <th>location.state</th>\n",
       "      <th>location.country</th>\n",
       "      <th>location.formattedAddress</th>\n",
       "      <th>location.address</th>\n",
       "      <th>location.crossStreet</th>\n",
       "      <th>venuePage.id</th>\n",
       "    </tr>\n",
       "  </thead>\n",
       "  <tbody>\n",
       "    <tr>\n",
       "      <th>0</th>\n",
       "      <td>4f6ba4f0e4b0e4284097c553</td>\n",
       "      <td>WFC Shops &amp; Restaurants</td>\n",
       "      <td>[{'id': '4bf58dd8d48988d120951735', 'name': 'F...</td>\n",
       "      <td>v-1595253795</td>\n",
       "      <td>False</td>\n",
       "      <td>40.714806</td>\n",
       "      <td>-74.015303</td>\n",
       "      <td>[{'label': 'display', 'lat': 40.71480641529153...</td>\n",
       "      <td>48</td>\n",
       "      <td>10280</td>\n",
       "      <td>US</td>\n",
       "      <td>New York</td>\n",
       "      <td>NY</td>\n",
       "      <td>United States</td>\n",
       "      <td>[New York, NY 10280, United States]</td>\n",
       "      <td>NaN</td>\n",
       "      <td>NaN</td>\n",
       "      <td>NaN</td>\n",
       "    </tr>\n",
       "    <tr>\n",
       "      <th>1</th>\n",
       "      <td>57a536b3498e0e2f401f97cb</td>\n",
       "      <td>One Medical</td>\n",
       "      <td>[{'id': '4bf58dd8d48988d177941735', 'name': 'D...</td>\n",
       "      <td>v-1595253795</td>\n",
       "      <td>False</td>\n",
       "      <td>40.716762</td>\n",
       "      <td>-74.009468</td>\n",
       "      <td>[{'label': 'display', 'lat': 40.71676152446622...</td>\n",
       "      <td>552</td>\n",
       "      <td>10013</td>\n",
       "      <td>US</td>\n",
       "      <td>New York</td>\n",
       "      <td>NY</td>\n",
       "      <td>United States</td>\n",
       "      <td>[25 Hudson St, New York, NY 10013, United States]</td>\n",
       "      <td>25 Hudson St</td>\n",
       "      <td>NaN</td>\n",
       "      <td>NaN</td>\n",
       "    </tr>\n",
       "    <tr>\n",
       "      <th>2</th>\n",
       "      <td>4b28fe5ef964a5201b9724e3</td>\n",
       "      <td>Tribeca Medical Center</td>\n",
       "      <td>[{'id': '4bf58dd8d48988d177941735', 'name': 'D...</td>\n",
       "      <td>v-1595253795</td>\n",
       "      <td>False</td>\n",
       "      <td>40.716401</td>\n",
       "      <td>-74.011091</td>\n",
       "      <td>[{'label': 'display', 'lat': 40.71640108472187...</td>\n",
       "      <td>409</td>\n",
       "      <td>10013</td>\n",
       "      <td>US</td>\n",
       "      <td>New York</td>\n",
       "      <td>NY</td>\n",
       "      <td>United States</td>\n",
       "      <td>[303 Greenwich St, New York, NY 10013, United ...</td>\n",
       "      <td>NaN</td>\n",
       "      <td>NaN</td>\n",
       "      <td>NaN</td>\n",
       "    </tr>\n",
       "    <tr>\n",
       "      <th>3</th>\n",
       "      <td>59b689730d8a0f0528eadc81</td>\n",
       "      <td>Weill Cornell Medical Associates</td>\n",
       "      <td>[{'id': '4bf58dd8d48988d177941735', 'name': 'D...</td>\n",
       "      <td>v-1595253795</td>\n",
       "      <td>False</td>\n",
       "      <td>40.714202</td>\n",
       "      <td>-74.011018</td>\n",
       "      <td>[{'label': 'display', 'lat': 40.714202, 'lng':...</td>\n",
       "      <td>405</td>\n",
       "      <td>10007</td>\n",
       "      <td>US</td>\n",
       "      <td>New York</td>\n",
       "      <td>NY</td>\n",
       "      <td>United States</td>\n",
       "      <td>[255 Greenwich St, New York, NY 10007, United ...</td>\n",
       "      <td>255 Greenwich St</td>\n",
       "      <td>NaN</td>\n",
       "      <td>NaN</td>\n",
       "    </tr>\n",
       "    <tr>\n",
       "      <th>4</th>\n",
       "      <td>4f32646319836c91c7d34de8</td>\n",
       "      <td>Godiva Chocolatier , Retail Shops</td>\n",
       "      <td>[{'id': '52f2ab2ebcbc57f1066b8b31', 'name': 'C...</td>\n",
       "      <td>v-1595253795</td>\n",
       "      <td>False</td>\n",
       "      <td>40.712200</td>\n",
       "      <td>-74.014297</td>\n",
       "      <td>[{'label': 'display', 'lat': 40.7122, 'lng': -...</td>\n",
       "      <td>347</td>\n",
       "      <td>10281</td>\n",
       "      <td>US</td>\n",
       "      <td>New York</td>\n",
       "      <td>NY</td>\n",
       "      <td>United States</td>\n",
       "      <td>[2 World Financial Ctr, New York, NY 10281, Un...</td>\n",
       "      <td>2 World Financial Ctr</td>\n",
       "      <td>NaN</td>\n",
       "      <td>NaN</td>\n",
       "    </tr>\n",
       "  </tbody>\n",
       "</table>\n",
       "</div>"
      ],
      "text/plain": [
       "                         id                               name  \\\n",
       "0  4f6ba4f0e4b0e4284097c553            WFC Shops & Restaurants   \n",
       "1  57a536b3498e0e2f401f97cb                        One Medical   \n",
       "2  4b28fe5ef964a5201b9724e3             Tribeca Medical Center   \n",
       "3  59b689730d8a0f0528eadc81   Weill Cornell Medical Associates   \n",
       "4  4f32646319836c91c7d34de8  Godiva Chocolatier , Retail Shops   \n",
       "\n",
       "                                          categories    referralId  hasPerk  \\\n",
       "0  [{'id': '4bf58dd8d48988d120951735', 'name': 'F...  v-1595253795    False   \n",
       "1  [{'id': '4bf58dd8d48988d177941735', 'name': 'D...  v-1595253795    False   \n",
       "2  [{'id': '4bf58dd8d48988d177941735', 'name': 'D...  v-1595253795    False   \n",
       "3  [{'id': '4bf58dd8d48988d177941735', 'name': 'D...  v-1595253795    False   \n",
       "4  [{'id': '52f2ab2ebcbc57f1066b8b31', 'name': 'C...  v-1595253795    False   \n",
       "\n",
       "   location.lat  location.lng  \\\n",
       "0     40.714806    -74.015303   \n",
       "1     40.716762    -74.009468   \n",
       "2     40.716401    -74.011091   \n",
       "3     40.714202    -74.011018   \n",
       "4     40.712200    -74.014297   \n",
       "\n",
       "                             location.labeledLatLngs  location.distance  \\\n",
       "0  [{'label': 'display', 'lat': 40.71480641529153...                 48   \n",
       "1  [{'label': 'display', 'lat': 40.71676152446622...                552   \n",
       "2  [{'label': 'display', 'lat': 40.71640108472187...                409   \n",
       "3  [{'label': 'display', 'lat': 40.714202, 'lng':...                405   \n",
       "4  [{'label': 'display', 'lat': 40.7122, 'lng': -...                347   \n",
       "\n",
       "  location.postalCode location.cc location.city location.state  \\\n",
       "0               10280          US      New York             NY   \n",
       "1               10013          US      New York             NY   \n",
       "2               10013          US      New York             NY   \n",
       "3               10007          US      New York             NY   \n",
       "4               10281          US      New York             NY   \n",
       "\n",
       "  location.country                          location.formattedAddress  \\\n",
       "0    United States                [New York, NY 10280, United States]   \n",
       "1    United States  [25 Hudson St, New York, NY 10013, United States]   \n",
       "2    United States  [303 Greenwich St, New York, NY 10013, United ...   \n",
       "3    United States  [255 Greenwich St, New York, NY 10007, United ...   \n",
       "4    United States  [2 World Financial Ctr, New York, NY 10281, Un...   \n",
       "\n",
       "        location.address location.crossStreet venuePage.id  \n",
       "0                    NaN                  NaN          NaN  \n",
       "1           25 Hudson St                  NaN          NaN  \n",
       "2                    NaN                  NaN          NaN  \n",
       "3       255 Greenwich St                  NaN          NaN  \n",
       "4  2 World Financial Ctr                  NaN          NaN  "
      ]
     },
     "execution_count": 20,
     "metadata": {},
     "output_type": "execute_result"
    }
   ],
   "source": [
    "# assign relevant part of JSON to venues\n",
    "venues = results['response']['venues']\n",
    "\n",
    "# tranform venues into a dataframe\n",
    "dataframe = json_normalize(venues)\n",
    "dataframe.head()"
   ]
  },
  {
   "cell_type": "markdown",
   "metadata": {
    "button": false,
    "deletable": true,
    "new_sheet": false,
    "run_control": {
     "read_only": false
    }
   },
   "source": [
    "#### Define information of interest and filter dataframe"
   ]
  },
  {
   "cell_type": "code",
   "execution_count": 21,
   "metadata": {
    "button": false,
    "collapsed": false,
    "deletable": true,
    "jupyter": {
     "outputs_hidden": false
    },
    "new_sheet": false,
    "run_control": {
     "read_only": false
    },
    "scrolled": true
   },
   "outputs": [
    {
     "data": {
      "text/html": [
       "<div>\n",
       "<style scoped>\n",
       "    .dataframe tbody tr th:only-of-type {\n",
       "        vertical-align: middle;\n",
       "    }\n",
       "\n",
       "    .dataframe tbody tr th {\n",
       "        vertical-align: top;\n",
       "    }\n",
       "\n",
       "    .dataframe thead th {\n",
       "        text-align: right;\n",
       "    }\n",
       "</style>\n",
       "<table border=\"1\" class=\"dataframe\">\n",
       "  <thead>\n",
       "    <tr style=\"text-align: right;\">\n",
       "      <th></th>\n",
       "      <th>name</th>\n",
       "      <th>categories</th>\n",
       "      <th>lat</th>\n",
       "      <th>lng</th>\n",
       "      <th>labeledLatLngs</th>\n",
       "      <th>distance</th>\n",
       "      <th>postalCode</th>\n",
       "      <th>cc</th>\n",
       "      <th>city</th>\n",
       "      <th>state</th>\n",
       "      <th>country</th>\n",
       "      <th>formattedAddress</th>\n",
       "      <th>address</th>\n",
       "      <th>crossStreet</th>\n",
       "      <th>id</th>\n",
       "    </tr>\n",
       "  </thead>\n",
       "  <tbody>\n",
       "    <tr>\n",
       "      <th>0</th>\n",
       "      <td>WFC Shops &amp; Restaurants</td>\n",
       "      <td>Food Court</td>\n",
       "      <td>40.714806</td>\n",
       "      <td>-74.015303</td>\n",
       "      <td>[{'label': 'display', 'lat': 40.71480641529153...</td>\n",
       "      <td>48</td>\n",
       "      <td>10280</td>\n",
       "      <td>US</td>\n",
       "      <td>New York</td>\n",
       "      <td>NY</td>\n",
       "      <td>United States</td>\n",
       "      <td>[New York, NY 10280, United States]</td>\n",
       "      <td>NaN</td>\n",
       "      <td>NaN</td>\n",
       "      <td>4f6ba4f0e4b0e4284097c553</td>\n",
       "    </tr>\n",
       "    <tr>\n",
       "      <th>1</th>\n",
       "      <td>One Medical</td>\n",
       "      <td>Doctor's Office</td>\n",
       "      <td>40.716762</td>\n",
       "      <td>-74.009468</td>\n",
       "      <td>[{'label': 'display', 'lat': 40.71676152446622...</td>\n",
       "      <td>552</td>\n",
       "      <td>10013</td>\n",
       "      <td>US</td>\n",
       "      <td>New York</td>\n",
       "      <td>NY</td>\n",
       "      <td>United States</td>\n",
       "      <td>[25 Hudson St, New York, NY 10013, United States]</td>\n",
       "      <td>25 Hudson St</td>\n",
       "      <td>NaN</td>\n",
       "      <td>57a536b3498e0e2f401f97cb</td>\n",
       "    </tr>\n",
       "    <tr>\n",
       "      <th>2</th>\n",
       "      <td>Tribeca Medical Center</td>\n",
       "      <td>Doctor's Office</td>\n",
       "      <td>40.716401</td>\n",
       "      <td>-74.011091</td>\n",
       "      <td>[{'label': 'display', 'lat': 40.71640108472187...</td>\n",
       "      <td>409</td>\n",
       "      <td>10013</td>\n",
       "      <td>US</td>\n",
       "      <td>New York</td>\n",
       "      <td>NY</td>\n",
       "      <td>United States</td>\n",
       "      <td>[303 Greenwich St, New York, NY 10013, United ...</td>\n",
       "      <td>NaN</td>\n",
       "      <td>NaN</td>\n",
       "      <td>4b28fe5ef964a5201b9724e3</td>\n",
       "    </tr>\n",
       "    <tr>\n",
       "      <th>3</th>\n",
       "      <td>Weill Cornell Medical Associates</td>\n",
       "      <td>Doctor's Office</td>\n",
       "      <td>40.714202</td>\n",
       "      <td>-74.011018</td>\n",
       "      <td>[{'label': 'display', 'lat': 40.714202, 'lng':...</td>\n",
       "      <td>405</td>\n",
       "      <td>10007</td>\n",
       "      <td>US</td>\n",
       "      <td>New York</td>\n",
       "      <td>NY</td>\n",
       "      <td>United States</td>\n",
       "      <td>[255 Greenwich St, New York, NY 10007, United ...</td>\n",
       "      <td>255 Greenwich St</td>\n",
       "      <td>NaN</td>\n",
       "      <td>59b689730d8a0f0528eadc81</td>\n",
       "    </tr>\n",
       "    <tr>\n",
       "      <th>4</th>\n",
       "      <td>Godiva Chocolatier , Retail Shops</td>\n",
       "      <td>Chocolate Shop</td>\n",
       "      <td>40.712200</td>\n",
       "      <td>-74.014297</td>\n",
       "      <td>[{'label': 'display', 'lat': 40.7122, 'lng': -...</td>\n",
       "      <td>347</td>\n",
       "      <td>10281</td>\n",
       "      <td>US</td>\n",
       "      <td>New York</td>\n",
       "      <td>NY</td>\n",
       "      <td>United States</td>\n",
       "      <td>[2 World Financial Ctr, New York, NY 10281, Un...</td>\n",
       "      <td>2 World Financial Ctr</td>\n",
       "      <td>NaN</td>\n",
       "      <td>4f32646319836c91c7d34de8</td>\n",
       "    </tr>\n",
       "    <tr>\n",
       "      <th>5</th>\n",
       "      <td>Amex Shop Small Town Square</td>\n",
       "      <td>Neighborhood</td>\n",
       "      <td>40.713954</td>\n",
       "      <td>-74.014178</td>\n",
       "      <td>[{'label': 'display', 'lat': 40.71395398461207...</td>\n",
       "      <td>182</td>\n",
       "      <td>10281</td>\n",
       "      <td>US</td>\n",
       "      <td>New York</td>\n",
       "      <td>NY</td>\n",
       "      <td>United States</td>\n",
       "      <td>[New York, NY 10281, United States]</td>\n",
       "      <td>NaN</td>\n",
       "      <td>NaN</td>\n",
       "      <td>52869ab511d20a0ad260a9f8</td>\n",
       "    </tr>\n",
       "    <tr>\n",
       "      <th>6</th>\n",
       "      <td>Broadway Panhandler @ Shop Small Pop-Up Mall</td>\n",
       "      <td>Convenience Store</td>\n",
       "      <td>40.716209</td>\n",
       "      <td>-74.014362</td>\n",
       "      <td>[{'label': 'display', 'lat': 40.71620884745804...</td>\n",
       "      <td>160</td>\n",
       "      <td>10282</td>\n",
       "      <td>US</td>\n",
       "      <td>New York</td>\n",
       "      <td>NY</td>\n",
       "      <td>United States</td>\n",
       "      <td>[New York, NY 10282, United States]</td>\n",
       "      <td>NaN</td>\n",
       "      <td>NaN</td>\n",
       "      <td>4ec3c9d74901dfe99bec0f4e</td>\n",
       "    </tr>\n",
       "    <tr>\n",
       "      <th>7</th>\n",
       "      <td>Red Flower @ Shop Small Pop-Up Mall</td>\n",
       "      <td>Cosmetics Shop</td>\n",
       "      <td>40.713777</td>\n",
       "      <td>-74.014978</td>\n",
       "      <td>[{'label': 'display', 'lat': 40.71377691776341...</td>\n",
       "      <td>163</td>\n",
       "      <td>10281</td>\n",
       "      <td>US</td>\n",
       "      <td>New York</td>\n",
       "      <td>NY</td>\n",
       "      <td>United States</td>\n",
       "      <td>[200 Vesey St (Lobby), New York, NY 10281, Uni...</td>\n",
       "      <td>200 Vesey St</td>\n",
       "      <td>Lobby</td>\n",
       "      <td>4ec3d354d5fb255ab4169d1c</td>\n",
       "    </tr>\n",
       "    <tr>\n",
       "      <th>8</th>\n",
       "      <td>Emergency Medical Care</td>\n",
       "      <td>Doctor's Office</td>\n",
       "      <td>40.716579</td>\n",
       "      <td>-74.012390</td>\n",
       "      <td>[{'label': 'display', 'lat': 40.71657943725586...</td>\n",
       "      <td>318</td>\n",
       "      <td>10007</td>\n",
       "      <td>US</td>\n",
       "      <td>New York</td>\n",
       "      <td>NY</td>\n",
       "      <td>United States</td>\n",
       "      <td>[200 Chambers St (btwn Greenwich and West St),...</td>\n",
       "      <td>200 Chambers St</td>\n",
       "      <td>btwn Greenwich and West St</td>\n",
       "      <td>4da7427b5da37feee89aad05</td>\n",
       "    </tr>\n",
       "    <tr>\n",
       "      <th>9</th>\n",
       "      <td>Morris Kitchen @ Shop Small Pop-Up Mall</td>\n",
       "      <td>Gourmet Shop</td>\n",
       "      <td>40.713951</td>\n",
       "      <td>-74.013248</td>\n",
       "      <td>[{'label': 'display', 'lat': 40.713951, 'lng':...</td>\n",
       "      <td>243</td>\n",
       "      <td>10282</td>\n",
       "      <td>US</td>\n",
       "      <td>New York</td>\n",
       "      <td>NY</td>\n",
       "      <td>United States</td>\n",
       "      <td>[New York, NY 10282, United States]</td>\n",
       "      <td>NaN</td>\n",
       "      <td>NaN</td>\n",
       "      <td>4ec3c83af5b9f024dfe9a561</td>\n",
       "    </tr>\n",
       "    <tr>\n",
       "      <th>10</th>\n",
       "      <td>Shop Small Pop-Up Mall</td>\n",
       "      <td>Shopping Mall</td>\n",
       "      <td>40.713128</td>\n",
       "      <td>-74.013369</td>\n",
       "      <td>[{'label': 'display', 'lat': 40.71312797813334...</td>\n",
       "      <td>296</td>\n",
       "      <td>10280</td>\n",
       "      <td>US</td>\n",
       "      <td>New York</td>\n",
       "      <td>NY</td>\n",
       "      <td>United States</td>\n",
       "      <td>[New York, NY 10280, United States]</td>\n",
       "      <td>NaN</td>\n",
       "      <td>NaN</td>\n",
       "      <td>4ec3c2a2e5fa690c1ee3e62e</td>\n",
       "    </tr>\n",
       "    <tr>\n",
       "      <th>11</th>\n",
       "      <td>Atrium Books @ Shop Small Pop-Up Mall</td>\n",
       "      <td>Bookstore</td>\n",
       "      <td>40.713198</td>\n",
       "      <td>-74.013984</td>\n",
       "      <td>[{'label': 'display', 'lat': 40.71319768721049...</td>\n",
       "      <td>258</td>\n",
       "      <td>10007</td>\n",
       "      <td>US</td>\n",
       "      <td>New York</td>\n",
       "      <td>NY</td>\n",
       "      <td>United States</td>\n",
       "      <td>[New York, NY 10007, United States]</td>\n",
       "      <td>NaN</td>\n",
       "      <td>NaN</td>\n",
       "      <td>4ec3c5e6e5fa690c1ee5f8ab</td>\n",
       "    </tr>\n",
       "    <tr>\n",
       "      <th>12</th>\n",
       "      <td>AC Gears @ Shop Small Pop-Up Mall</td>\n",
       "      <td>Toy / Game Store</td>\n",
       "      <td>40.713783</td>\n",
       "      <td>-74.013249</td>\n",
       "      <td>[{'label': 'display', 'lat': 40.71378289145128...</td>\n",
       "      <td>253</td>\n",
       "      <td>10282</td>\n",
       "      <td>US</td>\n",
       "      <td>New York</td>\n",
       "      <td>NY</td>\n",
       "      <td>United States</td>\n",
       "      <td>[New York, NY 10282, United States]</td>\n",
       "      <td>NaN</td>\n",
       "      <td>NaN</td>\n",
       "      <td>4ec3c8d28b8132e083478aaf</td>\n",
       "    </tr>\n",
       "    <tr>\n",
       "      <th>13</th>\n",
       "      <td>Bonnie Marcus Collection @ Shop Small Pop-Up Mall</td>\n",
       "      <td>Arts &amp; Crafts Store</td>\n",
       "      <td>40.714349</td>\n",
       "      <td>-74.012830</td>\n",
       "      <td>[{'label': 'display', 'lat': 40.71434917656668...</td>\n",
       "      <td>254</td>\n",
       "      <td>10282</td>\n",
       "      <td>US</td>\n",
       "      <td>New York</td>\n",
       "      <td>NY</td>\n",
       "      <td>United States</td>\n",
       "      <td>[New York, NY 10282, United States]</td>\n",
       "      <td>NaN</td>\n",
       "      <td>NaN</td>\n",
       "      <td>4ec3cc0be30095d118ec9891</td>\n",
       "    </tr>\n",
       "    <tr>\n",
       "      <th>14</th>\n",
       "      <td>Hugs To Go @ Shop Small Pop-Up Mall</td>\n",
       "      <td>Toy / Game Store</td>\n",
       "      <td>40.716848</td>\n",
       "      <td>-74.012945</td>\n",
       "      <td>[{'label': 'display', 'lat': 40.71684813399178...</td>\n",
       "      <td>296</td>\n",
       "      <td>10282</td>\n",
       "      <td>US</td>\n",
       "      <td>New York</td>\n",
       "      <td>NY</td>\n",
       "      <td>United States</td>\n",
       "      <td>[New York, NY 10282, United States]</td>\n",
       "      <td>NaN</td>\n",
       "      <td>NaN</td>\n",
       "      <td>4ec3cb4ff5b9f024dfeb8946</td>\n",
       "    </tr>\n",
       "    <tr>\n",
       "      <th>15</th>\n",
       "      <td>Vosges Haut Chocolat @ Shop Small Pop-Up Mall</td>\n",
       "      <td>Gourmet Shop</td>\n",
       "      <td>40.712937</td>\n",
       "      <td>-74.013031</td>\n",
       "      <td>[{'label': 'display', 'lat': 40.712936769602, ...</td>\n",
       "      <td>331</td>\n",
       "      <td>10282</td>\n",
       "      <td>US</td>\n",
       "      <td>New York</td>\n",
       "      <td>NY</td>\n",
       "      <td>United States</td>\n",
       "      <td>[New York, NY 10282, United States]</td>\n",
       "      <td>NaN</td>\n",
       "      <td>NaN</td>\n",
       "      <td>4ec3c89be30095d118ea7341</td>\n",
       "    </tr>\n",
       "    <tr>\n",
       "      <th>16</th>\n",
       "      <td>Shop Small Village</td>\n",
       "      <td>General Entertainment</td>\n",
       "      <td>40.712090</td>\n",
       "      <td>-74.013404</td>\n",
       "      <td>[{'label': 'display', 'lat': 40.71208996895345...</td>\n",
       "      <td>389</td>\n",
       "      <td>10280</td>\n",
       "      <td>US</td>\n",
       "      <td>New York</td>\n",
       "      <td>NY</td>\n",
       "      <td>United States</td>\n",
       "      <td>[New York, NY 10280, United States]</td>\n",
       "      <td>NaN</td>\n",
       "      <td>NaN</td>\n",
       "      <td>50aa6c1c498eeb8d61e94d01</td>\n",
       "    </tr>\n",
       "    <tr>\n",
       "      <th>17</th>\n",
       "      <td>Amy + Owen @ Shop Small Pop-Up Mall</td>\n",
       "      <td>Thrift / Vintage Store</td>\n",
       "      <td>40.711380</td>\n",
       "      <td>-74.013914</td>\n",
       "      <td>[{'label': 'display', 'lat': 40.71138012891492...</td>\n",
       "      <td>444</td>\n",
       "      <td>10282</td>\n",
       "      <td>US</td>\n",
       "      <td>New York</td>\n",
       "      <td>NY</td>\n",
       "      <td>United States</td>\n",
       "      <td>[New York, NY 10282, United States]</td>\n",
       "      <td>NaN</td>\n",
       "      <td>NaN</td>\n",
       "      <td>4ec3cbcbbe7b4ee610ddf481</td>\n",
       "    </tr>\n",
       "  </tbody>\n",
       "</table>\n",
       "</div>"
      ],
      "text/plain": [
       "                                                 name              categories  \\\n",
       "0                             WFC Shops & Restaurants              Food Court   \n",
       "1                                         One Medical         Doctor's Office   \n",
       "2                              Tribeca Medical Center         Doctor's Office   \n",
       "3                    Weill Cornell Medical Associates         Doctor's Office   \n",
       "4                   Godiva Chocolatier , Retail Shops          Chocolate Shop   \n",
       "5                         Amex Shop Small Town Square            Neighborhood   \n",
       "6        Broadway Panhandler @ Shop Small Pop-Up Mall       Convenience Store   \n",
       "7                 Red Flower @ Shop Small Pop-Up Mall          Cosmetics Shop   \n",
       "8                              Emergency Medical Care         Doctor's Office   \n",
       "9             Morris Kitchen @ Shop Small Pop-Up Mall            Gourmet Shop   \n",
       "10                             Shop Small Pop-Up Mall           Shopping Mall   \n",
       "11              Atrium Books @ Shop Small Pop-Up Mall               Bookstore   \n",
       "12                  AC Gears @ Shop Small Pop-Up Mall        Toy / Game Store   \n",
       "13  Bonnie Marcus Collection @ Shop Small Pop-Up Mall     Arts & Crafts Store   \n",
       "14                Hugs To Go @ Shop Small Pop-Up Mall        Toy / Game Store   \n",
       "15      Vosges Haut Chocolat @ Shop Small Pop-Up Mall            Gourmet Shop   \n",
       "16                                 Shop Small Village   General Entertainment   \n",
       "17                Amy + Owen @ Shop Small Pop-Up Mall  Thrift / Vintage Store   \n",
       "\n",
       "          lat        lng                                     labeledLatLngs  \\\n",
       "0   40.714806 -74.015303  [{'label': 'display', 'lat': 40.71480641529153...   \n",
       "1   40.716762 -74.009468  [{'label': 'display', 'lat': 40.71676152446622...   \n",
       "2   40.716401 -74.011091  [{'label': 'display', 'lat': 40.71640108472187...   \n",
       "3   40.714202 -74.011018  [{'label': 'display', 'lat': 40.714202, 'lng':...   \n",
       "4   40.712200 -74.014297  [{'label': 'display', 'lat': 40.7122, 'lng': -...   \n",
       "5   40.713954 -74.014178  [{'label': 'display', 'lat': 40.71395398461207...   \n",
       "6   40.716209 -74.014362  [{'label': 'display', 'lat': 40.71620884745804...   \n",
       "7   40.713777 -74.014978  [{'label': 'display', 'lat': 40.71377691776341...   \n",
       "8   40.716579 -74.012390  [{'label': 'display', 'lat': 40.71657943725586...   \n",
       "9   40.713951 -74.013248  [{'label': 'display', 'lat': 40.713951, 'lng':...   \n",
       "10  40.713128 -74.013369  [{'label': 'display', 'lat': 40.71312797813334...   \n",
       "11  40.713198 -74.013984  [{'label': 'display', 'lat': 40.71319768721049...   \n",
       "12  40.713783 -74.013249  [{'label': 'display', 'lat': 40.71378289145128...   \n",
       "13  40.714349 -74.012830  [{'label': 'display', 'lat': 40.71434917656668...   \n",
       "14  40.716848 -74.012945  [{'label': 'display', 'lat': 40.71684813399178...   \n",
       "15  40.712937 -74.013031  [{'label': 'display', 'lat': 40.712936769602, ...   \n",
       "16  40.712090 -74.013404  [{'label': 'display', 'lat': 40.71208996895345...   \n",
       "17  40.711380 -74.013914  [{'label': 'display', 'lat': 40.71138012891492...   \n",
       "\n",
       "    distance postalCode  cc      city state        country  \\\n",
       "0         48      10280  US  New York    NY  United States   \n",
       "1        552      10013  US  New York    NY  United States   \n",
       "2        409      10013  US  New York    NY  United States   \n",
       "3        405      10007  US  New York    NY  United States   \n",
       "4        347      10281  US  New York    NY  United States   \n",
       "5        182      10281  US  New York    NY  United States   \n",
       "6        160      10282  US  New York    NY  United States   \n",
       "7        163      10281  US  New York    NY  United States   \n",
       "8        318      10007  US  New York    NY  United States   \n",
       "9        243      10282  US  New York    NY  United States   \n",
       "10       296      10280  US  New York    NY  United States   \n",
       "11       258      10007  US  New York    NY  United States   \n",
       "12       253      10282  US  New York    NY  United States   \n",
       "13       254      10282  US  New York    NY  United States   \n",
       "14       296      10282  US  New York    NY  United States   \n",
       "15       331      10282  US  New York    NY  United States   \n",
       "16       389      10280  US  New York    NY  United States   \n",
       "17       444      10282  US  New York    NY  United States   \n",
       "\n",
       "                                     formattedAddress                address  \\\n",
       "0                 [New York, NY 10280, United States]                    NaN   \n",
       "1   [25 Hudson St, New York, NY 10013, United States]           25 Hudson St   \n",
       "2   [303 Greenwich St, New York, NY 10013, United ...                    NaN   \n",
       "3   [255 Greenwich St, New York, NY 10007, United ...       255 Greenwich St   \n",
       "4   [2 World Financial Ctr, New York, NY 10281, Un...  2 World Financial Ctr   \n",
       "5                 [New York, NY 10281, United States]                    NaN   \n",
       "6                 [New York, NY 10282, United States]                    NaN   \n",
       "7   [200 Vesey St (Lobby), New York, NY 10281, Uni...           200 Vesey St   \n",
       "8   [200 Chambers St (btwn Greenwich and West St),...        200 Chambers St   \n",
       "9                 [New York, NY 10282, United States]                    NaN   \n",
       "10                [New York, NY 10280, United States]                    NaN   \n",
       "11                [New York, NY 10007, United States]                    NaN   \n",
       "12                [New York, NY 10282, United States]                    NaN   \n",
       "13                [New York, NY 10282, United States]                    NaN   \n",
       "14                [New York, NY 10282, United States]                    NaN   \n",
       "15                [New York, NY 10282, United States]                    NaN   \n",
       "16                [New York, NY 10280, United States]                    NaN   \n",
       "17                [New York, NY 10282, United States]                    NaN   \n",
       "\n",
       "                   crossStreet                        id  \n",
       "0                          NaN  4f6ba4f0e4b0e4284097c553  \n",
       "1                          NaN  57a536b3498e0e2f401f97cb  \n",
       "2                          NaN  4b28fe5ef964a5201b9724e3  \n",
       "3                          NaN  59b689730d8a0f0528eadc81  \n",
       "4                          NaN  4f32646319836c91c7d34de8  \n",
       "5                          NaN  52869ab511d20a0ad260a9f8  \n",
       "6                          NaN  4ec3c9d74901dfe99bec0f4e  \n",
       "7                        Lobby  4ec3d354d5fb255ab4169d1c  \n",
       "8   btwn Greenwich and West St  4da7427b5da37feee89aad05  \n",
       "9                          NaN  4ec3c83af5b9f024dfe9a561  \n",
       "10                         NaN  4ec3c2a2e5fa690c1ee3e62e  \n",
       "11                         NaN  4ec3c5e6e5fa690c1ee5f8ab  \n",
       "12                         NaN  4ec3c8d28b8132e083478aaf  \n",
       "13                         NaN  4ec3cc0be30095d118ec9891  \n",
       "14                         NaN  4ec3cb4ff5b9f024dfeb8946  \n",
       "15                         NaN  4ec3c89be30095d118ea7341  \n",
       "16                         NaN  50aa6c1c498eeb8d61e94d01  \n",
       "17                         NaN  4ec3cbcbbe7b4ee610ddf481  "
      ]
     },
     "execution_count": 21,
     "metadata": {},
     "output_type": "execute_result"
    }
   ],
   "source": [
    "# keep only columns that include venue name, and anything that is associated with location\n",
    "filtered_columns = ['name', 'categories'] + [col for col in dataframe.columns if col.startswith('location.')] + ['id']\n",
    "dataframe_filtered = dataframe.loc[:, filtered_columns]\n",
    "\n",
    "# function that extracts the category of the venue\n",
    "def get_category_type(row):\n",
    "    try:\n",
    "        categories_list = row['categories']\n",
    "    except:\n",
    "        categories_list = row['venue.categories']\n",
    "        \n",
    "    if len(categories_list) == 0:\n",
    "        return None\n",
    "    else:\n",
    "        return categories_list[0]['name']\n",
    "\n",
    "# filter the category for each row\n",
    "dataframe_filtered['categories'] = dataframe_filtered.apply(get_category_type, axis=1)\n",
    "\n",
    "# clean column names by keeping only last term\n",
    "dataframe_filtered.columns = [column.split('.')[-1] for column in dataframe_filtered.columns]\n",
    "\n",
    "dataframe_filtered"
   ]
  },
  {
   "cell_type": "markdown",
   "metadata": {
    "button": false,
    "deletable": true,
    "new_sheet": false,
    "run_control": {
     "read_only": false
    }
   },
   "source": [
    "#### Let's visualize the Medical Shops that are nearby"
   ]
  },
  {
   "cell_type": "code",
   "execution_count": null,
   "metadata": {
    "button": false,
    "collapsed": false,
    "deletable": true,
    "jupyter": {
     "outputs_hidden": false
    },
    "new_sheet": false,
    "run_control": {
     "read_only": false
    }
   },
   "outputs": [],
   "source": [
    "dataframe_filtered.name"
   ]
  },
  {
   "cell_type": "code",
   "execution_count": 22,
   "metadata": {
    "button": false,
    "collapsed": false,
    "deletable": true,
    "jupyter": {
     "outputs_hidden": false
    },
    "new_sheet": false,
    "run_control": {
     "read_only": false
    }
   },
   "outputs": [
    {
     "data": {
      "text/html": [
       "<div style=\"width:100%;\"><div style=\"position:relative;width:100%;height:0;padding-bottom:60%;\"><span style=\"color:#565656\">Make this Notebook Trusted to load map: File -> Trust Notebook</span><iframe src=\"about:blank\" style=\"position:absolute;width:100%;height:100%;left:0;top:0;border:none !important;\" data-html=PCFET0NUWVBFIGh0bWw+CjxoZWFkPiAgICAKICAgIDxtZXRhIGh0dHAtZXF1aXY9ImNvbnRlbnQtdHlwZSIgY29udGVudD0idGV4dC9odG1sOyBjaGFyc2V0PVVURi04IiAvPgogICAgPHNjcmlwdD5MX1BSRUZFUl9DQU5WQVMgPSBmYWxzZTsgTF9OT19UT1VDSCA9IGZhbHNlOyBMX0RJU0FCTEVfM0QgPSBmYWxzZTs8L3NjcmlwdD4KICAgIDxzY3JpcHQgc3JjPSJodHRwczovL2Nkbi5qc2RlbGl2ci5uZXQvbnBtL2xlYWZsZXRAMS4yLjAvZGlzdC9sZWFmbGV0LmpzIj48L3NjcmlwdD4KICAgIDxzY3JpcHQgc3JjPSJodHRwczovL2FqYXguZ29vZ2xlYXBpcy5jb20vYWpheC9saWJzL2pxdWVyeS8xLjExLjEvanF1ZXJ5Lm1pbi5qcyI+PC9zY3JpcHQ+CiAgICA8c2NyaXB0IHNyYz0iaHR0cHM6Ly9tYXhjZG4uYm9vdHN0cmFwY2RuLmNvbS9ib290c3RyYXAvMy4yLjAvanMvYm9vdHN0cmFwLm1pbi5qcyI+PC9zY3JpcHQ+CiAgICA8c2NyaXB0IHNyYz0iaHR0cHM6Ly9jZG5qcy5jbG91ZGZsYXJlLmNvbS9hamF4L2xpYnMvTGVhZmxldC5hd2Vzb21lLW1hcmtlcnMvMi4wLjIvbGVhZmxldC5hd2Vzb21lLW1hcmtlcnMuanMiPjwvc2NyaXB0PgogICAgPGxpbmsgcmVsPSJzdHlsZXNoZWV0IiBocmVmPSJodHRwczovL2Nkbi5qc2RlbGl2ci5uZXQvbnBtL2xlYWZsZXRAMS4yLjAvZGlzdC9sZWFmbGV0LmNzcyIvPgogICAgPGxpbmsgcmVsPSJzdHlsZXNoZWV0IiBocmVmPSJodHRwczovL21heGNkbi5ib290c3RyYXBjZG4uY29tL2Jvb3RzdHJhcC8zLjIuMC9jc3MvYm9vdHN0cmFwLm1pbi5jc3MiLz4KICAgIDxsaW5rIHJlbD0ic3R5bGVzaGVldCIgaHJlZj0iaHR0cHM6Ly9tYXhjZG4uYm9vdHN0cmFwY2RuLmNvbS9ib290c3RyYXAvMy4yLjAvY3NzL2Jvb3RzdHJhcC10aGVtZS5taW4uY3NzIi8+CiAgICA8bGluayByZWw9InN0eWxlc2hlZXQiIGhyZWY9Imh0dHBzOi8vbWF4Y2RuLmJvb3RzdHJhcGNkbi5jb20vZm9udC1hd2Vzb21lLzQuNi4zL2Nzcy9mb250LWF3ZXNvbWUubWluLmNzcyIvPgogICAgPGxpbmsgcmVsPSJzdHlsZXNoZWV0IiBocmVmPSJodHRwczovL2NkbmpzLmNsb3VkZmxhcmUuY29tL2FqYXgvbGlicy9MZWFmbGV0LmF3ZXNvbWUtbWFya2Vycy8yLjAuMi9sZWFmbGV0LmF3ZXNvbWUtbWFya2Vycy5jc3MiLz4KICAgIDxsaW5rIHJlbD0ic3R5bGVzaGVldCIgaHJlZj0iaHR0cHM6Ly9yYXdnaXQuY29tL3B5dGhvbi12aXN1YWxpemF0aW9uL2ZvbGl1bS9tYXN0ZXIvZm9saXVtL3RlbXBsYXRlcy9sZWFmbGV0LmF3ZXNvbWUucm90YXRlLmNzcyIvPgogICAgPHN0eWxlPmh0bWwsIGJvZHkge3dpZHRoOiAxMDAlO2hlaWdodDogMTAwJTttYXJnaW46IDA7cGFkZGluZzogMDt9PC9zdHlsZT4KICAgIDxzdHlsZT4jbWFwIHtwb3NpdGlvbjphYnNvbHV0ZTt0b3A6MDtib3R0b206MDtyaWdodDowO2xlZnQ6MDt9PC9zdHlsZT4KICAgIAogICAgICAgICAgICA8c3R5bGU+ICNtYXBfMDRkMTJjYzViZGM1NDk4N2JmMTQ4MTBmZTgwNjFhMzMgewogICAgICAgICAgICAgICAgcG9zaXRpb24gOiByZWxhdGl2ZTsKICAgICAgICAgICAgICAgIHdpZHRoIDogMTAwLjAlOwogICAgICAgICAgICAgICAgaGVpZ2h0OiAxMDAuMCU7CiAgICAgICAgICAgICAgICBsZWZ0OiAwLjAlOwogICAgICAgICAgICAgICAgdG9wOiAwLjAlOwogICAgICAgICAgICAgICAgfQogICAgICAgICAgICA8L3N0eWxlPgogICAgICAgIAo8L2hlYWQ+Cjxib2R5PiAgICAKICAgIAogICAgICAgICAgICA8ZGl2IGNsYXNzPSJmb2xpdW0tbWFwIiBpZD0ibWFwXzA0ZDEyY2M1YmRjNTQ5ODdiZjE0ODEwZmU4MDYxYTMzIiA+PC9kaXY+CiAgICAgICAgCjwvYm9keT4KPHNjcmlwdD4gICAgCiAgICAKCiAgICAgICAgICAgIAogICAgICAgICAgICAgICAgdmFyIGJvdW5kcyA9IG51bGw7CiAgICAgICAgICAgIAoKICAgICAgICAgICAgdmFyIG1hcF8wNGQxMmNjNWJkYzU0OTg3YmYxNDgxMGZlODA2MWEzMyA9IEwubWFwKAogICAgICAgICAgICAgICAgICAgICAgICAgICAgICAgICAgJ21hcF8wNGQxMmNjNWJkYzU0OTg3YmYxNDgxMGZlODA2MWEzMycsCiAgICAgICAgICAgICAgICAgICAgICAgICAgICAgICAgICB7Y2VudGVyOiBbNDAuNzE1MTQ4MiwtNzQuMDE1NjU3M10sCiAgICAgICAgICAgICAgICAgICAgICAgICAgICAgICAgICB6b29tOiAxMywKICAgICAgICAgICAgICAgICAgICAgICAgICAgICAgICAgIG1heEJvdW5kczogYm91bmRzLAogICAgICAgICAgICAgICAgICAgICAgICAgICAgICAgICAgbGF5ZXJzOiBbXSwKICAgICAgICAgICAgICAgICAgICAgICAgICAgICAgICAgIHdvcmxkQ29weUp1bXA6IGZhbHNlLAogICAgICAgICAgICAgICAgICAgICAgICAgICAgICAgICAgY3JzOiBMLkNSUy5FUFNHMzg1NwogICAgICAgICAgICAgICAgICAgICAgICAgICAgICAgICB9KTsKICAgICAgICAgICAgCiAgICAgICAgCiAgICAKICAgICAgICAgICAgdmFyIHRpbGVfbGF5ZXJfZTMxOWIxMjZjNDc2NDYxNjkyMGI0ZjBiYmY1YjRlNWQgPSBMLnRpbGVMYXllcigKICAgICAgICAgICAgICAgICdodHRwczovL3tzfS50aWxlLm9wZW5zdHJlZXRtYXAub3JnL3t6fS97eH0ve3l9LnBuZycsCiAgICAgICAgICAgICAgICB7CiAgImF0dHJpYnV0aW9uIjogbnVsbCwKICAiZGV0ZWN0UmV0aW5hIjogZmFsc2UsCiAgIm1heFpvb20iOiAxOCwKICAibWluWm9vbSI6IDEsCiAgIm5vV3JhcCI6IGZhbHNlLAogICJzdWJkb21haW5zIjogImFiYyIKfQogICAgICAgICAgICAgICAgKS5hZGRUbyhtYXBfMDRkMTJjYzViZGM1NDk4N2JmMTQ4MTBmZTgwNjFhMzMpOwogICAgICAgIAogICAgCiAgICAgICAgICAgIHZhciBjaXJjbGVfbWFya2VyX2FjOTNhOGNlMTdjZjRhZGFhOTYxNGQ2NmQyZjkwNjY5ID0gTC5jaXJjbGVNYXJrZXIoCiAgICAgICAgICAgICAgICBbNDAuNzE1MTQ4MiwtNzQuMDE1NjU3M10sCiAgICAgICAgICAgICAgICB7CiAgImJ1YmJsaW5nTW91c2VFdmVudHMiOiB0cnVlLAogICJjb2xvciI6ICJyZWQiLAogICJkYXNoQXJyYXkiOiBudWxsLAogICJkYXNoT2Zmc2V0IjogbnVsbCwKICAiZmlsbCI6IHRydWUsCiAgImZpbGxDb2xvciI6ICJyZWQiLAogICJmaWxsT3BhY2l0eSI6IDAuNiwKICAiZmlsbFJ1bGUiOiAiZXZlbm9kZCIsCiAgImxpbmVDYXAiOiAicm91bmQiLAogICJsaW5lSm9pbiI6ICJyb3VuZCIsCiAgIm9wYWNpdHkiOiAxLjAsCiAgInJhZGl1cyI6IDEwLAogICJzdHJva2UiOiB0cnVlLAogICJ3ZWlnaHQiOiAzCn0KICAgICAgICAgICAgICAgICkuYWRkVG8obWFwXzA0ZDEyY2M1YmRjNTQ5ODdiZjE0ODEwZmU4MDYxYTMzKTsKICAgICAgICAgICAgCiAgICAKICAgICAgICAgICAgdmFyIHBvcHVwXzcyYWQ0N2Q4NTI3ODRlZTBhNTZiMjk5YTY2MDI0MzY1ID0gTC5wb3B1cCh7bWF4V2lkdGg6ICczMDAnfSk7CgogICAgICAgICAgICAKICAgICAgICAgICAgICAgIHZhciBodG1sXzhmZThjZmE3MDM5MzQzZjA4YzJmZTdjZjVkMmZjNjVhID0gJCgnPGRpdiBpZD0iaHRtbF84ZmU4Y2ZhNzAzOTM0M2YwOGMyZmU3Y2Y1ZDJmYzY1YSIgc3R5bGU9IndpZHRoOiAxMDAuMCU7IGhlaWdodDogMTAwLjAlOyI+Q29ucmFkIEhvdGVsPC9kaXY+JylbMF07CiAgICAgICAgICAgICAgICBwb3B1cF83MmFkNDdkODUyNzg0ZWUwYTU2YjI5OWE2NjAyNDM2NS5zZXRDb250ZW50KGh0bWxfOGZlOGNmYTcwMzkzNDNmMDhjMmZlN2NmNWQyZmM2NWEpOwogICAgICAgICAgICAKCiAgICAgICAgICAgIGNpcmNsZV9tYXJrZXJfYWM5M2E4Y2UxN2NmNGFkYWE5NjE0ZDY2ZDJmOTA2NjkuYmluZFBvcHVwKHBvcHVwXzcyYWQ0N2Q4NTI3ODRlZTBhNTZiMjk5YTY2MDI0MzY1KTsKCiAgICAgICAgICAgIAogICAgICAgIAogICAgCiAgICAgICAgICAgIHZhciBjaXJjbGVfbWFya2VyXzc3YzJkMGJmMDdiYjQxYWQ4ODE1MDQ3N2YyNzM4ZDA1ID0gTC5jaXJjbGVNYXJrZXIoCiAgICAgICAgICAgICAgICBbNDAuNzE0ODA2NDE1MjkxNTM0LC03NC4wMTUzMDI5OTY3ODgwN10sCiAgICAgICAgICAgICAgICB7CiAgImJ1YmJsaW5nTW91c2VFdmVudHMiOiB0cnVlLAogICJjb2xvciI6ICJibHVlIiwKICAiZGFzaEFycmF5IjogbnVsbCwKICAiZGFzaE9mZnNldCI6IG51bGwsCiAgImZpbGwiOiB0cnVlLAogICJmaWxsQ29sb3IiOiAiYmx1ZSIsCiAgImZpbGxPcGFjaXR5IjogMC42LAogICJmaWxsUnVsZSI6ICJldmVub2RkIiwKICAibGluZUNhcCI6ICJyb3VuZCIsCiAgImxpbmVKb2luIjogInJvdW5kIiwKICAib3BhY2l0eSI6IDEuMCwKICAicmFkaXVzIjogNSwKICAic3Ryb2tlIjogdHJ1ZSwKICAid2VpZ2h0IjogMwp9CiAgICAgICAgICAgICAgICApLmFkZFRvKG1hcF8wNGQxMmNjNWJkYzU0OTg3YmYxNDgxMGZlODA2MWEzMyk7CiAgICAgICAgICAgIAogICAgCiAgICAgICAgICAgIHZhciBwb3B1cF80OTFkM2ZiOTM5Y2U0ZDIxYjIxMWZlNTZmMmIzNDBhYSA9IEwucG9wdXAoe21heFdpZHRoOiAnMzAwJ30pOwoKICAgICAgICAgICAgCiAgICAgICAgICAgICAgICB2YXIgaHRtbF81ODUwNzBjYjAzODU0ZjYwYWY3MjdmNTExZDY2MjgxZiA9ICQoJzxkaXYgaWQ9Imh0bWxfNTg1MDcwY2IwMzg1NGY2MGFmNzI3ZjUxMWQ2NjI4MWYiIHN0eWxlPSJ3aWR0aDogMTAwLjAlOyBoZWlnaHQ6IDEwMC4wJTsiPkZvb2QgQ291cnQ8L2Rpdj4nKVswXTsKICAgICAgICAgICAgICAgIHBvcHVwXzQ5MWQzZmI5MzljZTRkMjFiMjExZmU1NmYyYjM0MGFhLnNldENvbnRlbnQoaHRtbF81ODUwNzBjYjAzODU0ZjYwYWY3MjdmNTExZDY2MjgxZik7CiAgICAgICAgICAgIAoKICAgICAgICAgICAgY2lyY2xlX21hcmtlcl83N2MyZDBiZjA3YmI0MWFkODgxNTA0NzdmMjczOGQwNS5iaW5kUG9wdXAocG9wdXBfNDkxZDNmYjkzOWNlNGQyMWIyMTFmZTU2ZjJiMzQwYWEpOwoKICAgICAgICAgICAgCiAgICAgICAgCiAgICAKICAgICAgICAgICAgdmFyIGNpcmNsZV9tYXJrZXJfOGUxZTU5MDUxYjQ0NDdiZDkzMDM2Y2NiMGU4MzAxMmYgPSBMLmNpcmNsZU1hcmtlcigKICAgICAgICAgICAgICAgIFs0MC43MTY3NjE1MjQ0NjYyMiwtNzQuMDA5NDY3ODE3OTIzXSwKICAgICAgICAgICAgICAgIHsKICAiYnViYmxpbmdNb3VzZUV2ZW50cyI6IHRydWUsCiAgImNvbG9yIjogImJsdWUiLAogICJkYXNoQXJyYXkiOiBudWxsLAogICJkYXNoT2Zmc2V0IjogbnVsbCwKICAiZmlsbCI6IHRydWUsCiAgImZpbGxDb2xvciI6ICJibHVlIiwKICAiZmlsbE9wYWNpdHkiOiAwLjYsCiAgImZpbGxSdWxlIjogImV2ZW5vZGQiLAogICJsaW5lQ2FwIjogInJvdW5kIiwKICAibGluZUpvaW4iOiAicm91bmQiLAogICJvcGFjaXR5IjogMS4wLAogICJyYWRpdXMiOiA1LAogICJzdHJva2UiOiB0cnVlLAogICJ3ZWlnaHQiOiAzCn0KICAgICAgICAgICAgICAgICkuYWRkVG8obWFwXzA0ZDEyY2M1YmRjNTQ5ODdiZjE0ODEwZmU4MDYxYTMzKTsKICAgICAgICAgICAgCiAgICAKICAgICAgICAgICAgdmFyIHBvcHVwX2UyNDdjNWUxZWQ4MDQ2N2U4ZDQ1ZmNiMDFkNTdmNGNhID0gTC5wb3B1cCh7bWF4V2lkdGg6ICczMDAnfSk7CgogICAgICAgICAgICAKICAgICAgICAgICAgICAgIHZhciBodG1sXzc0ZTQ2YzkxN2YwOTQ1OTc4OTIxMTRhODI4NWJlNGM3ID0gJCgnPGRpdiBpZD0iaHRtbF83NGU0NmM5MTdmMDk0NTk3ODkyMTE0YTgyODViZTRjNyIgc3R5bGU9IndpZHRoOiAxMDAuMCU7IGhlaWdodDogMTAwLjAlOyI+RG9jdG9yJ3MgT2ZmaWNlPC9kaXY+JylbMF07CiAgICAgICAgICAgICAgICBwb3B1cF9lMjQ3YzVlMWVkODA0NjdlOGQ0NWZjYjAxZDU3ZjRjYS5zZXRDb250ZW50KGh0bWxfNzRlNDZjOTE3ZjA5NDU5Nzg5MjExNGE4Mjg1YmU0YzcpOwogICAgICAgICAgICAKCiAgICAgICAgICAgIGNpcmNsZV9tYXJrZXJfOGUxZTU5MDUxYjQ0NDdiZDkzMDM2Y2NiMGU4MzAxMmYuYmluZFBvcHVwKHBvcHVwX2UyNDdjNWUxZWQ4MDQ2N2U4ZDQ1ZmNiMDFkNTdmNGNhKTsKCiAgICAgICAgICAgIAogICAgICAgIAogICAgCiAgICAgICAgICAgIHZhciBjaXJjbGVfbWFya2VyX2QxOTVlNmNiNjBkOTRiMzBiYjk2MzA3OGI3MmRmYjA3ID0gTC5jaXJjbGVNYXJrZXIoCiAgICAgICAgICAgICAgICBbNDAuNzE2NDAxMDg0NzIxODcsLTc0LjAxMTA5MTEyNzQ5NDhdLAogICAgICAgICAgICAgICAgewogICJidWJibGluZ01vdXNlRXZlbnRzIjogdHJ1ZSwKICAiY29sb3IiOiAiYmx1ZSIsCiAgImRhc2hBcnJheSI6IG51bGwsCiAgImRhc2hPZmZzZXQiOiBudWxsLAogICJmaWxsIjogdHJ1ZSwKICAiZmlsbENvbG9yIjogImJsdWUiLAogICJmaWxsT3BhY2l0eSI6IDAuNiwKICAiZmlsbFJ1bGUiOiAiZXZlbm9kZCIsCiAgImxpbmVDYXAiOiAicm91bmQiLAogICJsaW5lSm9pbiI6ICJyb3VuZCIsCiAgIm9wYWNpdHkiOiAxLjAsCiAgInJhZGl1cyI6IDUsCiAgInN0cm9rZSI6IHRydWUsCiAgIndlaWdodCI6IDMKfQogICAgICAgICAgICAgICAgKS5hZGRUbyhtYXBfMDRkMTJjYzViZGM1NDk4N2JmMTQ4MTBmZTgwNjFhMzMpOwogICAgICAgICAgICAKICAgIAogICAgICAgICAgICB2YXIgcG9wdXBfNzdkZDMzYzYxNmYwNDQ2NDg2NTEyYWNkYzNlMzY5MmYgPSBMLnBvcHVwKHttYXhXaWR0aDogJzMwMCd9KTsKCiAgICAgICAgICAgIAogICAgICAgICAgICAgICAgdmFyIGh0bWxfODVkOGM1MTE5N2VlNGMyMzg1MjFlNWM3ODRiNTJkNjAgPSAkKCc8ZGl2IGlkPSJodG1sXzg1ZDhjNTExOTdlZTRjMjM4NTIxZTVjNzg0YjUyZDYwIiBzdHlsZT0id2lkdGg6IDEwMC4wJTsgaGVpZ2h0OiAxMDAuMCU7Ij5Eb2N0b3IncyBPZmZpY2U8L2Rpdj4nKVswXTsKICAgICAgICAgICAgICAgIHBvcHVwXzc3ZGQzM2M2MTZmMDQ0NjQ4NjUxMmFjZGMzZTM2OTJmLnNldENvbnRlbnQoaHRtbF84NWQ4YzUxMTk3ZWU0YzIzODUyMWU1Yzc4NGI1MmQ2MCk7CiAgICAgICAgICAgIAoKICAgICAgICAgICAgY2lyY2xlX21hcmtlcl9kMTk1ZTZjYjYwZDk0YjMwYmI5NjMwNzhiNzJkZmIwNy5iaW5kUG9wdXAocG9wdXBfNzdkZDMzYzYxNmYwNDQ2NDg2NTEyYWNkYzNlMzY5MmYpOwoKICAgICAgICAgICAgCiAgICAgICAgCiAgICAKICAgICAgICAgICAgdmFyIGNpcmNsZV9tYXJrZXJfMzNkYzAzNDc0YTg5NGZkOWFjMzhkYmYyMzI0YjkwMGQgPSBMLmNpcmNsZU1hcmtlcigKICAgICAgICAgICAgICAgIFs0MC43MTQyMDIsLTc0LjAxMTAxOF0sCiAgICAgICAgICAgICAgICB7CiAgImJ1YmJsaW5nTW91c2VFdmVudHMiOiB0cnVlLAogICJjb2xvciI6ICJibHVlIiwKICAiZGFzaEFycmF5IjogbnVsbCwKICAiZGFzaE9mZnNldCI6IG51bGwsCiAgImZpbGwiOiB0cnVlLAogICJmaWxsQ29sb3IiOiAiYmx1ZSIsCiAgImZpbGxPcGFjaXR5IjogMC42LAogICJmaWxsUnVsZSI6ICJldmVub2RkIiwKICAibGluZUNhcCI6ICJyb3VuZCIsCiAgImxpbmVKb2luIjogInJvdW5kIiwKICAib3BhY2l0eSI6IDEuMCwKICAicmFkaXVzIjogNSwKICAic3Ryb2tlIjogdHJ1ZSwKICAid2VpZ2h0IjogMwp9CiAgICAgICAgICAgICAgICApLmFkZFRvKG1hcF8wNGQxMmNjNWJkYzU0OTg3YmYxNDgxMGZlODA2MWEzMyk7CiAgICAgICAgICAgIAogICAgCiAgICAgICAgICAgIHZhciBwb3B1cF9jNDJiZjE1MjZmYmQ0N2Q5ODM4YjFkYTU3N2ZmZTZmOSA9IEwucG9wdXAoe21heFdpZHRoOiAnMzAwJ30pOwoKICAgICAgICAgICAgCiAgICAgICAgICAgICAgICB2YXIgaHRtbF9hM2Q5MTMxNjU5ZWM0MzM3OGE3MGYxZWQ0NDg0Y2QyZSA9ICQoJzxkaXYgaWQ9Imh0bWxfYTNkOTEzMTY1OWVjNDMzNzhhNzBmMWVkNDQ4NGNkMmUiIHN0eWxlPSJ3aWR0aDogMTAwLjAlOyBoZWlnaHQ6IDEwMC4wJTsiPkRvY3RvcidzIE9mZmljZTwvZGl2PicpWzBdOwogICAgICAgICAgICAgICAgcG9wdXBfYzQyYmYxNTI2ZmJkNDdkOTgzOGIxZGE1NzdmZmU2Zjkuc2V0Q29udGVudChodG1sX2EzZDkxMzE2NTllYzQzMzc4YTcwZjFlZDQ0ODRjZDJlKTsKICAgICAgICAgICAgCgogICAgICAgICAgICBjaXJjbGVfbWFya2VyXzMzZGMwMzQ3NGE4OTRmZDlhYzM4ZGJmMjMyNGI5MDBkLmJpbmRQb3B1cChwb3B1cF9jNDJiZjE1MjZmYmQ0N2Q5ODM4YjFkYTU3N2ZmZTZmOSk7CgogICAgICAgICAgICAKICAgICAgICAKICAgIAogICAgICAgICAgICB2YXIgY2lyY2xlX21hcmtlcl9kNmNmZTA4Yjk4NjA0Mjk2YmFhZTM5ZmNlN2NmMzkwZSA9IEwuY2lyY2xlTWFya2VyKAogICAgICAgICAgICAgICAgWzQwLjcxMjIsLTc0LjAxNDI5N10sCiAgICAgICAgICAgICAgICB7CiAgImJ1YmJsaW5nTW91c2VFdmVudHMiOiB0cnVlLAogICJjb2xvciI6ICJibHVlIiwKICAiZGFzaEFycmF5IjogbnVsbCwKICAiZGFzaE9mZnNldCI6IG51bGwsCiAgImZpbGwiOiB0cnVlLAogICJmaWxsQ29sb3IiOiAiYmx1ZSIsCiAgImZpbGxPcGFjaXR5IjogMC42LAogICJmaWxsUnVsZSI6ICJldmVub2RkIiwKICAibGluZUNhcCI6ICJyb3VuZCIsCiAgImxpbmVKb2luIjogInJvdW5kIiwKICAib3BhY2l0eSI6IDEuMCwKICAicmFkaXVzIjogNSwKICAic3Ryb2tlIjogdHJ1ZSwKICAid2VpZ2h0IjogMwp9CiAgICAgICAgICAgICAgICApLmFkZFRvKG1hcF8wNGQxMmNjNWJkYzU0OTg3YmYxNDgxMGZlODA2MWEzMyk7CiAgICAgICAgICAgIAogICAgCiAgICAgICAgICAgIHZhciBwb3B1cF9mOTljMjg4MjM1Nzc0MjA4YjM2ZTRkODQ2YjcwMjg0MyA9IEwucG9wdXAoe21heFdpZHRoOiAnMzAwJ30pOwoKICAgICAgICAgICAgCiAgICAgICAgICAgICAgICB2YXIgaHRtbF9mMDk0MzAxZTc5ZmM0NzRkYjVmNjhhYjhhMjRkYWY5YSA9ICQoJzxkaXYgaWQ9Imh0bWxfZjA5NDMwMWU3OWZjNDc0ZGI1ZjY4YWI4YTI0ZGFmOWEiIHN0eWxlPSJ3aWR0aDogMTAwLjAlOyBoZWlnaHQ6IDEwMC4wJTsiPkNob2NvbGF0ZSBTaG9wPC9kaXY+JylbMF07CiAgICAgICAgICAgICAgICBwb3B1cF9mOTljMjg4MjM1Nzc0MjA4YjM2ZTRkODQ2YjcwMjg0My5zZXRDb250ZW50KGh0bWxfZjA5NDMwMWU3OWZjNDc0ZGI1ZjY4YWI4YTI0ZGFmOWEpOwogICAgICAgICAgICAKCiAgICAgICAgICAgIGNpcmNsZV9tYXJrZXJfZDZjZmUwOGI5ODYwNDI5NmJhYWUzOWZjZTdjZjM5MGUuYmluZFBvcHVwKHBvcHVwX2Y5OWMyODgyMzU3NzQyMDhiMzZlNGQ4NDZiNzAyODQzKTsKCiAgICAgICAgICAgIAogICAgICAgIAogICAgCiAgICAgICAgICAgIHZhciBjaXJjbGVfbWFya2VyX2QxMzYzMjM1ZGVkNDRlNGRhZTYwNWU1MTYwNDQ3NDVmID0gTC5jaXJjbGVNYXJrZXIoCiAgICAgICAgICAgICAgICBbNDAuNzEzOTUzOTg0NjEyMDcsLTc0LjAxNDE3ODMxMDUzMjc0XSwKICAgICAgICAgICAgICAgIHsKICAiYnViYmxpbmdNb3VzZUV2ZW50cyI6IHRydWUsCiAgImNvbG9yIjogImJsdWUiLAogICJkYXNoQXJyYXkiOiBudWxsLAogICJkYXNoT2Zmc2V0IjogbnVsbCwKICAiZmlsbCI6IHRydWUsCiAgImZpbGxDb2xvciI6ICJibHVlIiwKICAiZmlsbE9wYWNpdHkiOiAwLjYsCiAgImZpbGxSdWxlIjogImV2ZW5vZGQiLAogICJsaW5lQ2FwIjogInJvdW5kIiwKICAibGluZUpvaW4iOiAicm91bmQiLAogICJvcGFjaXR5IjogMS4wLAogICJyYWRpdXMiOiA1LAogICJzdHJva2UiOiB0cnVlLAogICJ3ZWlnaHQiOiAzCn0KICAgICAgICAgICAgICAgICkuYWRkVG8obWFwXzA0ZDEyY2M1YmRjNTQ5ODdiZjE0ODEwZmU4MDYxYTMzKTsKICAgICAgICAgICAgCiAgICAKICAgICAgICAgICAgdmFyIHBvcHVwXzY5YjA4MTMxOGY2ZTQ3ZDJhMWRhZDUzYjNhNjk4NTQ1ID0gTC5wb3B1cCh7bWF4V2lkdGg6ICczMDAnfSk7CgogICAgICAgICAgICAKICAgICAgICAgICAgICAgIHZhciBodG1sXzY0YjQyNWUwNWEwYzRiZTE5NDVmYjllMGVhNzQ5Yjk2ID0gJCgnPGRpdiBpZD0iaHRtbF82NGI0MjVlMDVhMGM0YmUxOTQ1ZmI5ZTBlYTc0OWI5NiIgc3R5bGU9IndpZHRoOiAxMDAuMCU7IGhlaWdodDogMTAwLjAlOyI+TmVpZ2hib3Job29kPC9kaXY+JylbMF07CiAgICAgICAgICAgICAgICBwb3B1cF82OWIwODEzMThmNmU0N2QyYTFkYWQ1M2IzYTY5ODU0NS5zZXRDb250ZW50KGh0bWxfNjRiNDI1ZTA1YTBjNGJlMTk0NWZiOWUwZWE3NDliOTYpOwogICAgICAgICAgICAKCiAgICAgICAgICAgIGNpcmNsZV9tYXJrZXJfZDEzNjMyMzVkZWQ0NGU0ZGFlNjA1ZTUxNjA0NDc0NWYuYmluZFBvcHVwKHBvcHVwXzY5YjA4MTMxOGY2ZTQ3ZDJhMWRhZDUzYjNhNjk4NTQ1KTsKCiAgICAgICAgICAgIAogICAgICAgIAogICAgCiAgICAgICAgICAgIHZhciBjaXJjbGVfbWFya2VyXzFlMmM4YzM5NTMxYzQ0MzE4ZTg3NDJhODhkNDkyMWVkID0gTC5jaXJjbGVNYXJrZXIoCiAgICAgICAgICAgICAgICBbNDAuNzE2MjA4ODQ3NDU4MDQsLTc0LjAxNDM2MTkzMzIzMDg2XSwKICAgICAgICAgICAgICAgIHsKICAiYnViYmxpbmdNb3VzZUV2ZW50cyI6IHRydWUsCiAgImNvbG9yIjogImJsdWUiLAogICJkYXNoQXJyYXkiOiBudWxsLAogICJkYXNoT2Zmc2V0IjogbnVsbCwKICAiZmlsbCI6IHRydWUsCiAgImZpbGxDb2xvciI6ICJibHVlIiwKICAiZmlsbE9wYWNpdHkiOiAwLjYsCiAgImZpbGxSdWxlIjogImV2ZW5vZGQiLAogICJsaW5lQ2FwIjogInJvdW5kIiwKICAibGluZUpvaW4iOiAicm91bmQiLAogICJvcGFjaXR5IjogMS4wLAogICJyYWRpdXMiOiA1LAogICJzdHJva2UiOiB0cnVlLAogICJ3ZWlnaHQiOiAzCn0KICAgICAgICAgICAgICAgICkuYWRkVG8obWFwXzA0ZDEyY2M1YmRjNTQ5ODdiZjE0ODEwZmU4MDYxYTMzKTsKICAgICAgICAgICAgCiAgICAKICAgICAgICAgICAgdmFyIHBvcHVwX2NjYWEwZWIzZjQ2ODQ5N2RhODljODczNmFkODNjM2UwID0gTC5wb3B1cCh7bWF4V2lkdGg6ICczMDAnfSk7CgogICAgICAgICAgICAKICAgICAgICAgICAgICAgIHZhciBodG1sX2QxYzVhZThmNDcxNDQzMDc5MzYwYzc4NDYzOGU5MjcxID0gJCgnPGRpdiBpZD0iaHRtbF9kMWM1YWU4ZjQ3MTQ0MzA3OTM2MGM3ODQ2MzhlOTI3MSIgc3R5bGU9IndpZHRoOiAxMDAuMCU7IGhlaWdodDogMTAwLjAlOyI+Q29udmVuaWVuY2UgU3RvcmU8L2Rpdj4nKVswXTsKICAgICAgICAgICAgICAgIHBvcHVwX2NjYWEwZWIzZjQ2ODQ5N2RhODljODczNmFkODNjM2UwLnNldENvbnRlbnQoaHRtbF9kMWM1YWU4ZjQ3MTQ0MzA3OTM2MGM3ODQ2MzhlOTI3MSk7CiAgICAgICAgICAgIAoKICAgICAgICAgICAgY2lyY2xlX21hcmtlcl8xZTJjOGMzOTUzMWM0NDMxOGU4NzQyYTg4ZDQ5MjFlZC5iaW5kUG9wdXAocG9wdXBfY2NhYTBlYjNmNDY4NDk3ZGE4OWM4NzM2YWQ4M2MzZTApOwoKICAgICAgICAgICAgCiAgICAgICAgCiAgICAKICAgICAgICAgICAgdmFyIGNpcmNsZV9tYXJrZXJfOTA1YjJmZDhlYzk5NDgzZTlkMWVlOTI3NTQ2ZGI0MmEgPSBMLmNpcmNsZU1hcmtlcigKICAgICAgICAgICAgICAgIFs0MC43MTM3NzY5MTc3NjM0MSwtNzQuMDE0OTc4NDA4ODEzNDhdLAogICAgICAgICAgICAgICAgewogICJidWJibGluZ01vdXNlRXZlbnRzIjogdHJ1ZSwKICAiY29sb3IiOiAiYmx1ZSIsCiAgImRhc2hBcnJheSI6IG51bGwsCiAgImRhc2hPZmZzZXQiOiBudWxsLAogICJmaWxsIjogdHJ1ZSwKICAiZmlsbENvbG9yIjogImJsdWUiLAogICJmaWxsT3BhY2l0eSI6IDAuNiwKICAiZmlsbFJ1bGUiOiAiZXZlbm9kZCIsCiAgImxpbmVDYXAiOiAicm91bmQiLAogICJsaW5lSm9pbiI6ICJyb3VuZCIsCiAgIm9wYWNpdHkiOiAxLjAsCiAgInJhZGl1cyI6IDUsCiAgInN0cm9rZSI6IHRydWUsCiAgIndlaWdodCI6IDMKfQogICAgICAgICAgICAgICAgKS5hZGRUbyhtYXBfMDRkMTJjYzViZGM1NDk4N2JmMTQ4MTBmZTgwNjFhMzMpOwogICAgICAgICAgICAKICAgIAogICAgICAgICAgICB2YXIgcG9wdXBfYjE1NTk1ZjI1OWU3NDdiZTkyNzcwMzM2ZjM2Mzc4YWYgPSBMLnBvcHVwKHttYXhXaWR0aDogJzMwMCd9KTsKCiAgICAgICAgICAgIAogICAgICAgICAgICAgICAgdmFyIGh0bWxfNmE0MWNjMWNhNmUzNGI3MDgwNGM4ZDhiMzU5MTY4Y2MgPSAkKCc8ZGl2IGlkPSJodG1sXzZhNDFjYzFjYTZlMzRiNzA4MDRjOGQ4YjM1OTE2OGNjIiBzdHlsZT0id2lkdGg6IDEwMC4wJTsgaGVpZ2h0OiAxMDAuMCU7Ij5Db3NtZXRpY3MgU2hvcDwvZGl2PicpWzBdOwogICAgICAgICAgICAgICAgcG9wdXBfYjE1NTk1ZjI1OWU3NDdiZTkyNzcwMzM2ZjM2Mzc4YWYuc2V0Q29udGVudChodG1sXzZhNDFjYzFjYTZlMzRiNzA4MDRjOGQ4YjM1OTE2OGNjKTsKICAgICAgICAgICAgCgogICAgICAgICAgICBjaXJjbGVfbWFya2VyXzkwNWIyZmQ4ZWM5OTQ4M2U5ZDFlZTkyNzU0NmRiNDJhLmJpbmRQb3B1cChwb3B1cF9iMTU1OTVmMjU5ZTc0N2JlOTI3NzAzMzZmMzYzNzhhZik7CgogICAgICAgICAgICAKICAgICAgICAKICAgIAogICAgICAgICAgICB2YXIgY2lyY2xlX21hcmtlcl82ZTNlMGMxYmZmNjA0YjEyOWE4ZjFhZDBkNTA5NTE3MiA9IEwuY2lyY2xlTWFya2VyKAogICAgICAgICAgICAgICAgWzQwLjcxNjU3OTQzNzI1NTg2LC03NC4wMTIzOTAxMzY3MTg3NV0sCiAgICAgICAgICAgICAgICB7CiAgImJ1YmJsaW5nTW91c2VFdmVudHMiOiB0cnVlLAogICJjb2xvciI6ICJibHVlIiwKICAiZGFzaEFycmF5IjogbnVsbCwKICAiZGFzaE9mZnNldCI6IG51bGwsCiAgImZpbGwiOiB0cnVlLAogICJmaWxsQ29sb3IiOiAiYmx1ZSIsCiAgImZpbGxPcGFjaXR5IjogMC42LAogICJmaWxsUnVsZSI6ICJldmVub2RkIiwKICAibGluZUNhcCI6ICJyb3VuZCIsCiAgImxpbmVKb2luIjogInJvdW5kIiwKICAib3BhY2l0eSI6IDEuMCwKICAicmFkaXVzIjogNSwKICAic3Ryb2tlIjogdHJ1ZSwKICAid2VpZ2h0IjogMwp9CiAgICAgICAgICAgICAgICApLmFkZFRvKG1hcF8wNGQxMmNjNWJkYzU0OTg3YmYxNDgxMGZlODA2MWEzMyk7CiAgICAgICAgICAgIAogICAgCiAgICAgICAgICAgIHZhciBwb3B1cF85NjJlZmM5Mjg4Nzg0NDI3YTgyZWUwMWFlZmE4ZDJjNCA9IEwucG9wdXAoe21heFdpZHRoOiAnMzAwJ30pOwoKICAgICAgICAgICAgCiAgICAgICAgICAgICAgICB2YXIgaHRtbF9mZDVmY2ZlYmMzMDQ0OWMxYjlkNzI0NjlmOWEwZWI1MCA9ICQoJzxkaXYgaWQ9Imh0bWxfZmQ1ZmNmZWJjMzA0NDljMWI5ZDcyNDY5ZjlhMGViNTAiIHN0eWxlPSJ3aWR0aDogMTAwLjAlOyBoZWlnaHQ6IDEwMC4wJTsiPkRvY3RvcidzIE9mZmljZTwvZGl2PicpWzBdOwogICAgICAgICAgICAgICAgcG9wdXBfOTYyZWZjOTI4ODc4NDQyN2E4MmVlMDFhZWZhOGQyYzQuc2V0Q29udGVudChodG1sX2ZkNWZjZmViYzMwNDQ5YzFiOWQ3MjQ2OWY5YTBlYjUwKTsKICAgICAgICAgICAgCgogICAgICAgICAgICBjaXJjbGVfbWFya2VyXzZlM2UwYzFiZmY2MDRiMTI5YThmMWFkMGQ1MDk1MTcyLmJpbmRQb3B1cChwb3B1cF85NjJlZmM5Mjg4Nzg0NDI3YTgyZWUwMWFlZmE4ZDJjNCk7CgogICAgICAgICAgICAKICAgICAgICAKICAgIAogICAgICAgICAgICB2YXIgY2lyY2xlX21hcmtlcl9kMjkwMThiNDM1OWM0MTNiYTI2YzY3ZTI2NDcwMTdjOCA9IEwuY2lyY2xlTWFya2VyKAogICAgICAgICAgICAgICAgWzQwLjcxMzk1MSwtNzQuMDEzMjQ4XSwKICAgICAgICAgICAgICAgIHsKICAiYnViYmxpbmdNb3VzZUV2ZW50cyI6IHRydWUsCiAgImNvbG9yIjogImJsdWUiLAogICJkYXNoQXJyYXkiOiBudWxsLAogICJkYXNoT2Zmc2V0IjogbnVsbCwKICAiZmlsbCI6IHRydWUsCiAgImZpbGxDb2xvciI6ICJibHVlIiwKICAiZmlsbE9wYWNpdHkiOiAwLjYsCiAgImZpbGxSdWxlIjogImV2ZW5vZGQiLAogICJsaW5lQ2FwIjogInJvdW5kIiwKICAibGluZUpvaW4iOiAicm91bmQiLAogICJvcGFjaXR5IjogMS4wLAogICJyYWRpdXMiOiA1LAogICJzdHJva2UiOiB0cnVlLAogICJ3ZWlnaHQiOiAzCn0KICAgICAgICAgICAgICAgICkuYWRkVG8obWFwXzA0ZDEyY2M1YmRjNTQ5ODdiZjE0ODEwZmU4MDYxYTMzKTsKICAgICAgICAgICAgCiAgICAKICAgICAgICAgICAgdmFyIHBvcHVwXzg4NGJkMTI3ZTMwOTQzYWJhYmVmYzA2MmI4Mzk1MjIyID0gTC5wb3B1cCh7bWF4V2lkdGg6ICczMDAnfSk7CgogICAgICAgICAgICAKICAgICAgICAgICAgICAgIHZhciBodG1sXzFhMjAwYWU5NTRiMzRhOTA4NTRmNDY1NjAyODZlNjAxID0gJCgnPGRpdiBpZD0iaHRtbF8xYTIwMGFlOTU0YjM0YTkwODU0ZjQ2NTYwMjg2ZTYwMSIgc3R5bGU9IndpZHRoOiAxMDAuMCU7IGhlaWdodDogMTAwLjAlOyI+R291cm1ldCBTaG9wPC9kaXY+JylbMF07CiAgICAgICAgICAgICAgICBwb3B1cF84ODRiZDEyN2UzMDk0M2FiYWJlZmMwNjJiODM5NTIyMi5zZXRDb250ZW50KGh0bWxfMWEyMDBhZTk1NGIzNGE5MDg1NGY0NjU2MDI4NmU2MDEpOwogICAgICAgICAgICAKCiAgICAgICAgICAgIGNpcmNsZV9tYXJrZXJfZDI5MDE4YjQzNTljNDEzYmEyNmM2N2UyNjQ3MDE3YzguYmluZFBvcHVwKHBvcHVwXzg4NGJkMTI3ZTMwOTQzYWJhYmVmYzA2MmI4Mzk1MjIyKTsKCiAgICAgICAgICAgIAogICAgICAgIAogICAgCiAgICAgICAgICAgIHZhciBjaXJjbGVfbWFya2VyXzlhZDMwMzMxYjliZTQwMGJiZmZkZjA4ZjE4YmM2OGMzID0gTC5jaXJjbGVNYXJrZXIoCiAgICAgICAgICAgICAgICBbNDAuNzEzMTI3OTc4MTMzMzQsLTc0LjAxMzM2OTIyMDkxNjg3XSwKICAgICAgICAgICAgICAgIHsKICAiYnViYmxpbmdNb3VzZUV2ZW50cyI6IHRydWUsCiAgImNvbG9yIjogImJsdWUiLAogICJkYXNoQXJyYXkiOiBudWxsLAogICJkYXNoT2Zmc2V0IjogbnVsbCwKICAiZmlsbCI6IHRydWUsCiAgImZpbGxDb2xvciI6ICJibHVlIiwKICAiZmlsbE9wYWNpdHkiOiAwLjYsCiAgImZpbGxSdWxlIjogImV2ZW5vZGQiLAogICJsaW5lQ2FwIjogInJvdW5kIiwKICAibGluZUpvaW4iOiAicm91bmQiLAogICJvcGFjaXR5IjogMS4wLAogICJyYWRpdXMiOiA1LAogICJzdHJva2UiOiB0cnVlLAogICJ3ZWlnaHQiOiAzCn0KICAgICAgICAgICAgICAgICkuYWRkVG8obWFwXzA0ZDEyY2M1YmRjNTQ5ODdiZjE0ODEwZmU4MDYxYTMzKTsKICAgICAgICAgICAgCiAgICAKICAgICAgICAgICAgdmFyIHBvcHVwXzQyNTM2NzlmMWQ0ODQxZjY5ZWZjYzM1ODdhNjc5NDljID0gTC5wb3B1cCh7bWF4V2lkdGg6ICczMDAnfSk7CgogICAgICAgICAgICAKICAgICAgICAgICAgICAgIHZhciBodG1sX2NhY2IwZjc0YWQwZDRiZjg5NDU5ZTI4NDY2NzQ4ZGY5ID0gJCgnPGRpdiBpZD0iaHRtbF9jYWNiMGY3NGFkMGQ0YmY4OTQ1OWUyODQ2Njc0OGRmOSIgc3R5bGU9IndpZHRoOiAxMDAuMCU7IGhlaWdodDogMTAwLjAlOyI+U2hvcHBpbmcgTWFsbDwvZGl2PicpWzBdOwogICAgICAgICAgICAgICAgcG9wdXBfNDI1MzY3OWYxZDQ4NDFmNjllZmNjMzU4N2E2Nzk0OWMuc2V0Q29udGVudChodG1sX2NhY2IwZjc0YWQwZDRiZjg5NDU5ZTI4NDY2NzQ4ZGY5KTsKICAgICAgICAgICAgCgogICAgICAgICAgICBjaXJjbGVfbWFya2VyXzlhZDMwMzMxYjliZTQwMGJiZmZkZjA4ZjE4YmM2OGMzLmJpbmRQb3B1cChwb3B1cF80MjUzNjc5ZjFkNDg0MWY2OWVmY2MzNTg3YTY3OTQ5Yyk7CgogICAgICAgICAgICAKICAgICAgICAKICAgIAogICAgICAgICAgICB2YXIgY2lyY2xlX21hcmtlcl8wMzM2MTlmNGEwNWU0MWZhOGQ0ODllZTI5NDBmOTY4YiA9IEwuY2lyY2xlTWFya2VyKAogICAgICAgICAgICAgICAgWzQwLjcxMzE5NzY4NzIxMDQ5LC03NC4wMTM5ODQzMzQ1NjAyOV0sCiAgICAgICAgICAgICAgICB7CiAgImJ1YmJsaW5nTW91c2VFdmVudHMiOiB0cnVlLAogICJjb2xvciI6ICJibHVlIiwKICAiZGFzaEFycmF5IjogbnVsbCwKICAiZGFzaE9mZnNldCI6IG51bGwsCiAgImZpbGwiOiB0cnVlLAogICJmaWxsQ29sb3IiOiAiYmx1ZSIsCiAgImZpbGxPcGFjaXR5IjogMC42LAogICJmaWxsUnVsZSI6ICJldmVub2RkIiwKICAibGluZUNhcCI6ICJyb3VuZCIsCiAgImxpbmVKb2luIjogInJvdW5kIiwKICAib3BhY2l0eSI6IDEuMCwKICAicmFkaXVzIjogNSwKICAic3Ryb2tlIjogdHJ1ZSwKICAid2VpZ2h0IjogMwp9CiAgICAgICAgICAgICAgICApLmFkZFRvKG1hcF8wNGQxMmNjNWJkYzU0OTg3YmYxNDgxMGZlODA2MWEzMyk7CiAgICAgICAgICAgIAogICAgCiAgICAgICAgICAgIHZhciBwb3B1cF85ZDk0NWM3ZjgxZjQ0NGU0OGYyZGU2NjI4ODM5NDM1YiA9IEwucG9wdXAoe21heFdpZHRoOiAnMzAwJ30pOwoKICAgICAgICAgICAgCiAgICAgICAgICAgICAgICB2YXIgaHRtbF8zMjA0ZDBhZDhjNmI0ZjI3YmIyNjY2YjdlZGRjMGY1ZiA9ICQoJzxkaXYgaWQ9Imh0bWxfMzIwNGQwYWQ4YzZiNGYyN2JiMjY2NmI3ZWRkYzBmNWYiIHN0eWxlPSJ3aWR0aDogMTAwLjAlOyBoZWlnaHQ6IDEwMC4wJTsiPkJvb2tzdG9yZTwvZGl2PicpWzBdOwogICAgICAgICAgICAgICAgcG9wdXBfOWQ5NDVjN2Y4MWY0NDRlNDhmMmRlNjYyODgzOTQzNWIuc2V0Q29udGVudChodG1sXzMyMDRkMGFkOGM2YjRmMjdiYjI2NjZiN2VkZGMwZjVmKTsKICAgICAgICAgICAgCgogICAgICAgICAgICBjaXJjbGVfbWFya2VyXzAzMzYxOWY0YTA1ZTQxZmE4ZDQ4OWVlMjk0MGY5NjhiLmJpbmRQb3B1cChwb3B1cF85ZDk0NWM3ZjgxZjQ0NGU0OGYyZGU2NjI4ODM5NDM1Yik7CgogICAgICAgICAgICAKICAgICAgICAKICAgIAogICAgICAgICAgICB2YXIgY2lyY2xlX21hcmtlcl9kNzUyOGNmNDczZmY0MGZlYjBhODc1MmU4YTg0YWI4YSA9IEwuY2lyY2xlTWFya2VyKAogICAgICAgICAgICAgICAgWzQwLjcxMzc4Mjg5MTQ1MTI4LC03NC4wMTMyNDg3MTc5MTQ5M10sCiAgICAgICAgICAgICAgICB7CiAgImJ1YmJsaW5nTW91c2VFdmVudHMiOiB0cnVlLAogICJjb2xvciI6ICJibHVlIiwKICAiZGFzaEFycmF5IjogbnVsbCwKICAiZGFzaE9mZnNldCI6IG51bGwsCiAgImZpbGwiOiB0cnVlLAogICJmaWxsQ29sb3IiOiAiYmx1ZSIsCiAgImZpbGxPcGFjaXR5IjogMC42LAogICJmaWxsUnVsZSI6ICJldmVub2RkIiwKICAibGluZUNhcCI6ICJyb3VuZCIsCiAgImxpbmVKb2luIjogInJvdW5kIiwKICAib3BhY2l0eSI6IDEuMCwKICAicmFkaXVzIjogNSwKICAic3Ryb2tlIjogdHJ1ZSwKICAid2VpZ2h0IjogMwp9CiAgICAgICAgICAgICAgICApLmFkZFRvKG1hcF8wNGQxMmNjNWJkYzU0OTg3YmYxNDgxMGZlODA2MWEzMyk7CiAgICAgICAgICAgIAogICAgCiAgICAgICAgICAgIHZhciBwb3B1cF8yZmJmZjgwMGI4MmQ0ZWY4YjJhYzEzY2EzMWFmZDFiYyA9IEwucG9wdXAoe21heFdpZHRoOiAnMzAwJ30pOwoKICAgICAgICAgICAgCiAgICAgICAgICAgICAgICB2YXIgaHRtbF85N2MzYjdjOGQ2NDg0ZjczOGYwZTc4NGQwMDhiM2I2OSA9ICQoJzxkaXYgaWQ9Imh0bWxfOTdjM2I3YzhkNjQ4NGY3MzhmMGU3ODRkMDA4YjNiNjkiIHN0eWxlPSJ3aWR0aDogMTAwLjAlOyBoZWlnaHQ6IDEwMC4wJTsiPlRveSAvIEdhbWUgU3RvcmU8L2Rpdj4nKVswXTsKICAgICAgICAgICAgICAgIHBvcHVwXzJmYmZmODAwYjgyZDRlZjhiMmFjMTNjYTMxYWZkMWJjLnNldENvbnRlbnQoaHRtbF85N2MzYjdjOGQ2NDg0ZjczOGYwZTc4NGQwMDhiM2I2OSk7CiAgICAgICAgICAgIAoKICAgICAgICAgICAgY2lyY2xlX21hcmtlcl9kNzUyOGNmNDczZmY0MGZlYjBhODc1MmU4YTg0YWI4YS5iaW5kUG9wdXAocG9wdXBfMmZiZmY4MDBiODJkNGVmOGIyYWMxM2NhMzFhZmQxYmMpOwoKICAgICAgICAgICAgCiAgICAgICAgCiAgICAKICAgICAgICAgICAgdmFyIGNpcmNsZV9tYXJrZXJfNzAxNDE5NjU0ODMyNGVlNzgzYzBhMWQ3ODZlZmEwMTcgPSBMLmNpcmNsZU1hcmtlcigKICAgICAgICAgICAgICAgIFs0MC43MTQzNDkxNzY1NjY2ODUsLTc0LjAxMjgyOTgyNTkzNTk3XSwKICAgICAgICAgICAgICAgIHsKICAiYnViYmxpbmdNb3VzZUV2ZW50cyI6IHRydWUsCiAgImNvbG9yIjogImJsdWUiLAogICJkYXNoQXJyYXkiOiBudWxsLAogICJkYXNoT2Zmc2V0IjogbnVsbCwKICAiZmlsbCI6IHRydWUsCiAgImZpbGxDb2xvciI6ICJibHVlIiwKICAiZmlsbE9wYWNpdHkiOiAwLjYsCiAgImZpbGxSdWxlIjogImV2ZW5vZGQiLAogICJsaW5lQ2FwIjogInJvdW5kIiwKICAibGluZUpvaW4iOiAicm91bmQiLAogICJvcGFjaXR5IjogMS4wLAogICJyYWRpdXMiOiA1LAogICJzdHJva2UiOiB0cnVlLAogICJ3ZWlnaHQiOiAzCn0KICAgICAgICAgICAgICAgICkuYWRkVG8obWFwXzA0ZDEyY2M1YmRjNTQ5ODdiZjE0ODEwZmU4MDYxYTMzKTsKICAgICAgICAgICAgCiAgICAKICAgICAgICAgICAgdmFyIHBvcHVwXzRhZTc2YjFlNDEwNjQ4N2FiYmYzNGE4MTkwMDQxN2I1ID0gTC5wb3B1cCh7bWF4V2lkdGg6ICczMDAnfSk7CgogICAgICAgICAgICAKICAgICAgICAgICAgICAgIHZhciBodG1sX2Q1ZjZlMjA0NzdiZTQ2MmRiNTEwY2RhMmQ5YjU3MThmID0gJCgnPGRpdiBpZD0iaHRtbF9kNWY2ZTIwNDc3YmU0NjJkYjUxMGNkYTJkOWI1NzE4ZiIgc3R5bGU9IndpZHRoOiAxMDAuMCU7IGhlaWdodDogMTAwLjAlOyI+QXJ0cyAmIENyYWZ0cyBTdG9yZTwvZGl2PicpWzBdOwogICAgICAgICAgICAgICAgcG9wdXBfNGFlNzZiMWU0MTA2NDg3YWJiZjM0YTgxOTAwNDE3YjUuc2V0Q29udGVudChodG1sX2Q1ZjZlMjA0NzdiZTQ2MmRiNTEwY2RhMmQ5YjU3MThmKTsKICAgICAgICAgICAgCgogICAgICAgICAgICBjaXJjbGVfbWFya2VyXzcwMTQxOTY1NDgzMjRlZTc4M2MwYTFkNzg2ZWZhMDE3LmJpbmRQb3B1cChwb3B1cF80YWU3NmIxZTQxMDY0ODdhYmJmMzRhODE5MDA0MTdiNSk7CgogICAgICAgICAgICAKICAgICAgICAKICAgIAogICAgICAgICAgICB2YXIgY2lyY2xlX21hcmtlcl80ZjhlNTZiOTRlMzU0MmQ4OWFiOTc4MDZhMjA2Mjg3NyA9IEwuY2lyY2xlTWFya2VyKAogICAgICAgICAgICAgICAgWzQwLjcxNjg0ODEzMzk5MTc4LC03NC4wMTI5NDQ1OTA5NTMwNV0sCiAgICAgICAgICAgICAgICB7CiAgImJ1YmJsaW5nTW91c2VFdmVudHMiOiB0cnVlLAogICJjb2xvciI6ICJibHVlIiwKICAiZGFzaEFycmF5IjogbnVsbCwKICAiZGFzaE9mZnNldCI6IG51bGwsCiAgImZpbGwiOiB0cnVlLAogICJmaWxsQ29sb3IiOiAiYmx1ZSIsCiAgImZpbGxPcGFjaXR5IjogMC42LAogICJmaWxsUnVsZSI6ICJldmVub2RkIiwKICAibGluZUNhcCI6ICJyb3VuZCIsCiAgImxpbmVKb2luIjogInJvdW5kIiwKICAib3BhY2l0eSI6IDEuMCwKICAicmFkaXVzIjogNSwKICAic3Ryb2tlIjogdHJ1ZSwKICAid2VpZ2h0IjogMwp9CiAgICAgICAgICAgICAgICApLmFkZFRvKG1hcF8wNGQxMmNjNWJkYzU0OTg3YmYxNDgxMGZlODA2MWEzMyk7CiAgICAgICAgICAgIAogICAgCiAgICAgICAgICAgIHZhciBwb3B1cF8zYzZlYjc5YmQ4Y2M0NzgxYmI3MWFmZmQ0ZmFhNWQ1NyA9IEwucG9wdXAoe21heFdpZHRoOiAnMzAwJ30pOwoKICAgICAgICAgICAgCiAgICAgICAgICAgICAgICB2YXIgaHRtbF85YmMxMTk5YTE0NjM0MDQwYTJjOTAxODI5NWJhYTQxNyA9ICQoJzxkaXYgaWQ9Imh0bWxfOWJjMTE5OWExNDYzNDA0MGEyYzkwMTgyOTViYWE0MTciIHN0eWxlPSJ3aWR0aDogMTAwLjAlOyBoZWlnaHQ6IDEwMC4wJTsiPlRveSAvIEdhbWUgU3RvcmU8L2Rpdj4nKVswXTsKICAgICAgICAgICAgICAgIHBvcHVwXzNjNmViNzliZDhjYzQ3ODFiYjcxYWZmZDRmYWE1ZDU3LnNldENvbnRlbnQoaHRtbF85YmMxMTk5YTE0NjM0MDQwYTJjOTAxODI5NWJhYTQxNyk7CiAgICAgICAgICAgIAoKICAgICAgICAgICAgY2lyY2xlX21hcmtlcl80ZjhlNTZiOTRlMzU0MmQ4OWFiOTc4MDZhMjA2Mjg3Ny5iaW5kUG9wdXAocG9wdXBfM2M2ZWI3OWJkOGNjNDc4MWJiNzFhZmZkNGZhYTVkNTcpOwoKICAgICAgICAgICAgCiAgICAgICAgCiAgICAKICAgICAgICAgICAgdmFyIGNpcmNsZV9tYXJrZXJfMDljMjk0YzMwODZlNDYxZDllZjk1NDQzZjgzYjMwNGQgPSBMLmNpcmNsZU1hcmtlcigKICAgICAgICAgICAgICAgIFs0MC43MTI5MzY3Njk2MDIsLTc0LjAxMzAzMDY2NDY3MDYyXSwKICAgICAgICAgICAgICAgIHsKICAiYnViYmxpbmdNb3VzZUV2ZW50cyI6IHRydWUsCiAgImNvbG9yIjogImJsdWUiLAogICJkYXNoQXJyYXkiOiBudWxsLAogICJkYXNoT2Zmc2V0IjogbnVsbCwKICAiZmlsbCI6IHRydWUsCiAgImZpbGxDb2xvciI6ICJibHVlIiwKICAiZmlsbE9wYWNpdHkiOiAwLjYsCiAgImZpbGxSdWxlIjogImV2ZW5vZGQiLAogICJsaW5lQ2FwIjogInJvdW5kIiwKICAibGluZUpvaW4iOiAicm91bmQiLAogICJvcGFjaXR5IjogMS4wLAogICJyYWRpdXMiOiA1LAogICJzdHJva2UiOiB0cnVlLAogICJ3ZWlnaHQiOiAzCn0KICAgICAgICAgICAgICAgICkuYWRkVG8obWFwXzA0ZDEyY2M1YmRjNTQ5ODdiZjE0ODEwZmU4MDYxYTMzKTsKICAgICAgICAgICAgCiAgICAKICAgICAgICAgICAgdmFyIHBvcHVwX2Q4MDhiMGViNzIwYjRhOGNiYmM5ZmNjY2NkYTAwZGJiID0gTC5wb3B1cCh7bWF4V2lkdGg6ICczMDAnfSk7CgogICAgICAgICAgICAKICAgICAgICAgICAgICAgIHZhciBodG1sXzM2ZjNiNWVmNDAwMzQwZGI5NmY2ODM0YWVkMzFhMWVjID0gJCgnPGRpdiBpZD0iaHRtbF8zNmYzYjVlZjQwMDM0MGRiOTZmNjgzNGFlZDMxYTFlYyIgc3R5bGU9IndpZHRoOiAxMDAuMCU7IGhlaWdodDogMTAwLjAlOyI+R291cm1ldCBTaG9wPC9kaXY+JylbMF07CiAgICAgICAgICAgICAgICBwb3B1cF9kODA4YjBlYjcyMGI0YThjYmJjOWZjY2NjZGEwMGRiYi5zZXRDb250ZW50KGh0bWxfMzZmM2I1ZWY0MDAzNDBkYjk2ZjY4MzRhZWQzMWExZWMpOwogICAgICAgICAgICAKCiAgICAgICAgICAgIGNpcmNsZV9tYXJrZXJfMDljMjk0YzMwODZlNDYxZDllZjk1NDQzZjgzYjMwNGQuYmluZFBvcHVwKHBvcHVwX2Q4MDhiMGViNzIwYjRhOGNiYmM5ZmNjY2NkYTAwZGJiKTsKCiAgICAgICAgICAgIAogICAgICAgIAogICAgCiAgICAgICAgICAgIHZhciBjaXJjbGVfbWFya2VyXzlhMDNiOGE0Y2QxOTQ3OGNhYmU4MjVmNzJlOTY5MDJkID0gTC5jaXJjbGVNYXJrZXIoCiAgICAgICAgICAgICAgICBbNDAuNzEyMDg5OTY4OTUzNDUsLTc0LjAxMzQwMzY1MDMzMjA0XSwKICAgICAgICAgICAgICAgIHsKICAiYnViYmxpbmdNb3VzZUV2ZW50cyI6IHRydWUsCiAgImNvbG9yIjogImJsdWUiLAogICJkYXNoQXJyYXkiOiBudWxsLAogICJkYXNoT2Zmc2V0IjogbnVsbCwKICAiZmlsbCI6IHRydWUsCiAgImZpbGxDb2xvciI6ICJibHVlIiwKICAiZmlsbE9wYWNpdHkiOiAwLjYsCiAgImZpbGxSdWxlIjogImV2ZW5vZGQiLAogICJsaW5lQ2FwIjogInJvdW5kIiwKICAibGluZUpvaW4iOiAicm91bmQiLAogICJvcGFjaXR5IjogMS4wLAogICJyYWRpdXMiOiA1LAogICJzdHJva2UiOiB0cnVlLAogICJ3ZWlnaHQiOiAzCn0KICAgICAgICAgICAgICAgICkuYWRkVG8obWFwXzA0ZDEyY2M1YmRjNTQ5ODdiZjE0ODEwZmU4MDYxYTMzKTsKICAgICAgICAgICAgCiAgICAKICAgICAgICAgICAgdmFyIHBvcHVwXzVlOWE2ZDIwZjYwZDQ1MGJhMWUyMDE1YTA4MWY4NmY2ID0gTC5wb3B1cCh7bWF4V2lkdGg6ICczMDAnfSk7CgogICAgICAgICAgICAKICAgICAgICAgICAgICAgIHZhciBodG1sXzUyMzZmOWU4MzY1YzRhOWQ4NzI4YWZiODRkZDA0MGI2ID0gJCgnPGRpdiBpZD0iaHRtbF81MjM2ZjllODM2NWM0YTlkODcyOGFmYjg0ZGQwNDBiNiIgc3R5bGU9IndpZHRoOiAxMDAuMCU7IGhlaWdodDogMTAwLjAlOyI+R2VuZXJhbCBFbnRlcnRhaW5tZW50PC9kaXY+JylbMF07CiAgICAgICAgICAgICAgICBwb3B1cF81ZTlhNmQyMGY2MGQ0NTBiYTFlMjAxNWEwODFmODZmNi5zZXRDb250ZW50KGh0bWxfNTIzNmY5ZTgzNjVjNGE5ZDg3MjhhZmI4NGRkMDQwYjYpOwogICAgICAgICAgICAKCiAgICAgICAgICAgIGNpcmNsZV9tYXJrZXJfOWEwM2I4YTRjZDE5NDc4Y2FiZTgyNWY3MmU5NjkwMmQuYmluZFBvcHVwKHBvcHVwXzVlOWE2ZDIwZjYwZDQ1MGJhMWUyMDE1YTA4MWY4NmY2KTsKCiAgICAgICAgICAgIAogICAgICAgIAogICAgCiAgICAgICAgICAgIHZhciBjaXJjbGVfbWFya2VyXzllMGEyYWIxOWFjNjRlZmFhOWJhMTNiMmRlMDNkMGExID0gTC5jaXJjbGVNYXJrZXIoCiAgICAgICAgICAgICAgICBbNDAuNzExMzgwMTI4OTE0OTIsLTc0LjAxMzkxNDM1MjU5NDk1XSwKICAgICAgICAgICAgICAgIHsKICAiYnViYmxpbmdNb3VzZUV2ZW50cyI6IHRydWUsCiAgImNvbG9yIjogImJsdWUiLAogICJkYXNoQXJyYXkiOiBudWxsLAogICJkYXNoT2Zmc2V0IjogbnVsbCwKICAiZmlsbCI6IHRydWUsCiAgImZpbGxDb2xvciI6ICJibHVlIiwKICAiZmlsbE9wYWNpdHkiOiAwLjYsCiAgImZpbGxSdWxlIjogImV2ZW5vZGQiLAogICJsaW5lQ2FwIjogInJvdW5kIiwKICAibGluZUpvaW4iOiAicm91bmQiLAogICJvcGFjaXR5IjogMS4wLAogICJyYWRpdXMiOiA1LAogICJzdHJva2UiOiB0cnVlLAogICJ3ZWlnaHQiOiAzCn0KICAgICAgICAgICAgICAgICkuYWRkVG8obWFwXzA0ZDEyY2M1YmRjNTQ5ODdiZjE0ODEwZmU4MDYxYTMzKTsKICAgICAgICAgICAgCiAgICAKICAgICAgICAgICAgdmFyIHBvcHVwX2EwYjlkODRhY2U1NzQ0YmQ5NTNmOGQzZjE5ZmVhMGIyID0gTC5wb3B1cCh7bWF4V2lkdGg6ICczMDAnfSk7CgogICAgICAgICAgICAKICAgICAgICAgICAgICAgIHZhciBodG1sXzM4MjJlZjU3OGE3ZTQxODA5OGU5N2FiNmVhMWYwNzA2ID0gJCgnPGRpdiBpZD0iaHRtbF8zODIyZWY1NzhhN2U0MTgwOThlOTdhYjZlYTFmMDcwNiIgc3R5bGU9IndpZHRoOiAxMDAuMCU7IGhlaWdodDogMTAwLjAlOyI+VGhyaWZ0IC8gVmludGFnZSBTdG9yZTwvZGl2PicpWzBdOwogICAgICAgICAgICAgICAgcG9wdXBfYTBiOWQ4NGFjZTU3NDRiZDk1M2Y4ZDNmMTlmZWEwYjIuc2V0Q29udGVudChodG1sXzM4MjJlZjU3OGE3ZTQxODA5OGU5N2FiNmVhMWYwNzA2KTsKICAgICAgICAgICAgCgogICAgICAgICAgICBjaXJjbGVfbWFya2VyXzllMGEyYWIxOWFjNjRlZmFhOWJhMTNiMmRlMDNkMGExLmJpbmRQb3B1cChwb3B1cF9hMGI5ZDg0YWNlNTc0NGJkOTUzZjhkM2YxOWZlYTBiMik7CgogICAgICAgICAgICAKICAgICAgICAKPC9zY3JpcHQ+ onload=\"this.contentDocument.open();this.contentDocument.write(atob(this.getAttribute('data-html')));this.contentDocument.close();\" allowfullscreen webkitallowfullscreen mozallowfullscreen></iframe></div></div>"
      ],
      "text/plain": [
       "<folium.folium.Map at 0x7f6b4c291828>"
      ]
     },
     "execution_count": 22,
     "metadata": {},
     "output_type": "execute_result"
    }
   ],
   "source": [
    "venues_map = folium.Map(location=[latitude, longitude], zoom_start=13) # generate map centred around the Conrad Hotel\n",
    "\n",
    "# add a red circle marker to represent the Conrad Hotel\n",
    "folium.features.CircleMarker(\n",
    "    [latitude, longitude],\n",
    "    radius=10,\n",
    "    color='red',\n",
    "    popup='Conrad Hotel',\n",
    "    fill = True,\n",
    "    fill_color = 'red',\n",
    "    fill_opacity = 0.6\n",
    ").add_to(venues_map)\n",
    "\n",
    "# add the Italian restaurants as blue circle markers\n",
    "for lat, lng, label in zip(dataframe_filtered.lat, dataframe_filtered.lng, dataframe_filtered.categories):\n",
    "    folium.features.CircleMarker(\n",
    "        [lat, lng],\n",
    "        radius=5,\n",
    "        color='blue',\n",
    "        popup=label,\n",
    "        fill = True,\n",
    "        fill_color='blue',\n",
    "        fill_opacity=0.6\n",
    "    ).add_to(venues_map)\n",
    "\n",
    "# display map\n",
    "venues_map"
   ]
  },
  {
   "cell_type": "markdown",
   "metadata": {
    "button": false,
    "deletable": true,
    "new_sheet": false,
    "run_control": {
     "read_only": false
    }
   },
   "source": [
    "   "
   ]
  },
  {
   "cell_type": "markdown",
   "metadata": {
    "button": false,
    "deletable": true,
    "new_sheet": false,
    "run_control": {
     "read_only": false
    }
   },
   "source": [
    "<a id=\"item2\"></a>"
   ]
  },
  {
   "cell_type": "markdown",
   "metadata": {
    "button": false,
    "deletable": true,
    "new_sheet": false,
    "run_control": {
     "read_only": false
    }
   },
   "source": [
    "## 2. Explore a Given Venue\n",
    "> `https://api.foursquare.com/v2/venues/`**VENUE_ID**`?client_id=`**CLIENT_ID**`&client_secret=`**CLIENT_SECRET**`&v=`**VERSION**"
   ]
  },
  {
   "cell_type": "markdown",
   "metadata": {
    "button": false,
    "deletable": true,
    "new_sheet": false,
    "run_control": {
     "read_only": false
    }
   },
   "source": [
    "### A. Let's explore the closest Medical Shop i.e. Doctor's Medical"
   ]
  },
  {
   "cell_type": "code",
   "execution_count": 23,
   "metadata": {
    "button": false,
    "collapsed": false,
    "deletable": true,
    "jupyter": {
     "outputs_hidden": false
    },
    "new_sheet": false,
    "run_control": {
     "read_only": false
    }
   },
   "outputs": [
    {
     "data": {
      "text/plain": [
       "'https://api.foursquare.com/v2/venues/4fa862b3e4b0ebff2f749f06?client_id=2VZS5MAVJTYL3FUGIJIILZ02BIYNCMGPYG3FVC40HZ2PCKNO&client_secret=0MRQ4BZYFXNDOTHR5DCVMS1L22C4KHUQFIFWBTIUM21KS2I3&v=20180604'"
      ]
     },
     "execution_count": 23,
     "metadata": {},
     "output_type": "execute_result"
    }
   ],
   "source": [
    "venue_id = '4fa862b3e4b0ebff2f749f06' # ID of Harry's Italian Pizza Bar\n",
    "url = 'https://api.foursquare.com/v2/venues/{}?client_id={}&client_secret={}&v={}'.format(venue_id, CLIENT_ID, CLIENT_SECRET, VERSION)\n",
    "url"
   ]
  },
  {
   "cell_type": "markdown",
   "metadata": {
    "button": false,
    "deletable": true,
    "new_sheet": false,
    "run_control": {
     "read_only": false
    }
   },
   "source": [
    "#### Send GET request for result"
   ]
  },
  {
   "cell_type": "code",
   "execution_count": 24,
   "metadata": {
    "button": false,
    "collapsed": false,
    "deletable": true,
    "jupyter": {
     "outputs_hidden": false
    },
    "new_sheet": false,
    "run_control": {
     "read_only": false
    }
   },
   "outputs": [
    {
     "name": "stdout",
     "output_type": "stream",
     "text": [
      "dict_keys(['id', 'name', 'contact', 'location', 'canonicalUrl', 'categories', 'verified', 'stats', 'url', 'price', 'hasMenu', 'likes', 'dislike', 'ok', 'rating', 'ratingColor', 'ratingSignals', 'menu', 'allowMenuUrlEdit', 'beenHere', 'specials', 'photos', 'reasons', 'hereNow', 'createdAt', 'tips', 'shortUrl', 'timeZone', 'listed', 'hours', 'popular', 'seasonalHours', 'defaultHours', 'pageUpdates', 'inbox', 'attributes', 'bestPhoto', 'colors'])\n"
     ]
    },
    {
     "data": {
      "text/plain": [
       "{'id': '4fa862b3e4b0ebff2f749f06',\n",
       " 'name': \"Harry's Italian Pizza Bar\",\n",
       " 'contact': {'phone': '2126081007', 'formattedPhone': '(212) 608-1007'},\n",
       " 'location': {'address': '225 Murray St',\n",
       "  'lat': 40.71521779064671,\n",
       "  'lng': -74.01473940209351,\n",
       "  'labeledLatLngs': [{'label': 'display',\n",
       "    'lat': 40.71521779064671,\n",
       "    'lng': -74.01473940209351},\n",
       "   {'label': 'entrance', 'lat': 40.715361, 'lng': -74.014975}],\n",
       "  'postalCode': '10282',\n",
       "  'cc': 'US',\n",
       "  'city': 'New York',\n",
       "  'state': 'NY',\n",
       "  'country': 'United States',\n",
       "  'formattedAddress': ['225 Murray St',\n",
       "   'New York, NY 10282',\n",
       "   'United States']},\n",
       " 'canonicalUrl': 'https://foursquare.com/v/harrys-italian-pizza-bar/4fa862b3e4b0ebff2f749f06',\n",
       " 'categories': [{'id': '4bf58dd8d48988d1ca941735',\n",
       "   'name': 'Pizza Place',\n",
       "   'pluralName': 'Pizza Places',\n",
       "   'shortName': 'Pizza',\n",
       "   'icon': {'prefix': 'https://ss3.4sqi.net/img/categories_v2/food/pizza_',\n",
       "    'suffix': '.png'},\n",
       "   'primary': True},\n",
       "  {'id': '4bf58dd8d48988d110941735',\n",
       "   'name': 'Italian Restaurant',\n",
       "   'pluralName': 'Italian Restaurants',\n",
       "   'shortName': 'Italian',\n",
       "   'icon': {'prefix': 'https://ss3.4sqi.net/img/categories_v2/food/italian_',\n",
       "    'suffix': '.png'}}],\n",
       " 'verified': False,\n",
       " 'stats': {'tipCount': 57},\n",
       " 'url': 'http://harrysitalian.com',\n",
       " 'price': {'tier': 2, 'message': 'Moderate', 'currency': '$'},\n",
       " 'hasMenu': True,\n",
       " 'likes': {'count': 120,\n",
       "  'groups': [{'type': 'others', 'count': 120, 'items': []}],\n",
       "  'summary': '120 Likes'},\n",
       " 'dislike': False,\n",
       " 'ok': False,\n",
       " 'rating': 6.9,\n",
       " 'ratingColor': 'FFC800',\n",
       " 'ratingSignals': 212,\n",
       " 'menu': {'type': 'Menu',\n",
       "  'label': 'Menu',\n",
       "  'anchor': 'View Menu',\n",
       "  'url': 'https://foursquare.com/v/harrys-italian-pizza-bar/4fa862b3e4b0ebff2f749f06/menu',\n",
       "  'mobileUrl': 'https://foursquare.com/v/4fa862b3e4b0ebff2f749f06/device_menu'},\n",
       " 'allowMenuUrlEdit': True,\n",
       " 'beenHere': {'count': 0,\n",
       "  'unconfirmedCount': 0,\n",
       "  'marked': False,\n",
       "  'lastCheckinExpiredAt': 0},\n",
       " 'specials': {'count': 0, 'items': []},\n",
       " 'photos': {'count': 146,\n",
       "  'groups': [{'type': 'venue',\n",
       "    'name': 'Venue photos',\n",
       "    'count': 146,\n",
       "    'items': [{'id': '4fad980de4b091b4626c3633',\n",
       "      'createdAt': 1336776717,\n",
       "      'source': {'name': 'Foursquare for Android',\n",
       "       'url': 'https://foursquare.com/download/#/android'},\n",
       "      'prefix': 'https://fastly.4sqi.net/img/general/',\n",
       "      'suffix': '/ya1iQFI7pLjuIJp1PGDKlrZS3OJdHCF7tpILMmjv_2w.jpg',\n",
       "      'width': 480,\n",
       "      'height': 640,\n",
       "      'user': {'id': '13676709',\n",
       "       'firstName': 'Leony',\n",
       "       'lastName': 'N',\n",
       "       'photo': {'prefix': 'https://fastly.4sqi.net/img/user/',\n",
       "        'suffix': '/T0ANFNGNMCHUDEUE.jpg'}},\n",
       "      'visibility': 'public'}]}]},\n",
       " 'reasons': {'count': 1,\n",
       "  'items': [{'summary': 'Lots of people like this place',\n",
       "    'type': 'general',\n",
       "    'reasonName': 'rawLikesReason'}]},\n",
       " 'hereNow': {'count': 0, 'summary': 'Nobody here', 'groups': []},\n",
       " 'createdAt': 1336435379,\n",
       " 'tips': {'count': 57,\n",
       "  'groups': [{'type': 'others',\n",
       "    'name': 'All tips',\n",
       "    'count': 57,\n",
       "    'items': [{'id': '53d27909498e0523841340b6',\n",
       "      'createdAt': 1406302473,\n",
       "      'text': \"Harry's Italian Pizza bar is known for it's amazing pizza, but did you know that the brunches here are amazing too? Try the Nutella French toast and we know you'll be sold.\",\n",
       "      'type': 'user',\n",
       "      'canonicalUrl': 'https://foursquare.com/item/53d27909498e0523841340b6',\n",
       "      'lang': 'en',\n",
       "      'likes': {'count': 4,\n",
       "       'groups': [{'type': 'others',\n",
       "         'count': 4,\n",
       "         'items': [{'id': '369426',\n",
       "           'firstName': 'P.',\n",
       "           'lastName': 'M',\n",
       "           'photo': {'prefix': 'https://fastly.4sqi.net/img/user/',\n",
       "            'suffix': '/JPQYUWJKUT0H2OO4.jpg'}},\n",
       "          {'id': '87587879',\n",
       "           'firstName': 'Diane',\n",
       "           'lastName': 'D',\n",
       "           'photo': {'prefix': 'https://fastly.4sqi.net/img/user/',\n",
       "            'suffix': '/87587879-ESLRSZLQ2CBE2P4W.jpg'}},\n",
       "          {'id': '87591341',\n",
       "           'firstName': 'Tim',\n",
       "           'lastName': 'S',\n",
       "           'photo': {'prefix': 'https://fastly.4sqi.net/img/user/',\n",
       "            'suffix': '/-Z4YK4VKE0JSVXIY1.jpg'}},\n",
       "          {'id': '87473404',\n",
       "           'firstName': 'TenantKing.com',\n",
       "           'photo': {'prefix': 'https://fastly.4sqi.net/img/user/',\n",
       "            'suffix': '/87473404-HI5DTBTK0HX401CA.png'},\n",
       "           'type': 'page'}]}],\n",
       "       'summary': '4 likes'},\n",
       "      'logView': True,\n",
       "      'agreeCount': 4,\n",
       "      'disagreeCount': 0,\n",
       "      'todo': {'count': 0},\n",
       "      'user': {'id': '87473404',\n",
       "       'firstName': 'TenantKing.com',\n",
       "       'photo': {'prefix': 'https://fastly.4sqi.net/img/user/',\n",
       "        'suffix': '/87473404-HI5DTBTK0HX401CA.png'},\n",
       "       'type': 'page'}}]}]},\n",
       " 'shortUrl': 'http://4sq.com/JNblHV',\n",
       " 'timeZone': 'America/New_York',\n",
       " 'listed': {'count': 54,\n",
       "  'groups': [{'type': 'others',\n",
       "    'name': 'Lists from other people',\n",
       "    'count': 54,\n",
       "    'items': [{'id': '4fa32fd0e4b04193744746b1',\n",
       "      'name': 'Manhattan Haunts',\n",
       "      'description': '',\n",
       "      'type': 'others',\n",
       "      'user': {'id': '24592223',\n",
       "       'firstName': 'Becca',\n",
       "       'lastName': 'M',\n",
       "       'photo': {'prefix': 'https://fastly.4sqi.net/img/user/',\n",
       "        'suffix': '/24592223-RAW2UYM0GIB1U40K.jpg'}},\n",
       "      'editable': False,\n",
       "      'public': True,\n",
       "      'collaborative': False,\n",
       "      'url': '/becca_mcarthur/list/manhattan-haunts',\n",
       "      'canonicalUrl': 'https://foursquare.com/becca_mcarthur/list/manhattan-haunts',\n",
       "      'createdAt': 1336094672,\n",
       "      'updatedAt': 1380845377,\n",
       "      'photo': {'id': '4e8cc9461081e3b3544e12e5',\n",
       "       'createdAt': 1317849414,\n",
       "       'prefix': 'https://fastly.4sqi.net/img/general/',\n",
       "       'suffix': '/0NLVU2HC1JF4DXIMKWUFW3QBUT31DC11EFNYYHMJG3NDWAPS.jpg',\n",
       "       'width': 492,\n",
       "       'height': 330,\n",
       "       'user': {'id': '742542',\n",
       "        'firstName': 'Time Out New York',\n",
       "        'photo': {'prefix': 'https://fastly.4sqi.net/img/user/',\n",
       "         'suffix': '/XXHKCBSQHBORZNSR.jpg'},\n",
       "        'type': 'page'},\n",
       "       'visibility': 'public'},\n",
       "      'followers': {'count': 22},\n",
       "      'listItems': {'count': 187,\n",
       "       'items': [{'id': 'v4fa862b3e4b0ebff2f749f06',\n",
       "         'createdAt': 1342934485}]}},\n",
       "     {'id': '4fae817be4b085f6b2a74d19',\n",
       "      'name': 'USA NYC MAN FiDi',\n",
       "      'description': 'Where to go for decent eats in the restaurant wasteland of Downtown NYC aka FiDi, along with Tribeca & Battery Park City.',\n",
       "      'type': 'others',\n",
       "      'user': {'id': '12113441',\n",
       "       'firstName': 'Kino',\n",
       "       'photo': {'prefix': 'https://fastly.4sqi.net/img/user/',\n",
       "        'suffix': '/12113441-K5HTHFLU2MUCM0CM.jpg'}},\n",
       "      'editable': False,\n",
       "      'public': True,\n",
       "      'collaborative': False,\n",
       "      'url': '/kinosfault/list/usa-nyc-man-fidi',\n",
       "      'canonicalUrl': 'https://foursquare.com/kinosfault/list/usa-nyc-man-fidi',\n",
       "      'createdAt': 1336836475,\n",
       "      'updatedAt': 1556754919,\n",
       "      'photo': {'id': '55984992498e13ba75e353bb',\n",
       "       'createdAt': 1436043666,\n",
       "       'prefix': 'https://fastly.4sqi.net/img/general/',\n",
       "       'suffix': '/12113441_iOa6Uh-Xi8bhj2-gpzkkw8MKiAIs7RmOcz_RM7m8ink.jpg',\n",
       "       'width': 540,\n",
       "       'height': 960,\n",
       "       'user': {'id': '12113441',\n",
       "        'firstName': 'Kino',\n",
       "        'photo': {'prefix': 'https://fastly.4sqi.net/img/user/',\n",
       "         'suffix': '/12113441-K5HTHFLU2MUCM0CM.jpg'}},\n",
       "       'visibility': 'public'},\n",
       "      'followers': {'count': 20},\n",
       "      'listItems': {'count': 273,\n",
       "       'items': [{'id': 'v4fa862b3e4b0ebff2f749f06',\n",
       "         'createdAt': 1373909433}]}},\n",
       "     {'id': '4fddeff0e4b0e078037ac0d3',\n",
       "      'name': 'NYC Resturants',\n",
       "      'description': '',\n",
       "      'type': 'others',\n",
       "      'user': {'id': '21563126',\n",
       "       'firstName': 'Richard',\n",
       "       'lastName': 'R',\n",
       "       'photo': {'prefix': 'https://fastly.4sqi.net/img/user/',\n",
       "        'suffix': '/21563126_v05J1KPw_SVj6Ehq9g8B9jeAGjFUMsU5QGl-NZ8inUQ7pKQm5bKplW37EmR7jS2A7GYPBBAtl.jpg'}},\n",
       "      'editable': False,\n",
       "      'public': True,\n",
       "      'collaborative': True,\n",
       "      'url': '/rickr7/list/nyc-resturants',\n",
       "      'canonicalUrl': 'https://foursquare.com/rickr7/list/nyc-resturants',\n",
       "      'createdAt': 1339944944,\n",
       "      'updatedAt': 1591664261,\n",
       "      'photo': {'id': '5072dd13e4b09145cdf782d1',\n",
       "       'createdAt': 1349704979,\n",
       "       'prefix': 'https://fastly.4sqi.net/img/general/',\n",
       "       'suffix': '/208205_fGh2OuAZ9qJ4agbAA5wMVNOSIm9kNUlRtNwj1N-adqg.jpg',\n",
       "       'width': 800,\n",
       "       'height': 800,\n",
       "       'user': {'id': '208205',\n",
       "        'firstName': 'Thalia',\n",
       "        'lastName': 'K',\n",
       "        'photo': {'prefix': 'https://fastly.4sqi.net/img/user/',\n",
       "         'suffix': '/SNOOLCAW2AG04ZKD.jpg'}},\n",
       "       'visibility': 'public'},\n",
       "      'followers': {'count': 12},\n",
       "      'listItems': {'count': 193,\n",
       "       'items': [{'id': 'v4fa862b3e4b0ebff2f749f06',\n",
       "         'createdAt': 1581655865}]}},\n",
       "     {'id': '5266c68a498e7c667807fe09',\n",
       "      'name': 'Foodie Love in NY - 02',\n",
       "      'description': '',\n",
       "      'type': 'others',\n",
       "      'user': {'id': '547977',\n",
       "       'firstName': 'WiLL',\n",
       "       'photo': {'prefix': 'https://fastly.4sqi.net/img/user/',\n",
       "        'suffix': '/-Q5NYGDMFDMOITQRR.jpg'}},\n",
       "      'editable': False,\n",
       "      'public': True,\n",
       "      'collaborative': False,\n",
       "      'url': '/sweetiewill/list/foodie-love-in-ny--02',\n",
       "      'canonicalUrl': 'https://foursquare.com/sweetiewill/list/foodie-love-in-ny--02',\n",
       "      'createdAt': 1382467210,\n",
       "      'updatedAt': 1391995585,\n",
       "      'followers': {'count': 7},\n",
       "      'listItems': {'count': 200,\n",
       "       'items': [{'id': 'v4fa862b3e4b0ebff2f749f06',\n",
       "         'createdAt': 1386809936}]}}]}]},\n",
       " 'hours': {'status': 'Closed until 11:30 AM',\n",
       "  'richStatus': {'entities': [], 'text': 'Closed until 11:30 AM'},\n",
       "  'isOpen': False,\n",
       "  'isLocalHoliday': False,\n",
       "  'dayData': [],\n",
       "  'timeframes': [{'days': 'Mon–Wed, Sun',\n",
       "    'includesToday': True,\n",
       "    'open': [{'renderedTime': '11:30 AM–11:00 PM'}],\n",
       "    'segments': []},\n",
       "   {'days': 'Thu–Sat',\n",
       "    'open': [{'renderedTime': '11:30 AM–Midnight'}],\n",
       "    'segments': []}]},\n",
       " 'popular': {'isOpen': False,\n",
       "  'isLocalHoliday': False,\n",
       "  'timeframes': [{'days': 'Today',\n",
       "    'includesToday': True,\n",
       "    'open': [{'renderedTime': 'Noon–2:00 PM'},\n",
       "     {'renderedTime': '6:00 PM–8:00 PM'}],\n",
       "    'segments': []},\n",
       "   {'days': 'Tue–Thu',\n",
       "    'open': [{'renderedTime': 'Noon–2:00 PM'},\n",
       "     {'renderedTime': '5:00 PM–10:00 PM'}],\n",
       "    'segments': []},\n",
       "   {'days': 'Fri',\n",
       "    'open': [{'renderedTime': 'Noon–3:00 PM'},\n",
       "     {'renderedTime': '5:00 PM–11:00 PM'}],\n",
       "    'segments': []},\n",
       "   {'days': 'Sat',\n",
       "    'open': [{'renderedTime': 'Noon–11:00 PM'}],\n",
       "    'segments': []},\n",
       "   {'days': 'Sun',\n",
       "    'open': [{'renderedTime': 'Noon–3:00 PM'},\n",
       "     {'renderedTime': '5:00 PM–8:00 PM'}],\n",
       "    'segments': []}]},\n",
       " 'seasonalHours': [],\n",
       " 'defaultHours': {'status': 'Closed until 11:30 AM',\n",
       "  'richStatus': {'entities': [], 'text': 'Closed until 11:30 AM'},\n",
       "  'isOpen': False,\n",
       "  'isLocalHoliday': False,\n",
       "  'dayData': [],\n",
       "  'timeframes': [{'days': 'Mon–Wed, Sun',\n",
       "    'includesToday': True,\n",
       "    'open': [{'renderedTime': '11:30 AM–11:00 PM'}],\n",
       "    'segments': []},\n",
       "   {'days': 'Thu–Sat',\n",
       "    'open': [{'renderedTime': '11:30 AM–Midnight'}],\n",
       "    'segments': []}]},\n",
       " 'pageUpdates': {'count': 0, 'items': []},\n",
       " 'inbox': {'count': 0, 'items': []},\n",
       " 'attributes': {'groups': [{'type': 'price',\n",
       "    'name': 'Price',\n",
       "    'summary': '$$',\n",
       "    'count': 1,\n",
       "    'items': [{'displayName': 'Price', 'displayValue': '$$', 'priceTier': 2}]},\n",
       "   {'type': 'payments',\n",
       "    'name': 'Credit Cards',\n",
       "    'summary': 'Credit Cards',\n",
       "    'count': 7,\n",
       "    'items': [{'displayName': 'Credit Cards',\n",
       "      'displayValue': 'Yes (incl. American Express)'}]},\n",
       "   {'type': 'outdoorSeating',\n",
       "    'name': 'Outdoor Seating',\n",
       "    'summary': 'Outdoor Seating',\n",
       "    'count': 1,\n",
       "    'items': [{'displayName': 'Outdoor Seating', 'displayValue': 'Yes'}]},\n",
       "   {'type': 'serves',\n",
       "    'name': 'Menus',\n",
       "    'summary': 'Happy Hour, Brunch & more',\n",
       "    'count': 8,\n",
       "    'items': [{'displayName': 'Brunch', 'displayValue': 'Brunch'},\n",
       "     {'displayName': 'Lunch', 'displayValue': 'Lunch'},\n",
       "     {'displayName': 'Dinner', 'displayValue': 'Dinner'},\n",
       "     {'displayName': 'Happy Hour', 'displayValue': 'Happy Hour'}]},\n",
       "   {'type': 'drinks',\n",
       "    'name': 'Drinks',\n",
       "    'summary': 'Beer, Wine & Cocktails',\n",
       "    'count': 5,\n",
       "    'items': [{'displayName': 'Beer', 'displayValue': 'Beer'},\n",
       "     {'displayName': 'Wine', 'displayValue': 'Wine'},\n",
       "     {'displayName': 'Cocktails', 'displayValue': 'Cocktails'}]}]},\n",
       " 'bestPhoto': {'id': '4fad980de4b091b4626c3633',\n",
       "  'createdAt': 1336776717,\n",
       "  'source': {'name': 'Foursquare for Android',\n",
       "   'url': 'https://foursquare.com/download/#/android'},\n",
       "  'prefix': 'https://fastly.4sqi.net/img/general/',\n",
       "  'suffix': '/ya1iQFI7pLjuIJp1PGDKlrZS3OJdHCF7tpILMmjv_2w.jpg',\n",
       "  'width': 480,\n",
       "  'height': 640,\n",
       "  'visibility': 'public'},\n",
       " 'colors': {'highlightColor': {'photoId': '4fad980de4b091b4626c3633',\n",
       "   'value': -13619152},\n",
       "  'highlightTextColor': {'photoId': '4fad980de4b091b4626c3633', 'value': -1},\n",
       "  'algoVersion': 3}}"
      ]
     },
     "execution_count": 24,
     "metadata": {},
     "output_type": "execute_result"
    }
   ],
   "source": [
    "result = requests.get(url).json()\n",
    "print(result['response']['venue'].keys())\n",
    "result['response']['venue']"
   ]
  },
  {
   "cell_type": "markdown",
   "metadata": {
    "button": false,
    "deletable": true,
    "new_sheet": false,
    "run_control": {
     "read_only": false
    }
   },
   "source": [
    "### B. Get the venue's overall rating"
   ]
  },
  {
   "cell_type": "code",
   "execution_count": 25,
   "metadata": {
    "button": false,
    "collapsed": false,
    "deletable": true,
    "jupyter": {
     "outputs_hidden": false
    },
    "new_sheet": false,
    "run_control": {
     "read_only": false
    }
   },
   "outputs": [
    {
     "name": "stdout",
     "output_type": "stream",
     "text": [
      "6.9\n"
     ]
    }
   ],
   "source": [
    "try:\n",
    "    print(result['response']['venue']['rating'])\n",
    "except:\n",
    "    print('This venue has not been rated yet.')"
   ]
  },
  {
   "cell_type": "markdown",
   "metadata": {
    "button": false,
    "deletable": true,
    "new_sheet": false,
    "run_control": {
     "read_only": false
    }
   },
   "source": [
    "That is not a very good rating. Let's check the rating of the second closest Medical Shop."
   ]
  },
  {
   "cell_type": "code",
   "execution_count": 26,
   "metadata": {
    "button": false,
    "collapsed": false,
    "deletable": true,
    "jupyter": {
     "outputs_hidden": false
    },
    "new_sheet": false,
    "run_control": {
     "read_only": false
    }
   },
   "outputs": [
    {
     "name": "stdout",
     "output_type": "stream",
     "text": [
      "This venue has not been rated yet.\n"
     ]
    }
   ],
   "source": [
    "venue_id = '4f3232e219836c91c7bfde94' \n",
    "url = 'https://api.foursquare.com/v2/venues/{}?client_id={}&client_secret={}&v={}'.format(venue_id, CLIENT_ID, CLIENT_SECRET, VERSION)\n",
    "\n",
    "result = requests.get(url).json()\n",
    "try:\n",
    "    print(result['response']['venue']['rating'])\n",
    "except:\n",
    "    print('This venue has not been rated yet.')"
   ]
  },
  {
   "cell_type": "markdown",
   "metadata": {
    "button": false,
    "deletable": true,
    "new_sheet": false,
    "run_control": {
     "read_only": false
    }
   },
   "source": [
    "Since this restaurant has no ratings, let's check the third medical."
   ]
  },
  {
   "cell_type": "code",
   "execution_count": 27,
   "metadata": {
    "button": false,
    "collapsed": false,
    "deletable": true,
    "jupyter": {
     "outputs_hidden": false
    },
    "new_sheet": false,
    "run_control": {
     "read_only": false
    }
   },
   "outputs": [
    {
     "name": "stdout",
     "output_type": "stream",
     "text": [
      "7.3\n"
     ]
    }
   ],
   "source": [
    "venue_id = '3fd66200f964a520f4e41ee3' # ID of Ecco\n",
    "url = 'https://api.foursquare.com/v2/venues/{}?client_id={}&client_secret={}&v={}'.format(venue_id, CLIENT_ID, CLIENT_SECRET, VERSION)\n",
    "\n",
    "result = requests.get(url).json()\n",
    "try:\n",
    "    print(result['response']['venue']['rating'])\n",
    "except:\n",
    "    print('This venue has not been rated yet.')"
   ]
  },
  {
   "cell_type": "markdown",
   "metadata": {
    "button": false,
    "deletable": true,
    "new_sheet": false,
    "run_control": {
     "read_only": false
    }
   },
   "source": [
    "Since this restaurant has a slightly better rating, let's explore it further."
   ]
  },
  {
   "cell_type": "markdown",
   "metadata": {
    "button": false,
    "deletable": true,
    "new_sheet": false,
    "run_control": {
     "read_only": false
    }
   },
   "source": [
    "### C. Get the number of tips"
   ]
  },
  {
   "cell_type": "code",
   "execution_count": 28,
   "metadata": {
    "button": false,
    "collapsed": false,
    "deletable": true,
    "jupyter": {
     "outputs_hidden": false
    },
    "new_sheet": false,
    "run_control": {
     "read_only": false
    }
   },
   "outputs": [
    {
     "data": {
      "text/plain": [
       "19"
      ]
     },
     "execution_count": 28,
     "metadata": {},
     "output_type": "execute_result"
    }
   ],
   "source": [
    "result['response']['venue']['tips']['count']"
   ]
  },
  {
   "cell_type": "markdown",
   "metadata": {
    "button": false,
    "deletable": true,
    "new_sheet": false,
    "run_control": {
     "read_only": false
    }
   },
   "source": [
    "   "
   ]
  },
  {
   "cell_type": "markdown",
   "metadata": {
    "button": false,
    "deletable": true,
    "new_sheet": false,
    "run_control": {
     "read_only": false
    }
   },
   "source": [
    "<a id=\"item3\"></a>"
   ]
  },
  {
   "cell_type": "markdown",
   "metadata": {
    "button": false,
    "deletable": true,
    "new_sheet": false,
    "run_control": {
     "read_only": false
    }
   },
   "source": [
    "  "
   ]
  },
  {
   "cell_type": "markdown",
   "metadata": {
    "button": false,
    "deletable": true,
    "new_sheet": false,
    "run_control": {
     "read_only": false
    }
   },
   "source": [
    "<a id=\"item4\"></a>"
   ]
  },
  {
   "cell_type": "markdown",
   "metadata": {
    "button": false,
    "deletable": true,
    "new_sheet": false,
    "run_control": {
     "read_only": false
    }
   },
   "source": [
    "## 4. Explore a location\n"
   ]
  },
  {
   "cell_type": "code",
   "execution_count": null,
   "metadata": {
    "button": false,
    "collapsed": true,
    "deletable": true,
    "jupyter": {
     "outputs_hidden": true
    },
    "new_sheet": false,
    "run_control": {
     "read_only": false
    }
   },
   "outputs": [],
   "source": [
    "latitude = 40.715337\n",
    "longitude = -74.008848"
   ]
  },
  {
   "cell_type": "markdown",
   "metadata": {
    "button": false,
    "deletable": true,
    "new_sheet": false,
    "run_control": {
     "read_only": false
    }
   },
   "source": [
    "#### Define URL"
   ]
  },
  {
   "cell_type": "code",
   "execution_count": 38,
   "metadata": {
    "button": false,
    "collapsed": false,
    "deletable": true,
    "jupyter": {
     "outputs_hidden": false
    },
    "new_sheet": false,
    "run_control": {
     "read_only": false
    }
   },
   "outputs": [
    {
     "data": {
      "text/plain": [
       "'https://api.foursquare.com/v2/venues/explore?client_id=2VZS5MAVJTYL3FUGIJIILZ02BIYNCMGPYG3FVC40HZ2PCKNO&client_secret=0MRQ4BZYFXNDOTHR5DCVMS1L22C4KHUQFIFWBTIUM21KS2I3&ll=40.7151482,-74.0156573&v=20180604&radius=500&limit=30'"
      ]
     },
     "execution_count": 38,
     "metadata": {},
     "output_type": "execute_result"
    }
   ],
   "source": [
    "url = 'https://api.foursquare.com/v2/venues/explore?client_id={}&client_secret={}&ll={},{}&v={}&radius={}&limit={}'.format(CLIENT_ID, CLIENT_SECRET, latitude, longitude, VERSION, radius, LIMIT)\n",
    "url"
   ]
  },
  {
   "cell_type": "markdown",
   "metadata": {
    "button": false,
    "deletable": true,
    "new_sheet": false,
    "run_control": {
     "read_only": false
    }
   },
   "source": [
    "#### Send GET request and examine results"
   ]
  },
  {
   "cell_type": "code",
   "execution_count": 39,
   "metadata": {
    "button": false,
    "deletable": true,
    "new_sheet": false,
    "run_control": {
     "read_only": false
    }
   },
   "outputs": [],
   "source": [
    "import requests"
   ]
  },
  {
   "cell_type": "code",
   "execution_count": 41,
   "metadata": {
    "button": false,
    "collapsed": false,
    "deletable": true,
    "jupyter": {
     "outputs_hidden": false
    },
    "new_sheet": false,
    "run_control": {
     "read_only": false
    }
   },
   "outputs": [
    {
     "data": {
      "text/plain": [
       "'There are 30 around Medical Shops.'"
      ]
     },
     "execution_count": 41,
     "metadata": {},
     "output_type": "execute_result"
    }
   ],
   "source": [
    "results = requests.get(url).json()\n",
    "'There are {} around Medical Shops.'.format(len(results['response']['groups'][0]['items']))"
   ]
  },
  {
   "cell_type": "markdown",
   "metadata": {
    "button": false,
    "deletable": true,
    "new_sheet": false,
    "run_control": {
     "read_only": false
    }
   },
   "source": [
    "#### Get relevant part of JSON"
   ]
  },
  {
   "cell_type": "code",
   "execution_count": 42,
   "metadata": {
    "button": false,
    "collapsed": false,
    "deletable": true,
    "jupyter": {
     "outputs_hidden": false
    },
    "new_sheet": false,
    "run_control": {
     "read_only": false
    }
   },
   "outputs": [
    {
     "data": {
      "text/plain": [
       "{'reasons': {'count': 0,\n",
       "  'items': [{'summary': 'This spot is popular',\n",
       "    'type': 'general',\n",
       "    'reasonName': 'globalInteractionReason'}]},\n",
       " 'venue': {'id': '51bcd723498eecb51dd996bc',\n",
       "  'name': 'Asphalt Green Battery Park City',\n",
       "  'location': {'address': '212 N End Ave',\n",
       "   'crossStreet': 'Murray Street',\n",
       "   'lat': 40.715923644223366,\n",
       "   'lng': -74.01467345576101,\n",
       "   'labeledLatLngs': [{'label': 'display',\n",
       "     'lat': 40.715923644223366,\n",
       "     'lng': -74.01467345576101}],\n",
       "   'distance': 119,\n",
       "   'postalCode': '10282',\n",
       "   'cc': 'US',\n",
       "   'city': 'New York',\n",
       "   'state': 'NY',\n",
       "   'country': 'United States',\n",
       "   'formattedAddress': ['212 N End Ave (Murray Street)',\n",
       "    'New York, NY 10282',\n",
       "    'United States']},\n",
       "  'categories': [{'id': '4f4528bc4b90abdf24c9de85',\n",
       "    'name': 'Athletics & Sports',\n",
       "    'pluralName': 'Athletics & Sports',\n",
       "    'shortName': 'Athletics & Sports',\n",
       "    'icon': {'prefix': 'https://ss3.4sqi.net/img/categories_v2/shops/sports_outdoors_',\n",
       "     'suffix': '.png'},\n",
       "    'primary': True}],\n",
       "  'photos': {'count': 0, 'groups': []}},\n",
       " 'referralId': 'e-0-51bcd723498eecb51dd996bc-0'}"
      ]
     },
     "execution_count": 42,
     "metadata": {},
     "output_type": "execute_result"
    }
   ],
   "source": [
    "items = results['response']['groups'][0]['items']\n",
    "items[0]"
   ]
  },
  {
   "cell_type": "markdown",
   "metadata": {
    "button": false,
    "deletable": true,
    "new_sheet": false,
    "run_control": {
     "read_only": false
    }
   },
   "source": [
    "#### Process JSON and convert it to a clean dataframe"
   ]
  },
  {
   "cell_type": "code",
   "execution_count": 43,
   "metadata": {
    "button": false,
    "collapsed": false,
    "deletable": true,
    "jupyter": {
     "outputs_hidden": false
    },
    "new_sheet": false,
    "run_control": {
     "read_only": false
    }
   },
   "outputs": [
    {
     "name": "stderr",
     "output_type": "stream",
     "text": [
      "/home/jupyterlab/conda/envs/python/lib/python3.6/site-packages/ipykernel_launcher.py:1: FutureWarning: pandas.io.json.json_normalize is deprecated, use pandas.json_normalize instead\n",
      "  \"\"\"Entry point for launching an IPython kernel.\n"
     ]
    },
    {
     "data": {
      "text/html": [
       "<div>\n",
       "<style scoped>\n",
       "    .dataframe tbody tr th:only-of-type {\n",
       "        vertical-align: middle;\n",
       "    }\n",
       "\n",
       "    .dataframe tbody tr th {\n",
       "        vertical-align: top;\n",
       "    }\n",
       "\n",
       "    .dataframe thead th {\n",
       "        text-align: right;\n",
       "    }\n",
       "</style>\n",
       "<table border=\"1\" class=\"dataframe\">\n",
       "  <thead>\n",
       "    <tr style=\"text-align: right;\">\n",
       "      <th></th>\n",
       "      <th>name</th>\n",
       "      <th>categories</th>\n",
       "      <th>address</th>\n",
       "      <th>crossStreet</th>\n",
       "      <th>lat</th>\n",
       "      <th>lng</th>\n",
       "      <th>labeledLatLngs</th>\n",
       "      <th>distance</th>\n",
       "      <th>postalCode</th>\n",
       "      <th>cc</th>\n",
       "      <th>city</th>\n",
       "      <th>state</th>\n",
       "      <th>country</th>\n",
       "      <th>formattedAddress</th>\n",
       "      <th>neighborhood</th>\n",
       "      <th>id</th>\n",
       "    </tr>\n",
       "  </thead>\n",
       "  <tbody>\n",
       "    <tr>\n",
       "      <th>0</th>\n",
       "      <td>Asphalt Green Battery Park City</td>\n",
       "      <td>Athletics &amp; Sports</td>\n",
       "      <td>212 N End Ave</td>\n",
       "      <td>Murray Street</td>\n",
       "      <td>40.715924</td>\n",
       "      <td>-74.014673</td>\n",
       "      <td>[{'label': 'display', 'lat': 40.715923644223366, 'lng': -74.01467345576101}]</td>\n",
       "      <td>119</td>\n",
       "      <td>10282</td>\n",
       "      <td>US</td>\n",
       "      <td>New York</td>\n",
       "      <td>NY</td>\n",
       "      <td>United States</td>\n",
       "      <td>[212 N End Ave (Murray Street), New York, NY 10282, United States]</td>\n",
       "      <td>NaN</td>\n",
       "      <td>51bcd723498eecb51dd996bc</td>\n",
       "    </tr>\n",
       "    <tr>\n",
       "      <th>1</th>\n",
       "      <td>Teardrop Park</td>\n",
       "      <td>Park</td>\n",
       "      <td>Warren St</td>\n",
       "      <td>btwn River Terrace &amp; North End Ave</td>\n",
       "      <td>40.716843</td>\n",
       "      <td>-74.015576</td>\n",
       "      <td>[{'label': 'display', 'lat': 40.716843120089855, 'lng': -74.01557592134671}]</td>\n",
       "      <td>188</td>\n",
       "      <td>10005</td>\n",
       "      <td>US</td>\n",
       "      <td>New York</td>\n",
       "      <td>NY</td>\n",
       "      <td>United States</td>\n",
       "      <td>[Warren St (btwn River Terrace &amp; North End Ave), New York, NY 10005, United States]</td>\n",
       "      <td>NaN</td>\n",
       "      <td>4a6757aaf964a52037c91fe3</td>\n",
       "    </tr>\n",
       "    <tr>\n",
       "      <th>2</th>\n",
       "      <td>Irish Hunger Memorial</td>\n",
       "      <td>Monument / Landmark</td>\n",
       "      <td>Vesey St &amp; North End Ave</td>\n",
       "      <td>NaN</td>\n",
       "      <td>40.715139</td>\n",
       "      <td>-74.016557</td>\n",
       "      <td>[{'label': 'display', 'lat': 40.71513873128946, 'lng': -74.01655655956712}]</td>\n",
       "      <td>75</td>\n",
       "      <td>10282</td>\n",
       "      <td>US</td>\n",
       "      <td>New York</td>\n",
       "      <td>NY</td>\n",
       "      <td>United States</td>\n",
       "      <td>[Vesey St &amp; North End Ave, New York, NY 10282, United States]</td>\n",
       "      <td>Battery Park City</td>\n",
       "      <td>4a397f7ef964a520839f1fe3</td>\n",
       "    </tr>\n",
       "    <tr>\n",
       "      <th>3</th>\n",
       "      <td>Shake Shack</td>\n",
       "      <td>Burger Joint</td>\n",
       "      <td>215 Murray St</td>\n",
       "      <td>btwn West St &amp; North End Ave</td>\n",
       "      <td>40.715326</td>\n",
       "      <td>-74.014750</td>\n",
       "      <td>[{'label': 'display', 'lat': 40.71532572032048, 'lng': -74.01475032559945}, {'label': 'entrance', 'lat': 40.715342, 'lng': -74.014851}]</td>\n",
       "      <td>79</td>\n",
       "      <td>10282</td>\n",
       "      <td>US</td>\n",
       "      <td>New York</td>\n",
       "      <td>NY</td>\n",
       "      <td>United States</td>\n",
       "      <td>[215 Murray St (btwn West St &amp; North End Ave), New York, NY 10282, United States]</td>\n",
       "      <td>NaN</td>\n",
       "      <td>4dda977ad22d38ef4332c419</td>\n",
       "    </tr>\n",
       "    <tr>\n",
       "      <th>4</th>\n",
       "      <td>Waterfront Plaza, Brookfield Place</td>\n",
       "      <td>Plaza</td>\n",
       "      <td>230 Vesey Street</td>\n",
       "      <td>NaN</td>\n",
       "      <td>40.713241</td>\n",
       "      <td>-74.016241</td>\n",
       "      <td>[{'label': 'display', 'lat': 40.71324098127375, 'lng': -74.01624118660538}]</td>\n",
       "      <td>217</td>\n",
       "      <td>10281</td>\n",
       "      <td>US</td>\n",
       "      <td>New York</td>\n",
       "      <td>NY</td>\n",
       "      <td>United States</td>\n",
       "      <td>[230 Vesey Street, New York, NY 10281, United States]</td>\n",
       "      <td>NaN</td>\n",
       "      <td>4a0b04dcf964a520ba741fe3</td>\n",
       "    </tr>\n",
       "    <tr>\n",
       "      <th>5</th>\n",
       "      <td>Brookfield Place (BFPL)</td>\n",
       "      <td>Shopping Mall</td>\n",
       "      <td>230 Vesey St</td>\n",
       "      <td>at West St</td>\n",
       "      <td>40.713240</td>\n",
       "      <td>-74.015193</td>\n",
       "      <td>[{'label': 'display', 'lat': 40.71324018931094, 'lng': -74.01519298553465}]</td>\n",
       "      <td>215</td>\n",
       "      <td>10281</td>\n",
       "      <td>US</td>\n",
       "      <td>New York</td>\n",
       "      <td>NY</td>\n",
       "      <td>United States</td>\n",
       "      <td>[230 Vesey St (at West St), New York, NY 10281, United States]</td>\n",
       "      <td>NaN</td>\n",
       "      <td>4a6fa0abf964a520a4d61fe3</td>\n",
       "    </tr>\n",
       "    <tr>\n",
       "      <th>6</th>\n",
       "      <td>Nelson A. Rockefeller Park</td>\n",
       "      <td>Park</td>\n",
       "      <td>North end of Battery Park City &amp; West of River Terrace</td>\n",
       "      <td>at Warren  St</td>\n",
       "      <td>40.717095</td>\n",
       "      <td>-74.016716</td>\n",
       "      <td>[{'label': 'display', 'lat': 40.717094779422354, 'lng': -74.01671648025513}]</td>\n",
       "      <td>234</td>\n",
       "      <td>10280</td>\n",
       "      <td>US</td>\n",
       "      <td>New York</td>\n",
       "      <td>NY</td>\n",
       "      <td>United States</td>\n",
       "      <td>[North end of Battery Park City &amp; West of River Terrace (at Warren  St), New York, NY 10280, United States]</td>\n",
       "      <td>NaN</td>\n",
       "      <td>4b929790f964a5209a0734e3</td>\n",
       "    </tr>\n",
       "    <tr>\n",
       "      <th>7</th>\n",
       "      <td>Regal Battery Park</td>\n",
       "      <td>Movie Theater</td>\n",
       "      <td>102 North End Ave.</td>\n",
       "      <td>NaN</td>\n",
       "      <td>40.715004</td>\n",
       "      <td>-74.014935</td>\n",
       "      <td>[{'label': 'display', 'lat': 40.71500399534887, 'lng': -74.01493484218707}]</td>\n",
       "      <td>63</td>\n",
       "      <td>10282</td>\n",
       "      <td>US</td>\n",
       "      <td>New York</td>\n",
       "      <td>NY</td>\n",
       "      <td>United States</td>\n",
       "      <td>[102 North End Ave., New York, NY 10282, United States]</td>\n",
       "      <td>NaN</td>\n",
       "      <td>49e7ce15f964a5201d651fe3</td>\n",
       "    </tr>\n",
       "    <tr>\n",
       "      <th>8</th>\n",
       "      <td>Conrad New York Downtown</td>\n",
       "      <td>Hotel</td>\n",
       "      <td>102 N End Ave</td>\n",
       "      <td>NaN</td>\n",
       "      <td>40.715035</td>\n",
       "      <td>-74.015840</td>\n",
       "      <td>[{'label': 'display', 'lat': 40.7150355, 'lng': -74.0158397}]</td>\n",
       "      <td>19</td>\n",
       "      <td>10282</td>\n",
       "      <td>US</td>\n",
       "      <td>New York</td>\n",
       "      <td>NY</td>\n",
       "      <td>United States</td>\n",
       "      <td>[102 N End Ave, New York, NY 10282, United States]</td>\n",
       "      <td>Battery Park City</td>\n",
       "      <td>4f22ca77e4b0ed3396a83a05</td>\n",
       "    </tr>\n",
       "    <tr>\n",
       "      <th>9</th>\n",
       "      <td>Davidoff of Geneva</td>\n",
       "      <td>Smoke Shop</td>\n",
       "      <td>230 Vesey St</td>\n",
       "      <td>Liberty St</td>\n",
       "      <td>40.713111</td>\n",
       "      <td>-74.015130</td>\n",
       "      <td>[{'label': 'display', 'lat': 40.713111179157615, 'lng': -74.01512994530287}, {'label': 'entrance', 'lat': 40.714218, 'lng': -74.015443}]</td>\n",
       "      <td>231</td>\n",
       "      <td>10281</td>\n",
       "      <td>US</td>\n",
       "      <td>New York</td>\n",
       "      <td>NY</td>\n",
       "      <td>United States</td>\n",
       "      <td>[230 Vesey St (Liberty St), New York, NY 10281, United States]</td>\n",
       "      <td>NaN</td>\n",
       "      <td>56802dd1498ecedae4b17730</td>\n",
       "    </tr>\n",
       "  </tbody>\n",
       "</table>\n",
       "</div>"
      ],
      "text/plain": [
       "                                 name           categories  \\\n",
       "0  Asphalt Green Battery Park City     Athletics & Sports    \n",
       "1  Teardrop Park                       Park                  \n",
       "2  Irish Hunger Memorial               Monument / Landmark   \n",
       "3  Shake Shack                         Burger Joint          \n",
       "4  Waterfront Plaza, Brookfield Place  Plaza                 \n",
       "5  Brookfield Place (BFPL)             Shopping Mall         \n",
       "6  Nelson A. Rockefeller Park          Park                  \n",
       "7  Regal Battery Park                  Movie Theater         \n",
       "8  Conrad New York Downtown            Hotel                 \n",
       "9  Davidoff of Geneva                  Smoke Shop            \n",
       "\n",
       "                                                  address  \\\n",
       "0  212 N End Ave                                            \n",
       "1  Warren St                                                \n",
       "2  Vesey St & North End Ave                                 \n",
       "3  215 Murray St                                            \n",
       "4  230 Vesey Street                                         \n",
       "5  230 Vesey St                                             \n",
       "6  North end of Battery Park City & West of River Terrace   \n",
       "7  102 North End Ave.                                       \n",
       "8  102 N End Ave                                            \n",
       "9  230 Vesey St                                             \n",
       "\n",
       "                          crossStreet        lat        lng  \\\n",
       "0  Murray Street                       40.715924 -74.014673   \n",
       "1  btwn River Terrace & North End Ave  40.716843 -74.015576   \n",
       "2  NaN                                 40.715139 -74.016557   \n",
       "3  btwn West St & North End Ave        40.715326 -74.014750   \n",
       "4  NaN                                 40.713241 -74.016241   \n",
       "5  at West St                          40.713240 -74.015193   \n",
       "6  at Warren  St                       40.717095 -74.016716   \n",
       "7  NaN                                 40.715004 -74.014935   \n",
       "8  NaN                                 40.715035 -74.015840   \n",
       "9  Liberty St                          40.713111 -74.015130   \n",
       "\n",
       "                                                                                                                             labeledLatLngs  \\\n",
       "0  [{'label': 'display', 'lat': 40.715923644223366, 'lng': -74.01467345576101}]                                                               \n",
       "1  [{'label': 'display', 'lat': 40.716843120089855, 'lng': -74.01557592134671}]                                                               \n",
       "2  [{'label': 'display', 'lat': 40.71513873128946, 'lng': -74.01655655956712}]                                                                \n",
       "3  [{'label': 'display', 'lat': 40.71532572032048, 'lng': -74.01475032559945}, {'label': 'entrance', 'lat': 40.715342, 'lng': -74.014851}]    \n",
       "4  [{'label': 'display', 'lat': 40.71324098127375, 'lng': -74.01624118660538}]                                                                \n",
       "5  [{'label': 'display', 'lat': 40.71324018931094, 'lng': -74.01519298553465}]                                                                \n",
       "6  [{'label': 'display', 'lat': 40.717094779422354, 'lng': -74.01671648025513}]                                                               \n",
       "7  [{'label': 'display', 'lat': 40.71500399534887, 'lng': -74.01493484218707}]                                                                \n",
       "8  [{'label': 'display', 'lat': 40.7150355, 'lng': -74.0158397}]                                                                              \n",
       "9  [{'label': 'display', 'lat': 40.713111179157615, 'lng': -74.01512994530287}, {'label': 'entrance', 'lat': 40.714218, 'lng': -74.015443}]   \n",
       "\n",
       "   distance postalCode  cc      city state        country  \\\n",
       "0  119       10282      US  New York  NY    United States   \n",
       "1  188       10005      US  New York  NY    United States   \n",
       "2  75        10282      US  New York  NY    United States   \n",
       "3  79        10282      US  New York  NY    United States   \n",
       "4  217       10281      US  New York  NY    United States   \n",
       "5  215       10281      US  New York  NY    United States   \n",
       "6  234       10280      US  New York  NY    United States   \n",
       "7  63        10282      US  New York  NY    United States   \n",
       "8  19        10282      US  New York  NY    United States   \n",
       "9  231       10281      US  New York  NY    United States   \n",
       "\n",
       "                                                                                              formattedAddress  \\\n",
       "0  [212 N End Ave (Murray Street), New York, NY 10282, United States]                                            \n",
       "1  [Warren St (btwn River Terrace & North End Ave), New York, NY 10005, United States]                           \n",
       "2  [Vesey St & North End Ave, New York, NY 10282, United States]                                                 \n",
       "3  [215 Murray St (btwn West St & North End Ave), New York, NY 10282, United States]                             \n",
       "4  [230 Vesey Street, New York, NY 10281, United States]                                                         \n",
       "5  [230 Vesey St (at West St), New York, NY 10281, United States]                                                \n",
       "6  [North end of Battery Park City & West of River Terrace (at Warren  St), New York, NY 10280, United States]   \n",
       "7  [102 North End Ave., New York, NY 10282, United States]                                                       \n",
       "8  [102 N End Ave, New York, NY 10282, United States]                                                            \n",
       "9  [230 Vesey St (Liberty St), New York, NY 10281, United States]                                                \n",
       "\n",
       "        neighborhood                        id  \n",
       "0  NaN                51bcd723498eecb51dd996bc  \n",
       "1  NaN                4a6757aaf964a52037c91fe3  \n",
       "2  Battery Park City  4a397f7ef964a520839f1fe3  \n",
       "3  NaN                4dda977ad22d38ef4332c419  \n",
       "4  NaN                4a0b04dcf964a520ba741fe3  \n",
       "5  NaN                4a6fa0abf964a520a4d61fe3  \n",
       "6  NaN                4b929790f964a5209a0734e3  \n",
       "7  NaN                49e7ce15f964a5201d651fe3  \n",
       "8  Battery Park City  4f22ca77e4b0ed3396a83a05  \n",
       "9  NaN                56802dd1498ecedae4b17730  "
      ]
     },
     "execution_count": 43,
     "metadata": {},
     "output_type": "execute_result"
    }
   ],
   "source": [
    "dataframe = json_normalize(items) # flatten JSON\n",
    "\n",
    "# filter columns\n",
    "filtered_columns = ['venue.name', 'venue.categories'] + [col for col in dataframe.columns if col.startswith('venue.location.')] + ['venue.id']\n",
    "dataframe_filtered = dataframe.loc[:, filtered_columns]\n",
    "\n",
    "# filter the category for each row\n",
    "dataframe_filtered['venue.categories'] = dataframe_filtered.apply(get_category_type, axis=1)\n",
    "\n",
    "# clean columns\n",
    "dataframe_filtered.columns = [col.split('.')[-1] for col in dataframe_filtered.columns]\n",
    "\n",
    "dataframe_filtered.head(10)"
   ]
  },
  {
   "cell_type": "markdown",
   "metadata": {
    "button": false,
    "deletable": true,
    "new_sheet": false,
    "run_control": {
     "read_only": false
    }
   },
   "source": [
    "#### Let's visualize these items on the map around our location"
   ]
  },
  {
   "cell_type": "code",
   "execution_count": 44,
   "metadata": {
    "button": false,
    "collapsed": false,
    "deletable": true,
    "jupyter": {
     "outputs_hidden": false
    },
    "new_sheet": false,
    "run_control": {
     "read_only": false
    }
   },
   "outputs": [
    {
     "data": {
      "text/html": [
       "<div style=\"width:100%;\"><div style=\"position:relative;width:100%;height:0;padding-bottom:60%;\"><span style=\"color:#565656\">Make this Notebook Trusted to load map: File -> Trust Notebook</span><iframe src=\"about:blank\" style=\"position:absolute;width:100%;height:100%;left:0;top:0;border:none !important;\" data-html=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 onload=\"this.contentDocument.open();this.contentDocument.write(atob(this.getAttribute('data-html')));this.contentDocument.close();\" allowfullscreen webkitallowfullscreen mozallowfullscreen></iframe></div></div>"
      ],
      "text/plain": [
       "<folium.folium.Map at 0x7f6b363316d8>"
      ]
     },
     "execution_count": 44,
     "metadata": {},
     "output_type": "execute_result"
    }
   ],
   "source": [
    "venues_map = folium.Map(location=[latitude, longitude], zoom_start=15) # generate map centred around Doctor's Medical\n",
    "\n",
    "\n",
    "# add Ecco as a red circle mark\n",
    "folium.features.CircleMarker(\n",
    "    [latitude, longitude],\n",
    "    radius=10,\n",
    "    popup='Ecco',\n",
    "    fill=True,\n",
    "    color='red',\n",
    "    fill_color='red',\n",
    "    fill_opacity=0.6\n",
    "    ).add_to(venues_map)\n",
    "\n",
    "\n",
    "# add popular spots to the map as blue circle markers\n",
    "for lat, lng, label in zip(dataframe_filtered.lat, dataframe_filtered.lng, dataframe_filtered.categories):\n",
    "    folium.features.CircleMarker(\n",
    "        [lat, lng],\n",
    "        radius=5,\n",
    "        popup=label,\n",
    "        fill=True,\n",
    "        color='blue',\n",
    "        fill_color='blue',\n",
    "        fill_opacity=0.6\n",
    "        ).add_to(venues_map)\n",
    "\n",
    "# display map\n",
    "venues_map"
   ]
  },
  {
   "cell_type": "markdown",
   "metadata": {
    "button": false,
    "deletable": true,
    "new_sheet": false,
    "run_control": {
     "read_only": false
    }
   },
   "source": [
    "   "
   ]
  },
  {
   "cell_type": "markdown",
   "metadata": {
    "button": false,
    "deletable": true,
    "new_sheet": false,
    "run_control": {
     "read_only": false
    }
   },
   "source": [
    "<a id=\"item5\"></a>"
   ]
  },
  {
   "cell_type": "markdown",
   "metadata": {
    "button": false,
    "deletable": true,
    "new_sheet": false,
    "run_control": {
     "read_only": false
    }
   },
   "source": [
    "## 5. Explore Trending Venues\n",
    "> `https://api.foursquare.com/v2/venues/`**trending**`?client_id=`**CLIENT_ID**`&client_secret=`**CLIENT_SECRET**`&ll=`**LATITUDE**`,`**LONGITUDE**`&v=`**VERSION**"
   ]
  },
  {
   "cell_type": "markdown",
   "metadata": {
    "button": false,
    "deletable": true,
    "new_sheet": false,
    "run_control": {
     "read_only": false
    }
   },
   "source": [
    "#### Now, instead of simply exploring the area around Ecco, you are interested in knowing the venues that are trending at the time you are done with your lunch, meaning the places with the highest foot traffic. So let's do that and get the trending venues around Ecco."
   ]
  },
  {
   "cell_type": "code",
   "execution_count": 37,
   "metadata": {
    "button": false,
    "collapsed": false,
    "deletable": true,
    "jupyter": {
     "outputs_hidden": false
    },
    "new_sheet": false,
    "run_control": {
     "read_only": false
    }
   },
   "outputs": [
    {
     "data": {
      "text/plain": [
       "{'meta': {'code': 200, 'requestId': '5f15a51bf5887b5051564a10'},\n",
       " 'response': {'venues': []}}"
      ]
     },
     "execution_count": 37,
     "metadata": {},
     "output_type": "execute_result"
    }
   ],
   "source": [
    "# define URL\n",
    "url = 'https://api.foursquare.com/v2/venues/trending?client_id={}&client_secret={}&ll={},{}&v={}'.format(CLIENT_ID, CLIENT_SECRET, latitude, longitude, VERSION)\n",
    "\n",
    "# send GET request and get trending venues\n",
    "results = requests.get(url).json()\n",
    "results"
   ]
  },
  {
   "cell_type": "markdown",
   "metadata": {
    "button": false,
    "deletable": true,
    "new_sheet": false,
    "run_control": {
     "read_only": false
    }
   },
   "source": [
    "### Check if any venues are trending at this time"
   ]
  },
  {
   "cell_type": "markdown",
   "metadata": {
    "button": false,
    "deletable": true,
    "new_sheet": false,
    "run_control": {
     "read_only": false
    }
   },
   "source": [
    "Now, depending on when you run the above code, you might get different venues since the venues with the highest foot traffic are fetched live. "
   ]
  },
  {
   "cell_type": "markdown",
   "metadata": {
    "button": false,
    "deletable": true,
    "new_sheet": false,
    "run_control": {
     "read_only": false
    }
   },
   "source": [
    "### Visualize trending venues"
   ]
  },
  {
   "cell_type": "code",
   "execution_count": 35,
   "metadata": {
    "button": false,
    "collapsed": false,
    "deletable": true,
    "jupyter": {
     "outputs_hidden": false
    },
    "new_sheet": false,
    "run_control": {
     "read_only": false
    }
   },
   "outputs": [
    {
     "data": {
      "text/html": [
       "<div style=\"width:100%;\"><div style=\"position:relative;width:100%;height:0;padding-bottom:60%;\"><span style=\"color:#565656\">Make this Notebook Trusted to load map: File -> Trust Notebook</span><iframe src=\"about:blank\" style=\"position:absolute;width:100%;height:100%;left:0;top:0;border:none !important;\" data-html=PCFET0NUWVBFIGh0bWw+CjxoZWFkPiAgICAKICAgIDxtZXRhIGh0dHAtZXF1aXY9ImNvbnRlbnQtdHlwZSIgY29udGVudD0idGV4dC9odG1sOyBjaGFyc2V0PVVURi04IiAvPgogICAgPHNjcmlwdD5MX1BSRUZFUl9DQU5WQVMgPSBmYWxzZTsgTF9OT19UT1VDSCA9IGZhbHNlOyBMX0RJU0FCTEVfM0QgPSBmYWxzZTs8L3NjcmlwdD4KICAgIDxzY3JpcHQgc3JjPSJodHRwczovL2Nkbi5qc2RlbGl2ci5uZXQvbnBtL2xlYWZsZXRAMS4yLjAvZGlzdC9sZWFmbGV0LmpzIj48L3NjcmlwdD4KICAgIDxzY3JpcHQgc3JjPSJodHRwczovL2FqYXguZ29vZ2xlYXBpcy5jb20vYWpheC9saWJzL2pxdWVyeS8xLjExLjEvanF1ZXJ5Lm1pbi5qcyI+PC9zY3JpcHQ+CiAgICA8c2NyaXB0IHNyYz0iaHR0cHM6Ly9tYXhjZG4uYm9vdHN0cmFwY2RuLmNvbS9ib290c3RyYXAvMy4yLjAvanMvYm9vdHN0cmFwLm1pbi5qcyI+PC9zY3JpcHQ+CiAgICA8c2NyaXB0IHNyYz0iaHR0cHM6Ly9jZG5qcy5jbG91ZGZsYXJlLmNvbS9hamF4L2xpYnMvTGVhZmxldC5hd2Vzb21lLW1hcmtlcnMvMi4wLjIvbGVhZmxldC5hd2Vzb21lLW1hcmtlcnMuanMiPjwvc2NyaXB0PgogICAgPGxpbmsgcmVsPSJzdHlsZXNoZWV0IiBocmVmPSJodHRwczovL2Nkbi5qc2RlbGl2ci5uZXQvbnBtL2xlYWZsZXRAMS4yLjAvZGlzdC9sZWFmbGV0LmNzcyIvPgogICAgPGxpbmsgcmVsPSJzdHlsZXNoZWV0IiBocmVmPSJodHRwczovL21heGNkbi5ib290c3RyYXBjZG4uY29tL2Jvb3RzdHJhcC8zLjIuMC9jc3MvYm9vdHN0cmFwLm1pbi5jc3MiLz4KICAgIDxsaW5rIHJlbD0ic3R5bGVzaGVldCIgaHJlZj0iaHR0cHM6Ly9tYXhjZG4uYm9vdHN0cmFwY2RuLmNvbS9ib290c3RyYXAvMy4yLjAvY3NzL2Jvb3RzdHJhcC10aGVtZS5taW4uY3NzIi8+CiAgICA8bGluayByZWw9InN0eWxlc2hlZXQiIGhyZWY9Imh0dHBzOi8vbWF4Y2RuLmJvb3RzdHJhcGNkbi5jb20vZm9udC1hd2Vzb21lLzQuNi4zL2Nzcy9mb250LWF3ZXNvbWUubWluLmNzcyIvPgogICAgPGxpbmsgcmVsPSJzdHlsZXNoZWV0IiBocmVmPSJodHRwczovL2NkbmpzLmNsb3VkZmxhcmUuY29tL2FqYXgvbGlicy9MZWFmbGV0LmF3ZXNvbWUtbWFya2Vycy8yLjAuMi9sZWFmbGV0LmF3ZXNvbWUtbWFya2Vycy5jc3MiLz4KICAgIDxsaW5rIHJlbD0ic3R5bGVzaGVldCIgaHJlZj0iaHR0cHM6Ly9yYXdnaXQuY29tL3B5dGhvbi12aXN1YWxpemF0aW9uL2ZvbGl1bS9tYXN0ZXIvZm9saXVtL3RlbXBsYXRlcy9sZWFmbGV0LmF3ZXNvbWUucm90YXRlLmNzcyIvPgogICAgPHN0eWxlPmh0bWwsIGJvZHkge3dpZHRoOiAxMDAlO2hlaWdodDogMTAwJTttYXJnaW46IDA7cGFkZGluZzogMDt9PC9zdHlsZT4KICAgIDxzdHlsZT4jbWFwIHtwb3NpdGlvbjphYnNvbHV0ZTt0b3A6MDtib3R0b206MDtyaWdodDowO2xlZnQ6MDt9PC9zdHlsZT4KICAgIAogICAgICAgICAgICA8c3R5bGU+ICNtYXBfMDRkMTJjYzViZGM1NDk4N2JmMTQ4MTBmZTgwNjFhMzMgewogICAgICAgICAgICAgICAgcG9zaXRpb24gOiByZWxhdGl2ZTsKICAgICAgICAgICAgICAgIHdpZHRoIDogMTAwLjAlOwogICAgICAgICAgICAgICAgaGVpZ2h0OiAxMDAuMCU7CiAgICAgICAgICAgICAgICBsZWZ0OiAwLjAlOwogICAgICAgICAgICAgICAgdG9wOiAwLjAlOwogICAgICAgICAgICAgICAgfQogICAgICAgICAgICA8L3N0eWxlPgogICAgICAgIAo8L2hlYWQ+Cjxib2R5PiAgICAKICAgIAogICAgICAgICAgICA8ZGl2IGNsYXNzPSJmb2xpdW0tbWFwIiBpZD0ibWFwXzA0ZDEyY2M1YmRjNTQ5ODdiZjE0ODEwZmU4MDYxYTMzIiA+PC9kaXY+CiAgICAgICAgCjwvYm9keT4KPHNjcmlwdD4gICAgCiAgICAKCiAgICAgICAgICAgIAogICAgICAgICAgICAgICAgdmFyIGJvdW5kcyA9IG51bGw7CiAgICAgICAgICAgIAoKICAgICAgICAgICAgdmFyIG1hcF8wNGQxMmNjNWJkYzU0OTg3YmYxNDgxMGZlODA2MWEzMyA9IEwubWFwKAogICAgICAgICAgICAgICAgICAgICAgICAgICAgICAgICAgJ21hcF8wNGQxMmNjNWJkYzU0OTg3YmYxNDgxMGZlODA2MWEzMycsCiAgICAgICAgICAgICAgICAgICAgICAgICAgICAgICAgICB7Y2VudGVyOiBbNDAuNzE1MTQ4MiwtNzQuMDE1NjU3M10sCiAgICAgICAgICAgICAgICAgICAgICAgICAgICAgICAgICB6b29tOiAxMywKICAgICAgICAgICAgICAgICAgICAgICAgICAgICAgICAgIG1heEJvdW5kczogYm91bmRzLAogICAgICAgICAgICAgICAgICAgICAgICAgICAgICAgICAgbGF5ZXJzOiBbXSwKICAgICAgICAgICAgICAgICAgICAgICAgICAgICAgICAgIHdvcmxkQ29weUp1bXA6IGZhbHNlLAogICAgICAgICAgICAgICAgICAgICAgICAgICAgICAgICAgY3JzOiBMLkNSUy5FUFNHMzg1NwogICAgICAgICAgICAgICAgICAgICAgICAgICAgICAgICB9KTsKICAgICAgICAgICAgCiAgICAgICAgCiAgICAKICAgICAgICAgICAgdmFyIHRpbGVfbGF5ZXJfZTMxOWIxMjZjNDc2NDYxNjkyMGI0ZjBiYmY1YjRlNWQgPSBMLnRpbGVMYXllcigKICAgICAgICAgICAgICAgICdodHRwczovL3tzfS50aWxlLm9wZW5zdHJlZXRtYXAub3JnL3t6fS97eH0ve3l9LnBuZycsCiAgICAgICAgICAgICAgICB7CiAgImF0dHJpYnV0aW9uIjogbnVsbCwKICAiZGV0ZWN0UmV0aW5hIjogZmFsc2UsCiAgIm1heFpvb20iOiAxOCwKICAibWluWm9vbSI6IDEsCiAgIm5vV3JhcCI6IGZhbHNlLAogICJzdWJkb21haW5zIjogImFiYyIKfQogICAgICAgICAgICAgICAgKS5hZGRUbyhtYXBfMDRkMTJjYzViZGM1NDk4N2JmMTQ4MTBmZTgwNjFhMzMpOwogICAgICAgIAogICAgCiAgICAgICAgICAgIHZhciBjaXJjbGVfbWFya2VyX2FjOTNhOGNlMTdjZjRhZGFhOTYxNGQ2NmQyZjkwNjY5ID0gTC5jaXJjbGVNYXJrZXIoCiAgICAgICAgICAgICAgICBbNDAuNzE1MTQ4MiwtNzQuMDE1NjU3M10sCiAgICAgICAgICAgICAgICB7CiAgImJ1YmJsaW5nTW91c2VFdmVudHMiOiB0cnVlLAogICJjb2xvciI6ICJyZWQiLAogICJkYXNoQXJyYXkiOiBudWxsLAogICJkYXNoT2Zmc2V0IjogbnVsbCwKICAiZmlsbCI6IHRydWUsCiAgImZpbGxDb2xvciI6ICJyZWQiLAogICJmaWxsT3BhY2l0eSI6IDAuNiwKICAiZmlsbFJ1bGUiOiAiZXZlbm9kZCIsCiAgImxpbmVDYXAiOiAicm91bmQiLAogICJsaW5lSm9pbiI6ICJyb3VuZCIsCiAgIm9wYWNpdHkiOiAxLjAsCiAgInJhZGl1cyI6IDEwLAogICJzdHJva2UiOiB0cnVlLAogICJ3ZWlnaHQiOiAzCn0KICAgICAgICAgICAgICAgICkuYWRkVG8obWFwXzA0ZDEyY2M1YmRjNTQ5ODdiZjE0ODEwZmU4MDYxYTMzKTsKICAgICAgICAgICAgCiAgICAKICAgICAgICAgICAgdmFyIHBvcHVwXzcyYWQ0N2Q4NTI3ODRlZTBhNTZiMjk5YTY2MDI0MzY1ID0gTC5wb3B1cCh7bWF4V2lkdGg6ICczMDAnfSk7CgogICAgICAgICAgICAKICAgICAgICAgICAgICAgIHZhciBodG1sXzhmZThjZmE3MDM5MzQzZjA4YzJmZTdjZjVkMmZjNjVhID0gJCgnPGRpdiBpZD0iaHRtbF84ZmU4Y2ZhNzAzOTM0M2YwOGMyZmU3Y2Y1ZDJmYzY1YSIgc3R5bGU9IndpZHRoOiAxMDAuMCU7IGhlaWdodDogMTAwLjAlOyI+Q29ucmFkIEhvdGVsPC9kaXY+JylbMF07CiAgICAgICAgICAgICAgICBwb3B1cF83MmFkNDdkODUyNzg0ZWUwYTU2YjI5OWE2NjAyNDM2NS5zZXRDb250ZW50KGh0bWxfOGZlOGNmYTcwMzkzNDNmMDhjMmZlN2NmNWQyZmM2NWEpOwogICAgICAgICAgICAKCiAgICAgICAgICAgIGNpcmNsZV9tYXJrZXJfYWM5M2E4Y2UxN2NmNGFkYWE5NjE0ZDY2ZDJmOTA2NjkuYmluZFBvcHVwKHBvcHVwXzcyYWQ0N2Q4NTI3ODRlZTBhNTZiMjk5YTY2MDI0MzY1KTsKCiAgICAgICAgICAgIAogICAgICAgIAogICAgCiAgICAgICAgICAgIHZhciBjaXJjbGVfbWFya2VyXzc3YzJkMGJmMDdiYjQxYWQ4ODE1MDQ3N2YyNzM4ZDA1ID0gTC5jaXJjbGVNYXJrZXIoCiAgICAgICAgICAgICAgICBbNDAuNzE0ODA2NDE1MjkxNTM0LC03NC4wMTUzMDI5OTY3ODgwN10sCiAgICAgICAgICAgICAgICB7CiAgImJ1YmJsaW5nTW91c2VFdmVudHMiOiB0cnVlLAogICJjb2xvciI6ICJibHVlIiwKICAiZGFzaEFycmF5IjogbnVsbCwKICAiZGFzaE9mZnNldCI6IG51bGwsCiAgImZpbGwiOiB0cnVlLAogICJmaWxsQ29sb3IiOiAiYmx1ZSIsCiAgImZpbGxPcGFjaXR5IjogMC42LAogICJmaWxsUnVsZSI6ICJldmVub2RkIiwKICAibGluZUNhcCI6ICJyb3VuZCIsCiAgImxpbmVKb2luIjogInJvdW5kIiwKICAib3BhY2l0eSI6IDEuMCwKICAicmFkaXVzIjogNSwKICAic3Ryb2tlIjogdHJ1ZSwKICAid2VpZ2h0IjogMwp9CiAgICAgICAgICAgICAgICApLmFkZFRvKG1hcF8wNGQxMmNjNWJkYzU0OTg3YmYxNDgxMGZlODA2MWEzMyk7CiAgICAgICAgICAgIAogICAgCiAgICAgICAgICAgIHZhciBwb3B1cF80OTFkM2ZiOTM5Y2U0ZDIxYjIxMWZlNTZmMmIzNDBhYSA9IEwucG9wdXAoe21heFdpZHRoOiAnMzAwJ30pOwoKICAgICAgICAgICAgCiAgICAgICAgICAgICAgICB2YXIgaHRtbF81ODUwNzBjYjAzODU0ZjYwYWY3MjdmNTExZDY2MjgxZiA9ICQoJzxkaXYgaWQ9Imh0bWxfNTg1MDcwY2IwMzg1NGY2MGFmNzI3ZjUxMWQ2NjI4MWYiIHN0eWxlPSJ3aWR0aDogMTAwLjAlOyBoZWlnaHQ6IDEwMC4wJTsiPkZvb2QgQ291cnQ8L2Rpdj4nKVswXTsKICAgICAgICAgICAgICAgIHBvcHVwXzQ5MWQzZmI5MzljZTRkMjFiMjExZmU1NmYyYjM0MGFhLnNldENvbnRlbnQoaHRtbF81ODUwNzBjYjAzODU0ZjYwYWY3MjdmNTExZDY2MjgxZik7CiAgICAgICAgICAgIAoKICAgICAgICAgICAgY2lyY2xlX21hcmtlcl83N2MyZDBiZjA3YmI0MWFkODgxNTA0NzdmMjczOGQwNS5iaW5kUG9wdXAocG9wdXBfNDkxZDNmYjkzOWNlNGQyMWIyMTFmZTU2ZjJiMzQwYWEpOwoKICAgICAgICAgICAgCiAgICAgICAgCiAgICAKICAgICAgICAgICAgdmFyIGNpcmNsZV9tYXJrZXJfOGUxZTU5MDUxYjQ0NDdiZDkzMDM2Y2NiMGU4MzAxMmYgPSBMLmNpcmNsZU1hcmtlcigKICAgICAgICAgICAgICAgIFs0MC43MTY3NjE1MjQ0NjYyMiwtNzQuMDA5NDY3ODE3OTIzXSwKICAgICAgICAgICAgICAgIHsKICAiYnViYmxpbmdNb3VzZUV2ZW50cyI6IHRydWUsCiAgImNvbG9yIjogImJsdWUiLAogICJkYXNoQXJyYXkiOiBudWxsLAogICJkYXNoT2Zmc2V0IjogbnVsbCwKICAiZmlsbCI6IHRydWUsCiAgImZpbGxDb2xvciI6ICJibHVlIiwKICAiZmlsbE9wYWNpdHkiOiAwLjYsCiAgImZpbGxSdWxlIjogImV2ZW5vZGQiLAogICJsaW5lQ2FwIjogInJvdW5kIiwKICAibGluZUpvaW4iOiAicm91bmQiLAogICJvcGFjaXR5IjogMS4wLAogICJyYWRpdXMiOiA1LAogICJzdHJva2UiOiB0cnVlLAogICJ3ZWlnaHQiOiAzCn0KICAgICAgICAgICAgICAgICkuYWRkVG8obWFwXzA0ZDEyY2M1YmRjNTQ5ODdiZjE0ODEwZmU4MDYxYTMzKTsKICAgICAgICAgICAgCiAgICAKICAgICAgICAgICAgdmFyIHBvcHVwX2UyNDdjNWUxZWQ4MDQ2N2U4ZDQ1ZmNiMDFkNTdmNGNhID0gTC5wb3B1cCh7bWF4V2lkdGg6ICczMDAnfSk7CgogICAgICAgICAgICAKICAgICAgICAgICAgICAgIHZhciBodG1sXzc0ZTQ2YzkxN2YwOTQ1OTc4OTIxMTRhODI4NWJlNGM3ID0gJCgnPGRpdiBpZD0iaHRtbF83NGU0NmM5MTdmMDk0NTk3ODkyMTE0YTgyODViZTRjNyIgc3R5bGU9IndpZHRoOiAxMDAuMCU7IGhlaWdodDogMTAwLjAlOyI+RG9jdG9yJ3MgT2ZmaWNlPC9kaXY+JylbMF07CiAgICAgICAgICAgICAgICBwb3B1cF9lMjQ3YzVlMWVkODA0NjdlOGQ0NWZjYjAxZDU3ZjRjYS5zZXRDb250ZW50KGh0bWxfNzRlNDZjOTE3ZjA5NDU5Nzg5MjExNGE4Mjg1YmU0YzcpOwogICAgICAgICAgICAKCiAgICAgICAgICAgIGNpcmNsZV9tYXJrZXJfOGUxZTU5MDUxYjQ0NDdiZDkzMDM2Y2NiMGU4MzAxMmYuYmluZFBvcHVwKHBvcHVwX2UyNDdjNWUxZWQ4MDQ2N2U4ZDQ1ZmNiMDFkNTdmNGNhKTsKCiAgICAgICAgICAgIAogICAgICAgIAogICAgCiAgICAgICAgICAgIHZhciBjaXJjbGVfbWFya2VyX2QxOTVlNmNiNjBkOTRiMzBiYjk2MzA3OGI3MmRmYjA3ID0gTC5jaXJjbGVNYXJrZXIoCiAgICAgICAgICAgICAgICBbNDAuNzE2NDAxMDg0NzIxODcsLTc0LjAxMTA5MTEyNzQ5NDhdLAogICAgICAgICAgICAgICAgewogICJidWJibGluZ01vdXNlRXZlbnRzIjogdHJ1ZSwKICAiY29sb3IiOiAiYmx1ZSIsCiAgImRhc2hBcnJheSI6IG51bGwsCiAgImRhc2hPZmZzZXQiOiBudWxsLAogICJmaWxsIjogdHJ1ZSwKICAiZmlsbENvbG9yIjogImJsdWUiLAogICJmaWxsT3BhY2l0eSI6IDAuNiwKICAiZmlsbFJ1bGUiOiAiZXZlbm9kZCIsCiAgImxpbmVDYXAiOiAicm91bmQiLAogICJsaW5lSm9pbiI6ICJyb3VuZCIsCiAgIm9wYWNpdHkiOiAxLjAsCiAgInJhZGl1cyI6IDUsCiAgInN0cm9rZSI6IHRydWUsCiAgIndlaWdodCI6IDMKfQogICAgICAgICAgICAgICAgKS5hZGRUbyhtYXBfMDRkMTJjYzViZGM1NDk4N2JmMTQ4MTBmZTgwNjFhMzMpOwogICAgICAgICAgICAKICAgIAogICAgICAgICAgICB2YXIgcG9wdXBfNzdkZDMzYzYxNmYwNDQ2NDg2NTEyYWNkYzNlMzY5MmYgPSBMLnBvcHVwKHttYXhXaWR0aDogJzMwMCd9KTsKCiAgICAgICAgICAgIAogICAgICAgICAgICAgICAgdmFyIGh0bWxfODVkOGM1MTE5N2VlNGMyMzg1MjFlNWM3ODRiNTJkNjAgPSAkKCc8ZGl2IGlkPSJodG1sXzg1ZDhjNTExOTdlZTRjMjM4NTIxZTVjNzg0YjUyZDYwIiBzdHlsZT0id2lkdGg6IDEwMC4wJTsgaGVpZ2h0OiAxMDAuMCU7Ij5Eb2N0b3IncyBPZmZpY2U8L2Rpdj4nKVswXTsKICAgICAgICAgICAgICAgIHBvcHVwXzc3ZGQzM2M2MTZmMDQ0NjQ4NjUxMmFjZGMzZTM2OTJmLnNldENvbnRlbnQoaHRtbF84NWQ4YzUxMTk3ZWU0YzIzODUyMWU1Yzc4NGI1MmQ2MCk7CiAgICAgICAgICAgIAoKICAgICAgICAgICAgY2lyY2xlX21hcmtlcl9kMTk1ZTZjYjYwZDk0YjMwYmI5NjMwNzhiNzJkZmIwNy5iaW5kUG9wdXAocG9wdXBfNzdkZDMzYzYxNmYwNDQ2NDg2NTEyYWNkYzNlMzY5MmYpOwoKICAgICAgICAgICAgCiAgICAgICAgCiAgICAKICAgICAgICAgICAgdmFyIGNpcmNsZV9tYXJrZXJfMzNkYzAzNDc0YTg5NGZkOWFjMzhkYmYyMzI0YjkwMGQgPSBMLmNpcmNsZU1hcmtlcigKICAgICAgICAgICAgICAgIFs0MC43MTQyMDIsLTc0LjAxMTAxOF0sCiAgICAgICAgICAgICAgICB7CiAgImJ1YmJsaW5nTW91c2VFdmVudHMiOiB0cnVlLAogICJjb2xvciI6ICJibHVlIiwKICAiZGFzaEFycmF5IjogbnVsbCwKICAiZGFzaE9mZnNldCI6IG51bGwsCiAgImZpbGwiOiB0cnVlLAogICJmaWxsQ29sb3IiOiAiYmx1ZSIsCiAgImZpbGxPcGFjaXR5IjogMC42LAogICJmaWxsUnVsZSI6ICJldmVub2RkIiwKICAibGluZUNhcCI6ICJyb3VuZCIsCiAgImxpbmVKb2luIjogInJvdW5kIiwKICAib3BhY2l0eSI6IDEuMCwKICAicmFkaXVzIjogNSwKICAic3Ryb2tlIjogdHJ1ZSwKICAid2VpZ2h0IjogMwp9CiAgICAgICAgICAgICAgICApLmFkZFRvKG1hcF8wNGQxMmNjNWJkYzU0OTg3YmYxNDgxMGZlODA2MWEzMyk7CiAgICAgICAgICAgIAogICAgCiAgICAgICAgICAgIHZhciBwb3B1cF9jNDJiZjE1MjZmYmQ0N2Q5ODM4YjFkYTU3N2ZmZTZmOSA9IEwucG9wdXAoe21heFdpZHRoOiAnMzAwJ30pOwoKICAgICAgICAgICAgCiAgICAgICAgICAgICAgICB2YXIgaHRtbF9hM2Q5MTMxNjU5ZWM0MzM3OGE3MGYxZWQ0NDg0Y2QyZSA9ICQoJzxkaXYgaWQ9Imh0bWxfYTNkOTEzMTY1OWVjNDMzNzhhNzBmMWVkNDQ4NGNkMmUiIHN0eWxlPSJ3aWR0aDogMTAwLjAlOyBoZWlnaHQ6IDEwMC4wJTsiPkRvY3RvcidzIE9mZmljZTwvZGl2PicpWzBdOwogICAgICAgICAgICAgICAgcG9wdXBfYzQyYmYxNTI2ZmJkNDdkOTgzOGIxZGE1NzdmZmU2Zjkuc2V0Q29udGVudChodG1sX2EzZDkxMzE2NTllYzQzMzc4YTcwZjFlZDQ0ODRjZDJlKTsKICAgICAgICAgICAgCgogICAgICAgICAgICBjaXJjbGVfbWFya2VyXzMzZGMwMzQ3NGE4OTRmZDlhYzM4ZGJmMjMyNGI5MDBkLmJpbmRQb3B1cChwb3B1cF9jNDJiZjE1MjZmYmQ0N2Q5ODM4YjFkYTU3N2ZmZTZmOSk7CgogICAgICAgICAgICAKICAgICAgICAKICAgIAogICAgICAgICAgICB2YXIgY2lyY2xlX21hcmtlcl9kNmNmZTA4Yjk4NjA0Mjk2YmFhZTM5ZmNlN2NmMzkwZSA9IEwuY2lyY2xlTWFya2VyKAogICAgICAgICAgICAgICAgWzQwLjcxMjIsLTc0LjAxNDI5N10sCiAgICAgICAgICAgICAgICB7CiAgImJ1YmJsaW5nTW91c2VFdmVudHMiOiB0cnVlLAogICJjb2xvciI6ICJibHVlIiwKICAiZGFzaEFycmF5IjogbnVsbCwKICAiZGFzaE9mZnNldCI6IG51bGwsCiAgImZpbGwiOiB0cnVlLAogICJmaWxsQ29sb3IiOiAiYmx1ZSIsCiAgImZpbGxPcGFjaXR5IjogMC42LAogICJmaWxsUnVsZSI6ICJldmVub2RkIiwKICAibGluZUNhcCI6ICJyb3VuZCIsCiAgImxpbmVKb2luIjogInJvdW5kIiwKICAib3BhY2l0eSI6IDEuMCwKICAicmFkaXVzIjogNSwKICAic3Ryb2tlIjogdHJ1ZSwKICAid2VpZ2h0IjogMwp9CiAgICAgICAgICAgICAgICApLmFkZFRvKG1hcF8wNGQxMmNjNWJkYzU0OTg3YmYxNDgxMGZlODA2MWEzMyk7CiAgICAgICAgICAgIAogICAgCiAgICAgICAgICAgIHZhciBwb3B1cF9mOTljMjg4MjM1Nzc0MjA4YjM2ZTRkODQ2YjcwMjg0MyA9IEwucG9wdXAoe21heFdpZHRoOiAnMzAwJ30pOwoKICAgICAgICAgICAgCiAgICAgICAgICAgICAgICB2YXIgaHRtbF9mMDk0MzAxZTc5ZmM0NzRkYjVmNjhhYjhhMjRkYWY5YSA9ICQoJzxkaXYgaWQ9Imh0bWxfZjA5NDMwMWU3OWZjNDc0ZGI1ZjY4YWI4YTI0ZGFmOWEiIHN0eWxlPSJ3aWR0aDogMTAwLjAlOyBoZWlnaHQ6IDEwMC4wJTsiPkNob2NvbGF0ZSBTaG9wPC9kaXY+JylbMF07CiAgICAgICAgICAgICAgICBwb3B1cF9mOTljMjg4MjM1Nzc0MjA4YjM2ZTRkODQ2YjcwMjg0My5zZXRDb250ZW50KGh0bWxfZjA5NDMwMWU3OWZjNDc0ZGI1ZjY4YWI4YTI0ZGFmOWEpOwogICAgICAgICAgICAKCiAgICAgICAgICAgIGNpcmNsZV9tYXJrZXJfZDZjZmUwOGI5ODYwNDI5NmJhYWUzOWZjZTdjZjM5MGUuYmluZFBvcHVwKHBvcHVwX2Y5OWMyODgyMzU3NzQyMDhiMzZlNGQ4NDZiNzAyODQzKTsKCiAgICAgICAgICAgIAogICAgICAgIAogICAgCiAgICAgICAgICAgIHZhciBjaXJjbGVfbWFya2VyX2QxMzYzMjM1ZGVkNDRlNGRhZTYwNWU1MTYwNDQ3NDVmID0gTC5jaXJjbGVNYXJrZXIoCiAgICAgICAgICAgICAgICBbNDAuNzEzOTUzOTg0NjEyMDcsLTc0LjAxNDE3ODMxMDUzMjc0XSwKICAgICAgICAgICAgICAgIHsKICAiYnViYmxpbmdNb3VzZUV2ZW50cyI6IHRydWUsCiAgImNvbG9yIjogImJsdWUiLAogICJkYXNoQXJyYXkiOiBudWxsLAogICJkYXNoT2Zmc2V0IjogbnVsbCwKICAiZmlsbCI6IHRydWUsCiAgImZpbGxDb2xvciI6ICJibHVlIiwKICAiZmlsbE9wYWNpdHkiOiAwLjYsCiAgImZpbGxSdWxlIjogImV2ZW5vZGQiLAogICJsaW5lQ2FwIjogInJvdW5kIiwKICAibGluZUpvaW4iOiAicm91bmQiLAogICJvcGFjaXR5IjogMS4wLAogICJyYWRpdXMiOiA1LAogICJzdHJva2UiOiB0cnVlLAogICJ3ZWlnaHQiOiAzCn0KICAgICAgICAgICAgICAgICkuYWRkVG8obWFwXzA0ZDEyY2M1YmRjNTQ5ODdiZjE0ODEwZmU4MDYxYTMzKTsKICAgICAgICAgICAgCiAgICAKICAgICAgICAgICAgdmFyIHBvcHVwXzY5YjA4MTMxOGY2ZTQ3ZDJhMWRhZDUzYjNhNjk4NTQ1ID0gTC5wb3B1cCh7bWF4V2lkdGg6ICczMDAnfSk7CgogICAgICAgICAgICAKICAgICAgICAgICAgICAgIHZhciBodG1sXzY0YjQyNWUwNWEwYzRiZTE5NDVmYjllMGVhNzQ5Yjk2ID0gJCgnPGRpdiBpZD0iaHRtbF82NGI0MjVlMDVhMGM0YmUxOTQ1ZmI5ZTBlYTc0OWI5NiIgc3R5bGU9IndpZHRoOiAxMDAuMCU7IGhlaWdodDogMTAwLjAlOyI+TmVpZ2hib3Job29kPC9kaXY+JylbMF07CiAgICAgICAgICAgICAgICBwb3B1cF82OWIwODEzMThmNmU0N2QyYTFkYWQ1M2IzYTY5ODU0NS5zZXRDb250ZW50KGh0bWxfNjRiNDI1ZTA1YTBjNGJlMTk0NWZiOWUwZWE3NDliOTYpOwogICAgICAgICAgICAKCiAgICAgICAgICAgIGNpcmNsZV9tYXJrZXJfZDEzNjMyMzVkZWQ0NGU0ZGFlNjA1ZTUxNjA0NDc0NWYuYmluZFBvcHVwKHBvcHVwXzY5YjA4MTMxOGY2ZTQ3ZDJhMWRhZDUzYjNhNjk4NTQ1KTsKCiAgICAgICAgICAgIAogICAgICAgIAogICAgCiAgICAgICAgICAgIHZhciBjaXJjbGVfbWFya2VyXzFlMmM4YzM5NTMxYzQ0MzE4ZTg3NDJhODhkNDkyMWVkID0gTC5jaXJjbGVNYXJrZXIoCiAgICAgICAgICAgICAgICBbNDAuNzE2MjA4ODQ3NDU4MDQsLTc0LjAxNDM2MTkzMzIzMDg2XSwKICAgICAgICAgICAgICAgIHsKICAiYnViYmxpbmdNb3VzZUV2ZW50cyI6IHRydWUsCiAgImNvbG9yIjogImJsdWUiLAogICJkYXNoQXJyYXkiOiBudWxsLAogICJkYXNoT2Zmc2V0IjogbnVsbCwKICAiZmlsbCI6IHRydWUsCiAgImZpbGxDb2xvciI6ICJibHVlIiwKICAiZmlsbE9wYWNpdHkiOiAwLjYsCiAgImZpbGxSdWxlIjogImV2ZW5vZGQiLAogICJsaW5lQ2FwIjogInJvdW5kIiwKICAibGluZUpvaW4iOiAicm91bmQiLAogICJvcGFjaXR5IjogMS4wLAogICJyYWRpdXMiOiA1LAogICJzdHJva2UiOiB0cnVlLAogICJ3ZWlnaHQiOiAzCn0KICAgICAgICAgICAgICAgICkuYWRkVG8obWFwXzA0ZDEyY2M1YmRjNTQ5ODdiZjE0ODEwZmU4MDYxYTMzKTsKICAgICAgICAgICAgCiAgICAKICAgICAgICAgICAgdmFyIHBvcHVwX2NjYWEwZWIzZjQ2ODQ5N2RhODljODczNmFkODNjM2UwID0gTC5wb3B1cCh7bWF4V2lkdGg6ICczMDAnfSk7CgogICAgICAgICAgICAKICAgICAgICAgICAgICAgIHZhciBodG1sX2QxYzVhZThmNDcxNDQzMDc5MzYwYzc4NDYzOGU5MjcxID0gJCgnPGRpdiBpZD0iaHRtbF9kMWM1YWU4ZjQ3MTQ0MzA3OTM2MGM3ODQ2MzhlOTI3MSIgc3R5bGU9IndpZHRoOiAxMDAuMCU7IGhlaWdodDogMTAwLjAlOyI+Q29udmVuaWVuY2UgU3RvcmU8L2Rpdj4nKVswXTsKICAgICAgICAgICAgICAgIHBvcHVwX2NjYWEwZWIzZjQ2ODQ5N2RhODljODczNmFkODNjM2UwLnNldENvbnRlbnQoaHRtbF9kMWM1YWU4ZjQ3MTQ0MzA3OTM2MGM3ODQ2MzhlOTI3MSk7CiAgICAgICAgICAgIAoKICAgICAgICAgICAgY2lyY2xlX21hcmtlcl8xZTJjOGMzOTUzMWM0NDMxOGU4NzQyYTg4ZDQ5MjFlZC5iaW5kUG9wdXAocG9wdXBfY2NhYTBlYjNmNDY4NDk3ZGE4OWM4NzM2YWQ4M2MzZTApOwoKICAgICAgICAgICAgCiAgICAgICAgCiAgICAKICAgICAgICAgICAgdmFyIGNpcmNsZV9tYXJrZXJfOTA1YjJmZDhlYzk5NDgzZTlkMWVlOTI3NTQ2ZGI0MmEgPSBMLmNpcmNsZU1hcmtlcigKICAgICAgICAgICAgICAgIFs0MC43MTM3NzY5MTc3NjM0MSwtNzQuMDE0OTc4NDA4ODEzNDhdLAogICAgICAgICAgICAgICAgewogICJidWJibGluZ01vdXNlRXZlbnRzIjogdHJ1ZSwKICAiY29sb3IiOiAiYmx1ZSIsCiAgImRhc2hBcnJheSI6IG51bGwsCiAgImRhc2hPZmZzZXQiOiBudWxsLAogICJmaWxsIjogdHJ1ZSwKICAiZmlsbENvbG9yIjogImJsdWUiLAogICJmaWxsT3BhY2l0eSI6IDAuNiwKICAiZmlsbFJ1bGUiOiAiZXZlbm9kZCIsCiAgImxpbmVDYXAiOiAicm91bmQiLAogICJsaW5lSm9pbiI6ICJyb3VuZCIsCiAgIm9wYWNpdHkiOiAxLjAsCiAgInJhZGl1cyI6IDUsCiAgInN0cm9rZSI6IHRydWUsCiAgIndlaWdodCI6IDMKfQogICAgICAgICAgICAgICAgKS5hZGRUbyhtYXBfMDRkMTJjYzViZGM1NDk4N2JmMTQ4MTBmZTgwNjFhMzMpOwogICAgICAgICAgICAKICAgIAogICAgICAgICAgICB2YXIgcG9wdXBfYjE1NTk1ZjI1OWU3NDdiZTkyNzcwMzM2ZjM2Mzc4YWYgPSBMLnBvcHVwKHttYXhXaWR0aDogJzMwMCd9KTsKCiAgICAgICAgICAgIAogICAgICAgICAgICAgICAgdmFyIGh0bWxfNmE0MWNjMWNhNmUzNGI3MDgwNGM4ZDhiMzU5MTY4Y2MgPSAkKCc8ZGl2IGlkPSJodG1sXzZhNDFjYzFjYTZlMzRiNzA4MDRjOGQ4YjM1OTE2OGNjIiBzdHlsZT0id2lkdGg6IDEwMC4wJTsgaGVpZ2h0OiAxMDAuMCU7Ij5Db3NtZXRpY3MgU2hvcDwvZGl2PicpWzBdOwogICAgICAgICAgICAgICAgcG9wdXBfYjE1NTk1ZjI1OWU3NDdiZTkyNzcwMzM2ZjM2Mzc4YWYuc2V0Q29udGVudChodG1sXzZhNDFjYzFjYTZlMzRiNzA4MDRjOGQ4YjM1OTE2OGNjKTsKICAgICAgICAgICAgCgogICAgICAgICAgICBjaXJjbGVfbWFya2VyXzkwNWIyZmQ4ZWM5OTQ4M2U5ZDFlZTkyNzU0NmRiNDJhLmJpbmRQb3B1cChwb3B1cF9iMTU1OTVmMjU5ZTc0N2JlOTI3NzAzMzZmMzYzNzhhZik7CgogICAgICAgICAgICAKICAgICAgICAKICAgIAogICAgICAgICAgICB2YXIgY2lyY2xlX21hcmtlcl82ZTNlMGMxYmZmNjA0YjEyOWE4ZjFhZDBkNTA5NTE3MiA9IEwuY2lyY2xlTWFya2VyKAogICAgICAgICAgICAgICAgWzQwLjcxNjU3OTQzNzI1NTg2LC03NC4wMTIzOTAxMzY3MTg3NV0sCiAgICAgICAgICAgICAgICB7CiAgImJ1YmJsaW5nTW91c2VFdmVudHMiOiB0cnVlLAogICJjb2xvciI6ICJibHVlIiwKICAiZGFzaEFycmF5IjogbnVsbCwKICAiZGFzaE9mZnNldCI6IG51bGwsCiAgImZpbGwiOiB0cnVlLAogICJmaWxsQ29sb3IiOiAiYmx1ZSIsCiAgImZpbGxPcGFjaXR5IjogMC42LAogICJmaWxsUnVsZSI6ICJldmVub2RkIiwKICAibGluZUNhcCI6ICJyb3VuZCIsCiAgImxpbmVKb2luIjogInJvdW5kIiwKICAib3BhY2l0eSI6IDEuMCwKICAicmFkaXVzIjogNSwKICAic3Ryb2tlIjogdHJ1ZSwKICAid2VpZ2h0IjogMwp9CiAgICAgICAgICAgICAgICApLmFkZFRvKG1hcF8wNGQxMmNjNWJkYzU0OTg3YmYxNDgxMGZlODA2MWEzMyk7CiAgICAgICAgICAgIAogICAgCiAgICAgICAgICAgIHZhciBwb3B1cF85NjJlZmM5Mjg4Nzg0NDI3YTgyZWUwMWFlZmE4ZDJjNCA9IEwucG9wdXAoe21heFdpZHRoOiAnMzAwJ30pOwoKICAgICAgICAgICAgCiAgICAgICAgICAgICAgICB2YXIgaHRtbF9mZDVmY2ZlYmMzMDQ0OWMxYjlkNzI0NjlmOWEwZWI1MCA9ICQoJzxkaXYgaWQ9Imh0bWxfZmQ1ZmNmZWJjMzA0NDljMWI5ZDcyNDY5ZjlhMGViNTAiIHN0eWxlPSJ3aWR0aDogMTAwLjAlOyBoZWlnaHQ6IDEwMC4wJTsiPkRvY3RvcidzIE9mZmljZTwvZGl2PicpWzBdOwogICAgICAgICAgICAgICAgcG9wdXBfOTYyZWZjOTI4ODc4NDQyN2E4MmVlMDFhZWZhOGQyYzQuc2V0Q29udGVudChodG1sX2ZkNWZjZmViYzMwNDQ5YzFiOWQ3MjQ2OWY5YTBlYjUwKTsKICAgICAgICAgICAgCgogICAgICAgICAgICBjaXJjbGVfbWFya2VyXzZlM2UwYzFiZmY2MDRiMTI5YThmMWFkMGQ1MDk1MTcyLmJpbmRQb3B1cChwb3B1cF85NjJlZmM5Mjg4Nzg0NDI3YTgyZWUwMWFlZmE4ZDJjNCk7CgogICAgICAgICAgICAKICAgICAgICAKICAgIAogICAgICAgICAgICB2YXIgY2lyY2xlX21hcmtlcl9kMjkwMThiNDM1OWM0MTNiYTI2YzY3ZTI2NDcwMTdjOCA9IEwuY2lyY2xlTWFya2VyKAogICAgICAgICAgICAgICAgWzQwLjcxMzk1MSwtNzQuMDEzMjQ4XSwKICAgICAgICAgICAgICAgIHsKICAiYnViYmxpbmdNb3VzZUV2ZW50cyI6IHRydWUsCiAgImNvbG9yIjogImJsdWUiLAogICJkYXNoQXJyYXkiOiBudWxsLAogICJkYXNoT2Zmc2V0IjogbnVsbCwKICAiZmlsbCI6IHRydWUsCiAgImZpbGxDb2xvciI6ICJibHVlIiwKICAiZmlsbE9wYWNpdHkiOiAwLjYsCiAgImZpbGxSdWxlIjogImV2ZW5vZGQiLAogICJsaW5lQ2FwIjogInJvdW5kIiwKICAibGluZUpvaW4iOiAicm91bmQiLAogICJvcGFjaXR5IjogMS4wLAogICJyYWRpdXMiOiA1LAogICJzdHJva2UiOiB0cnVlLAogICJ3ZWlnaHQiOiAzCn0KICAgICAgICAgICAgICAgICkuYWRkVG8obWFwXzA0ZDEyY2M1YmRjNTQ5ODdiZjE0ODEwZmU4MDYxYTMzKTsKICAgICAgICAgICAgCiAgICAKICAgICAgICAgICAgdmFyIHBvcHVwXzg4NGJkMTI3ZTMwOTQzYWJhYmVmYzA2MmI4Mzk1MjIyID0gTC5wb3B1cCh7bWF4V2lkdGg6ICczMDAnfSk7CgogICAgICAgICAgICAKICAgICAgICAgICAgICAgIHZhciBodG1sXzFhMjAwYWU5NTRiMzRhOTA4NTRmNDY1NjAyODZlNjAxID0gJCgnPGRpdiBpZD0iaHRtbF8xYTIwMGFlOTU0YjM0YTkwODU0ZjQ2NTYwMjg2ZTYwMSIgc3R5bGU9IndpZHRoOiAxMDAuMCU7IGhlaWdodDogMTAwLjAlOyI+R291cm1ldCBTaG9wPC9kaXY+JylbMF07CiAgICAgICAgICAgICAgICBwb3B1cF84ODRiZDEyN2UzMDk0M2FiYWJlZmMwNjJiODM5NTIyMi5zZXRDb250ZW50KGh0bWxfMWEyMDBhZTk1NGIzNGE5MDg1NGY0NjU2MDI4NmU2MDEpOwogICAgICAgICAgICAKCiAgICAgICAgICAgIGNpcmNsZV9tYXJrZXJfZDI5MDE4YjQzNTljNDEzYmEyNmM2N2UyNjQ3MDE3YzguYmluZFBvcHVwKHBvcHVwXzg4NGJkMTI3ZTMwOTQzYWJhYmVmYzA2MmI4Mzk1MjIyKTsKCiAgICAgICAgICAgIAogICAgICAgIAogICAgCiAgICAgICAgICAgIHZhciBjaXJjbGVfbWFya2VyXzlhZDMwMzMxYjliZTQwMGJiZmZkZjA4ZjE4YmM2OGMzID0gTC5jaXJjbGVNYXJrZXIoCiAgICAgICAgICAgICAgICBbNDAuNzEzMTI3OTc4MTMzMzQsLTc0LjAxMzM2OTIyMDkxNjg3XSwKICAgICAgICAgICAgICAgIHsKICAiYnViYmxpbmdNb3VzZUV2ZW50cyI6IHRydWUsCiAgImNvbG9yIjogImJsdWUiLAogICJkYXNoQXJyYXkiOiBudWxsLAogICJkYXNoT2Zmc2V0IjogbnVsbCwKICAiZmlsbCI6IHRydWUsCiAgImZpbGxDb2xvciI6ICJibHVlIiwKICAiZmlsbE9wYWNpdHkiOiAwLjYsCiAgImZpbGxSdWxlIjogImV2ZW5vZGQiLAogICJsaW5lQ2FwIjogInJvdW5kIiwKICAibGluZUpvaW4iOiAicm91bmQiLAogICJvcGFjaXR5IjogMS4wLAogICJyYWRpdXMiOiA1LAogICJzdHJva2UiOiB0cnVlLAogICJ3ZWlnaHQiOiAzCn0KICAgICAgICAgICAgICAgICkuYWRkVG8obWFwXzA0ZDEyY2M1YmRjNTQ5ODdiZjE0ODEwZmU4MDYxYTMzKTsKICAgICAgICAgICAgCiAgICAKICAgICAgICAgICAgdmFyIHBvcHVwXzQyNTM2NzlmMWQ0ODQxZjY5ZWZjYzM1ODdhNjc5NDljID0gTC5wb3B1cCh7bWF4V2lkdGg6ICczMDAnfSk7CgogICAgICAgICAgICAKICAgICAgICAgICAgICAgIHZhciBodG1sX2NhY2IwZjc0YWQwZDRiZjg5NDU5ZTI4NDY2NzQ4ZGY5ID0gJCgnPGRpdiBpZD0iaHRtbF9jYWNiMGY3NGFkMGQ0YmY4OTQ1OWUyODQ2Njc0OGRmOSIgc3R5bGU9IndpZHRoOiAxMDAuMCU7IGhlaWdodDogMTAwLjAlOyI+U2hvcHBpbmcgTWFsbDwvZGl2PicpWzBdOwogICAgICAgICAgICAgICAgcG9wdXBfNDI1MzY3OWYxZDQ4NDFmNjllZmNjMzU4N2E2Nzk0OWMuc2V0Q29udGVudChodG1sX2NhY2IwZjc0YWQwZDRiZjg5NDU5ZTI4NDY2NzQ4ZGY5KTsKICAgICAgICAgICAgCgogICAgICAgICAgICBjaXJjbGVfbWFya2VyXzlhZDMwMzMxYjliZTQwMGJiZmZkZjA4ZjE4YmM2OGMzLmJpbmRQb3B1cChwb3B1cF80MjUzNjc5ZjFkNDg0MWY2OWVmY2MzNTg3YTY3OTQ5Yyk7CgogICAgICAgICAgICAKICAgICAgICAKICAgIAogICAgICAgICAgICB2YXIgY2lyY2xlX21hcmtlcl8wMzM2MTlmNGEwNWU0MWZhOGQ0ODllZTI5NDBmOTY4YiA9IEwuY2lyY2xlTWFya2VyKAogICAgICAgICAgICAgICAgWzQwLjcxMzE5NzY4NzIxMDQ5LC03NC4wMTM5ODQzMzQ1NjAyOV0sCiAgICAgICAgICAgICAgICB7CiAgImJ1YmJsaW5nTW91c2VFdmVudHMiOiB0cnVlLAogICJjb2xvciI6ICJibHVlIiwKICAiZGFzaEFycmF5IjogbnVsbCwKICAiZGFzaE9mZnNldCI6IG51bGwsCiAgImZpbGwiOiB0cnVlLAogICJmaWxsQ29sb3IiOiAiYmx1ZSIsCiAgImZpbGxPcGFjaXR5IjogMC42LAogICJmaWxsUnVsZSI6ICJldmVub2RkIiwKICAibGluZUNhcCI6ICJyb3VuZCIsCiAgImxpbmVKb2luIjogInJvdW5kIiwKICAib3BhY2l0eSI6IDEuMCwKICAicmFkaXVzIjogNSwKICAic3Ryb2tlIjogdHJ1ZSwKICAid2VpZ2h0IjogMwp9CiAgICAgICAgICAgICAgICApLmFkZFRvKG1hcF8wNGQxMmNjNWJkYzU0OTg3YmYxNDgxMGZlODA2MWEzMyk7CiAgICAgICAgICAgIAogICAgCiAgICAgICAgICAgIHZhciBwb3B1cF85ZDk0NWM3ZjgxZjQ0NGU0OGYyZGU2NjI4ODM5NDM1YiA9IEwucG9wdXAoe21heFdpZHRoOiAnMzAwJ30pOwoKICAgICAgICAgICAgCiAgICAgICAgICAgICAgICB2YXIgaHRtbF8zMjA0ZDBhZDhjNmI0ZjI3YmIyNjY2YjdlZGRjMGY1ZiA9ICQoJzxkaXYgaWQ9Imh0bWxfMzIwNGQwYWQ4YzZiNGYyN2JiMjY2NmI3ZWRkYzBmNWYiIHN0eWxlPSJ3aWR0aDogMTAwLjAlOyBoZWlnaHQ6IDEwMC4wJTsiPkJvb2tzdG9yZTwvZGl2PicpWzBdOwogICAgICAgICAgICAgICAgcG9wdXBfOWQ5NDVjN2Y4MWY0NDRlNDhmMmRlNjYyODgzOTQzNWIuc2V0Q29udGVudChodG1sXzMyMDRkMGFkOGM2YjRmMjdiYjI2NjZiN2VkZGMwZjVmKTsKICAgICAgICAgICAgCgogICAgICAgICAgICBjaXJjbGVfbWFya2VyXzAzMzYxOWY0YTA1ZTQxZmE4ZDQ4OWVlMjk0MGY5NjhiLmJpbmRQb3B1cChwb3B1cF85ZDk0NWM3ZjgxZjQ0NGU0OGYyZGU2NjI4ODM5NDM1Yik7CgogICAgICAgICAgICAKICAgICAgICAKICAgIAogICAgICAgICAgICB2YXIgY2lyY2xlX21hcmtlcl9kNzUyOGNmNDczZmY0MGZlYjBhODc1MmU4YTg0YWI4YSA9IEwuY2lyY2xlTWFya2VyKAogICAgICAgICAgICAgICAgWzQwLjcxMzc4Mjg5MTQ1MTI4LC03NC4wMTMyNDg3MTc5MTQ5M10sCiAgICAgICAgICAgICAgICB7CiAgImJ1YmJsaW5nTW91c2VFdmVudHMiOiB0cnVlLAogICJjb2xvciI6ICJibHVlIiwKICAiZGFzaEFycmF5IjogbnVsbCwKICAiZGFzaE9mZnNldCI6IG51bGwsCiAgImZpbGwiOiB0cnVlLAogICJmaWxsQ29sb3IiOiAiYmx1ZSIsCiAgImZpbGxPcGFjaXR5IjogMC42LAogICJmaWxsUnVsZSI6ICJldmVub2RkIiwKICAibGluZUNhcCI6ICJyb3VuZCIsCiAgImxpbmVKb2luIjogInJvdW5kIiwKICAib3BhY2l0eSI6IDEuMCwKICAicmFkaXVzIjogNSwKICAic3Ryb2tlIjogdHJ1ZSwKICAid2VpZ2h0IjogMwp9CiAgICAgICAgICAgICAgICApLmFkZFRvKG1hcF8wNGQxMmNjNWJkYzU0OTg3YmYxNDgxMGZlODA2MWEzMyk7CiAgICAgICAgICAgIAogICAgCiAgICAgICAgICAgIHZhciBwb3B1cF8yZmJmZjgwMGI4MmQ0ZWY4YjJhYzEzY2EzMWFmZDFiYyA9IEwucG9wdXAoe21heFdpZHRoOiAnMzAwJ30pOwoKICAgICAgICAgICAgCiAgICAgICAgICAgICAgICB2YXIgaHRtbF85N2MzYjdjOGQ2NDg0ZjczOGYwZTc4NGQwMDhiM2I2OSA9ICQoJzxkaXYgaWQ9Imh0bWxfOTdjM2I3YzhkNjQ4NGY3MzhmMGU3ODRkMDA4YjNiNjkiIHN0eWxlPSJ3aWR0aDogMTAwLjAlOyBoZWlnaHQ6IDEwMC4wJTsiPlRveSAvIEdhbWUgU3RvcmU8L2Rpdj4nKVswXTsKICAgICAgICAgICAgICAgIHBvcHVwXzJmYmZmODAwYjgyZDRlZjhiMmFjMTNjYTMxYWZkMWJjLnNldENvbnRlbnQoaHRtbF85N2MzYjdjOGQ2NDg0ZjczOGYwZTc4NGQwMDhiM2I2OSk7CiAgICAgICAgICAgIAoKICAgICAgICAgICAgY2lyY2xlX21hcmtlcl9kNzUyOGNmNDczZmY0MGZlYjBhODc1MmU4YTg0YWI4YS5iaW5kUG9wdXAocG9wdXBfMmZiZmY4MDBiODJkNGVmOGIyYWMxM2NhMzFhZmQxYmMpOwoKICAgICAgICAgICAgCiAgICAgICAgCiAgICAKICAgICAgICAgICAgdmFyIGNpcmNsZV9tYXJrZXJfNzAxNDE5NjU0ODMyNGVlNzgzYzBhMWQ3ODZlZmEwMTcgPSBMLmNpcmNsZU1hcmtlcigKICAgICAgICAgICAgICAgIFs0MC43MTQzNDkxNzY1NjY2ODUsLTc0LjAxMjgyOTgyNTkzNTk3XSwKICAgICAgICAgICAgICAgIHsKICAiYnViYmxpbmdNb3VzZUV2ZW50cyI6IHRydWUsCiAgImNvbG9yIjogImJsdWUiLAogICJkYXNoQXJyYXkiOiBudWxsLAogICJkYXNoT2Zmc2V0IjogbnVsbCwKICAiZmlsbCI6IHRydWUsCiAgImZpbGxDb2xvciI6ICJibHVlIiwKICAiZmlsbE9wYWNpdHkiOiAwLjYsCiAgImZpbGxSdWxlIjogImV2ZW5vZGQiLAogICJsaW5lQ2FwIjogInJvdW5kIiwKICAibGluZUpvaW4iOiAicm91bmQiLAogICJvcGFjaXR5IjogMS4wLAogICJyYWRpdXMiOiA1LAogICJzdHJva2UiOiB0cnVlLAogICJ3ZWlnaHQiOiAzCn0KICAgICAgICAgICAgICAgICkuYWRkVG8obWFwXzA0ZDEyY2M1YmRjNTQ5ODdiZjE0ODEwZmU4MDYxYTMzKTsKICAgICAgICAgICAgCiAgICAKICAgICAgICAgICAgdmFyIHBvcHVwXzRhZTc2YjFlNDEwNjQ4N2FiYmYzNGE4MTkwMDQxN2I1ID0gTC5wb3B1cCh7bWF4V2lkdGg6ICczMDAnfSk7CgogICAgICAgICAgICAKICAgICAgICAgICAgICAgIHZhciBodG1sX2Q1ZjZlMjA0NzdiZTQ2MmRiNTEwY2RhMmQ5YjU3MThmID0gJCgnPGRpdiBpZD0iaHRtbF9kNWY2ZTIwNDc3YmU0NjJkYjUxMGNkYTJkOWI1NzE4ZiIgc3R5bGU9IndpZHRoOiAxMDAuMCU7IGhlaWdodDogMTAwLjAlOyI+QXJ0cyAmIENyYWZ0cyBTdG9yZTwvZGl2PicpWzBdOwogICAgICAgICAgICAgICAgcG9wdXBfNGFlNzZiMWU0MTA2NDg3YWJiZjM0YTgxOTAwNDE3YjUuc2V0Q29udGVudChodG1sX2Q1ZjZlMjA0NzdiZTQ2MmRiNTEwY2RhMmQ5YjU3MThmKTsKICAgICAgICAgICAgCgogICAgICAgICAgICBjaXJjbGVfbWFya2VyXzcwMTQxOTY1NDgzMjRlZTc4M2MwYTFkNzg2ZWZhMDE3LmJpbmRQb3B1cChwb3B1cF80YWU3NmIxZTQxMDY0ODdhYmJmMzRhODE5MDA0MTdiNSk7CgogICAgICAgICAgICAKICAgICAgICAKICAgIAogICAgICAgICAgICB2YXIgY2lyY2xlX21hcmtlcl80ZjhlNTZiOTRlMzU0MmQ4OWFiOTc4MDZhMjA2Mjg3NyA9IEwuY2lyY2xlTWFya2VyKAogICAgICAgICAgICAgICAgWzQwLjcxNjg0ODEzMzk5MTc4LC03NC4wMTI5NDQ1OTA5NTMwNV0sCiAgICAgICAgICAgICAgICB7CiAgImJ1YmJsaW5nTW91c2VFdmVudHMiOiB0cnVlLAogICJjb2xvciI6ICJibHVlIiwKICAiZGFzaEFycmF5IjogbnVsbCwKICAiZGFzaE9mZnNldCI6IG51bGwsCiAgImZpbGwiOiB0cnVlLAogICJmaWxsQ29sb3IiOiAiYmx1ZSIsCiAgImZpbGxPcGFjaXR5IjogMC42LAogICJmaWxsUnVsZSI6ICJldmVub2RkIiwKICAibGluZUNhcCI6ICJyb3VuZCIsCiAgImxpbmVKb2luIjogInJvdW5kIiwKICAib3BhY2l0eSI6IDEuMCwKICAicmFkaXVzIjogNSwKICAic3Ryb2tlIjogdHJ1ZSwKICAid2VpZ2h0IjogMwp9CiAgICAgICAgICAgICAgICApLmFkZFRvKG1hcF8wNGQxMmNjNWJkYzU0OTg3YmYxNDgxMGZlODA2MWEzMyk7CiAgICAgICAgICAgIAogICAgCiAgICAgICAgICAgIHZhciBwb3B1cF8zYzZlYjc5YmQ4Y2M0NzgxYmI3MWFmZmQ0ZmFhNWQ1NyA9IEwucG9wdXAoe21heFdpZHRoOiAnMzAwJ30pOwoKICAgICAgICAgICAgCiAgICAgICAgICAgICAgICB2YXIgaHRtbF85YmMxMTk5YTE0NjM0MDQwYTJjOTAxODI5NWJhYTQxNyA9ICQoJzxkaXYgaWQ9Imh0bWxfOWJjMTE5OWExNDYzNDA0MGEyYzkwMTgyOTViYWE0MTciIHN0eWxlPSJ3aWR0aDogMTAwLjAlOyBoZWlnaHQ6IDEwMC4wJTsiPlRveSAvIEdhbWUgU3RvcmU8L2Rpdj4nKVswXTsKICAgICAgICAgICAgICAgIHBvcHVwXzNjNmViNzliZDhjYzQ3ODFiYjcxYWZmZDRmYWE1ZDU3LnNldENvbnRlbnQoaHRtbF85YmMxMTk5YTE0NjM0MDQwYTJjOTAxODI5NWJhYTQxNyk7CiAgICAgICAgICAgIAoKICAgICAgICAgICAgY2lyY2xlX21hcmtlcl80ZjhlNTZiOTRlMzU0MmQ4OWFiOTc4MDZhMjA2Mjg3Ny5iaW5kUG9wdXAocG9wdXBfM2M2ZWI3OWJkOGNjNDc4MWJiNzFhZmZkNGZhYTVkNTcpOwoKICAgICAgICAgICAgCiAgICAgICAgCiAgICAKICAgICAgICAgICAgdmFyIGNpcmNsZV9tYXJrZXJfMDljMjk0YzMwODZlNDYxZDllZjk1NDQzZjgzYjMwNGQgPSBMLmNpcmNsZU1hcmtlcigKICAgICAgICAgICAgICAgIFs0MC43MTI5MzY3Njk2MDIsLTc0LjAxMzAzMDY2NDY3MDYyXSwKICAgICAgICAgICAgICAgIHsKICAiYnViYmxpbmdNb3VzZUV2ZW50cyI6IHRydWUsCiAgImNvbG9yIjogImJsdWUiLAogICJkYXNoQXJyYXkiOiBudWxsLAogICJkYXNoT2Zmc2V0IjogbnVsbCwKICAiZmlsbCI6IHRydWUsCiAgImZpbGxDb2xvciI6ICJibHVlIiwKICAiZmlsbE9wYWNpdHkiOiAwLjYsCiAgImZpbGxSdWxlIjogImV2ZW5vZGQiLAogICJsaW5lQ2FwIjogInJvdW5kIiwKICAibGluZUpvaW4iOiAicm91bmQiLAogICJvcGFjaXR5IjogMS4wLAogICJyYWRpdXMiOiA1LAogICJzdHJva2UiOiB0cnVlLAogICJ3ZWlnaHQiOiAzCn0KICAgICAgICAgICAgICAgICkuYWRkVG8obWFwXzA0ZDEyY2M1YmRjNTQ5ODdiZjE0ODEwZmU4MDYxYTMzKTsKICAgICAgICAgICAgCiAgICAKICAgICAgICAgICAgdmFyIHBvcHVwX2Q4MDhiMGViNzIwYjRhOGNiYmM5ZmNjY2NkYTAwZGJiID0gTC5wb3B1cCh7bWF4V2lkdGg6ICczMDAnfSk7CgogICAgICAgICAgICAKICAgICAgICAgICAgICAgIHZhciBodG1sXzM2ZjNiNWVmNDAwMzQwZGI5NmY2ODM0YWVkMzFhMWVjID0gJCgnPGRpdiBpZD0iaHRtbF8zNmYzYjVlZjQwMDM0MGRiOTZmNjgzNGFlZDMxYTFlYyIgc3R5bGU9IndpZHRoOiAxMDAuMCU7IGhlaWdodDogMTAwLjAlOyI+R291cm1ldCBTaG9wPC9kaXY+JylbMF07CiAgICAgICAgICAgICAgICBwb3B1cF9kODA4YjBlYjcyMGI0YThjYmJjOWZjY2NjZGEwMGRiYi5zZXRDb250ZW50KGh0bWxfMzZmM2I1ZWY0MDAzNDBkYjk2ZjY4MzRhZWQzMWExZWMpOwogICAgICAgICAgICAKCiAgICAgICAgICAgIGNpcmNsZV9tYXJrZXJfMDljMjk0YzMwODZlNDYxZDllZjk1NDQzZjgzYjMwNGQuYmluZFBvcHVwKHBvcHVwX2Q4MDhiMGViNzIwYjRhOGNiYmM5ZmNjY2NkYTAwZGJiKTsKCiAgICAgICAgICAgIAogICAgICAgIAogICAgCiAgICAgICAgICAgIHZhciBjaXJjbGVfbWFya2VyXzlhMDNiOGE0Y2QxOTQ3OGNhYmU4MjVmNzJlOTY5MDJkID0gTC5jaXJjbGVNYXJrZXIoCiAgICAgICAgICAgICAgICBbNDAuNzEyMDg5OTY4OTUzNDUsLTc0LjAxMzQwMzY1MDMzMjA0XSwKICAgICAgICAgICAgICAgIHsKICAiYnViYmxpbmdNb3VzZUV2ZW50cyI6IHRydWUsCiAgImNvbG9yIjogImJsdWUiLAogICJkYXNoQXJyYXkiOiBudWxsLAogICJkYXNoT2Zmc2V0IjogbnVsbCwKICAiZmlsbCI6IHRydWUsCiAgImZpbGxDb2xvciI6ICJibHVlIiwKICAiZmlsbE9wYWNpdHkiOiAwLjYsCiAgImZpbGxSdWxlIjogImV2ZW5vZGQiLAogICJsaW5lQ2FwIjogInJvdW5kIiwKICAibGluZUpvaW4iOiAicm91bmQiLAogICJvcGFjaXR5IjogMS4wLAogICJyYWRpdXMiOiA1LAogICJzdHJva2UiOiB0cnVlLAogICJ3ZWlnaHQiOiAzCn0KICAgICAgICAgICAgICAgICkuYWRkVG8obWFwXzA0ZDEyY2M1YmRjNTQ5ODdiZjE0ODEwZmU4MDYxYTMzKTsKICAgICAgICAgICAgCiAgICAKICAgICAgICAgICAgdmFyIHBvcHVwXzVlOWE2ZDIwZjYwZDQ1MGJhMWUyMDE1YTA4MWY4NmY2ID0gTC5wb3B1cCh7bWF4V2lkdGg6ICczMDAnfSk7CgogICAgICAgICAgICAKICAgICAgICAgICAgICAgIHZhciBodG1sXzUyMzZmOWU4MzY1YzRhOWQ4NzI4YWZiODRkZDA0MGI2ID0gJCgnPGRpdiBpZD0iaHRtbF81MjM2ZjllODM2NWM0YTlkODcyOGFmYjg0ZGQwNDBiNiIgc3R5bGU9IndpZHRoOiAxMDAuMCU7IGhlaWdodDogMTAwLjAlOyI+R2VuZXJhbCBFbnRlcnRhaW5tZW50PC9kaXY+JylbMF07CiAgICAgICAgICAgICAgICBwb3B1cF81ZTlhNmQyMGY2MGQ0NTBiYTFlMjAxNWEwODFmODZmNi5zZXRDb250ZW50KGh0bWxfNTIzNmY5ZTgzNjVjNGE5ZDg3MjhhZmI4NGRkMDQwYjYpOwogICAgICAgICAgICAKCiAgICAgICAgICAgIGNpcmNsZV9tYXJrZXJfOWEwM2I4YTRjZDE5NDc4Y2FiZTgyNWY3MmU5NjkwMmQuYmluZFBvcHVwKHBvcHVwXzVlOWE2ZDIwZjYwZDQ1MGJhMWUyMDE1YTA4MWY4NmY2KTsKCiAgICAgICAgICAgIAogICAgICAgIAogICAgCiAgICAgICAgICAgIHZhciBjaXJjbGVfbWFya2VyXzllMGEyYWIxOWFjNjRlZmFhOWJhMTNiMmRlMDNkMGExID0gTC5jaXJjbGVNYXJrZXIoCiAgICAgICAgICAgICAgICBbNDAuNzExMzgwMTI4OTE0OTIsLTc0LjAxMzkxNDM1MjU5NDk1XSwKICAgICAgICAgICAgICAgIHsKICAiYnViYmxpbmdNb3VzZUV2ZW50cyI6IHRydWUsCiAgImNvbG9yIjogImJsdWUiLAogICJkYXNoQXJyYXkiOiBudWxsLAogICJkYXNoT2Zmc2V0IjogbnVsbCwKICAiZmlsbCI6IHRydWUsCiAgImZpbGxDb2xvciI6ICJibHVlIiwKICAiZmlsbE9wYWNpdHkiOiAwLjYsCiAgImZpbGxSdWxlIjogImV2ZW5vZGQiLAogICJsaW5lQ2FwIjogInJvdW5kIiwKICAibGluZUpvaW4iOiAicm91bmQiLAogICJvcGFjaXR5IjogMS4wLAogICJyYWRpdXMiOiA1LAogICJzdHJva2UiOiB0cnVlLAogICJ3ZWlnaHQiOiAzCn0KICAgICAgICAgICAgICAgICkuYWRkVG8obWFwXzA0ZDEyY2M1YmRjNTQ5ODdiZjE0ODEwZmU4MDYxYTMzKTsKICAgICAgICAgICAgCiAgICAKICAgICAgICAgICAgdmFyIHBvcHVwX2EwYjlkODRhY2U1NzQ0YmQ5NTNmOGQzZjE5ZmVhMGIyID0gTC5wb3B1cCh7bWF4V2lkdGg6ICczMDAnfSk7CgogICAgICAgICAgICAKICAgICAgICAgICAgICAgIHZhciBodG1sXzM4MjJlZjU3OGE3ZTQxODA5OGU5N2FiNmVhMWYwNzA2ID0gJCgnPGRpdiBpZD0iaHRtbF8zODIyZWY1NzhhN2U0MTgwOThlOTdhYjZlYTFmMDcwNiIgc3R5bGU9IndpZHRoOiAxMDAuMCU7IGhlaWdodDogMTAwLjAlOyI+VGhyaWZ0IC8gVmludGFnZSBTdG9yZTwvZGl2PicpWzBdOwogICAgICAgICAgICAgICAgcG9wdXBfYTBiOWQ4NGFjZTU3NDRiZDk1M2Y4ZDNmMTlmZWEwYjIuc2V0Q29udGVudChodG1sXzM4MjJlZjU3OGE3ZTQxODA5OGU5N2FiNmVhMWYwNzA2KTsKICAgICAgICAgICAgCgogICAgICAgICAgICBjaXJjbGVfbWFya2VyXzllMGEyYWIxOWFjNjRlZmFhOWJhMTNiMmRlMDNkMGExLmJpbmRQb3B1cChwb3B1cF9hMGI5ZDg0YWNlNTc0NGJkOTUzZjhkM2YxOWZlYTBiMik7CgogICAgICAgICAgICAKICAgICAgICAKPC9zY3JpcHQ+ onload=\"this.contentDocument.open();this.contentDocument.write(atob(this.getAttribute('data-html')));this.contentDocument.close();\" allowfullscreen webkitallowfullscreen mozallowfullscreen></iframe></div></div>"
      ],
      "text/plain": [
       "<folium.folium.Map at 0x7f6b4c291828>"
      ]
     },
     "execution_count": 35,
     "metadata": {},
     "output_type": "execute_result"
    }
   ],
   "source": [
    "# display map\n",
    "venues_map"
   ]
  },
  {
   "cell_type": "markdown",
   "metadata": {
    "button": false,
    "deletable": true,
    "new_sheet": false,
    "run_control": {
     "read_only": false
    }
   },
   "source": [
    "<a id=\"item6\"></a>"
   ]
  },
  {
   "cell_type": "markdown",
   "metadata": {
    "button": false,
    "deletable": true,
    "new_sheet": false,
    "run_control": {
     "read_only": false
    }
   },
   "source": [
    "   "
   ]
  },
  {
   "cell_type": "markdown",
   "metadata": {
    "button": false,
    "deletable": true,
    "new_sheet": false,
    "run_control": {
     "read_only": false
    }
   },
   "source": [
    "### Thank you for completing this lab!\n",
    "\n",
    "This notebook was created by [Alex Aklson](https://www.linkedin.com/in/aklson/). I hope you found this lab interesting and educational. Feel free to contact me if you have any questions!"
   ]
  },
  {
   "cell_type": "markdown",
   "metadata": {
    "button": false,
    "deletable": true,
    "new_sheet": false,
    "run_control": {
     "read_only": false
    }
   },
   "source": [
    "This notebook is part of a course on **Coursera** called *Applied Data Science Capstone*. If you accessed this notebook outside the course, you can take this course online by clicking [here](http://cocl.us/DP0701EN_Coursera_Week2_LAB1)."
   ]
  },
  {
   "cell_type": "markdown",
   "metadata": {
    "button": false,
    "deletable": true,
    "new_sheet": false,
    "run_control": {
     "read_only": false
    }
   },
   "source": [
    "<hr>\n",
    "Copyright &copy; 2018 [Cognitive Class](https://cognitiveclass.ai/?utm_source=bducopyrightlink&utm_medium=dswb&utm_campaign=bdu). This notebook and its source code are released under the terms of the [MIT License](https://bigdatauniversity.com/mit-license/)."
   ]
  }
 ],
 "metadata": {
  "kernelspec": {
   "display_name": "Python",
   "language": "python",
   "name": "conda-env-python-py"
  },
  "language_info": {
   "codemirror_mode": {
    "name": "ipython",
    "version": 3
   },
   "file_extension": ".py",
   "mimetype": "text/x-python",
   "name": "python",
   "nbconvert_exporter": "python",
   "pygments_lexer": "ipython3",
   "version": "3.6.10"
  },
  "widgets": {
   "state": {},
   "version": "1.1.2"
  }
 },
 "nbformat": 4,
 "nbformat_minor": 4
}
