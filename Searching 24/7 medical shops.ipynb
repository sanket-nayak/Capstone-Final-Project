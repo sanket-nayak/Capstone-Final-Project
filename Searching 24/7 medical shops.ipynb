{
    "cells": [
        {
            "cell_type": "markdown",
            "metadata": {
                "collapsed": true
            },
            "source": "Problem Definition"
        },
        {
            "cell_type": "markdown",
            "metadata": {},
            "source": "A tourist has arrived in a particular city at night and needs medicine on urgent basis. He is searching for a medical store which is open 24/7 in the city and which is nearest from his home location. The foursquare location data can be used to search the medical store and this solution can then be used by any person who is new to a city and in need of urgent medicine"
        },
        {
            "cell_type": "markdown",
            "metadata": {},
            "source": "Data Description"
        },
        {
            "cell_type": "markdown",
            "metadata": {},
            "source": "The data in use here will be a list of medical shops in New York from which the nearest 24/7 working medical shop can be searched which is nearest to one's location. Below locator details and search query will be used to fetch medical stores\naddress = '102 North End Ave, New York, NY'\ngeolocator = Nominatim(user_agent=\"foursquare_agent\") location = geolocator.geocode(address) latitude = location.latitude longitude = location.longitude print(latitude, longitude)\nsearch_query = 'Medical Stores' radius = 500 print(search_query + ' .... OK!')\n"
        }
    ],
    "metadata": {
        "kernelspec": {
            "display_name": "Python 3.6",
            "language": "python",
            "name": "python3"
        },
        "language_info": {
            "codemirror_mode": {
                "name": "ipython",
                "version": 3
            },
            "file_extension": ".py",
            "mimetype": "text/x-python",
            "name": "python",
            "nbconvert_exporter": "python",
            "pygments_lexer": "ipython3",
            "version": "3.6.9"
        }
    },
    "nbformat": 4,
    "nbformat_minor": 1
}